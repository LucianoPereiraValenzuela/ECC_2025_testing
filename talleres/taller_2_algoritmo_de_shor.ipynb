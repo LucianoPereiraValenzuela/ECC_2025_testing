{
  "cells": [
    {
      "cell_type": "code",
      "execution_count": null,
      "id": "edc8ac27",
      "metadata": {
        "colab": {
          "base_uri": "https://localhost:8080/"
        },
        "id": "edc8ac27",
        "outputId": "404370c2-e316-43a1-9796-07e71d804f67"
      },
      "outputs": [
        {
          "name": "stdout",
          "output_type": "stream",
          "text": [
            "Collecting git+https://github.com/LucianoPereiraValenzuela/ECC_2025_testing.git\n",
            "  Cloning https://github.com/LucianoPereiraValenzuela/ECC_2025_testing.git to /tmp/pip-req-build-p_9y9_we\n",
            "  Running command git clone --filter=blob:none --quiet https://github.com/LucianoPereiraValenzuela/ECC_2025_testing.git /tmp/pip-req-build-p_9y9_we\n",
            "  Resolved https://github.com/LucianoPereiraValenzuela/ECC_2025_testing.git to commit cbb6fe5b90d23edab6b22fd7bfd99cc3557e0bb6\n",
            "  Preparing metadata (setup.py) ... \u001b[?25l\u001b[?25hdone\n",
            "Requirement already satisfied: numpy in /usr/local/lib/python3.10/dist-packages (from ECC2025==0.1.2) (1.26.4)\n",
            "Requirement already satisfied: scipy in /usr/local/lib/python3.10/dist-packages (from ECC2025==0.1.2) (1.13.1)\n",
            "Collecting qiskit (from ECC2025==0.1.2)\n",
            "  Downloading qiskit-1.3.1-cp39-abi3-manylinux_2_17_x86_64.manylinux2014_x86_64.whl.metadata (12 kB)\n",
            "Collecting qiskit_ibm_runtime (from ECC2025==0.1.2)\n",
            "  Downloading qiskit_ibm_runtime-0.34.0-py3-none-any.whl.metadata (3.0 kB)\n",
            "Collecting qiskit_aer (from ECC2025==0.1.2)\n",
            "  Downloading qiskit_aer-0.15.1-cp310-cp310-manylinux_2_17_x86_64.manylinux2014_x86_64.whl.metadata (8.0 kB)\n",
            "Collecting pylatexenc (from ECC2025==0.1.2)\n",
            "  Downloading pylatexenc-2.10.tar.gz (162 kB)\n",
            "\u001b[2K     \u001b[90m━━━━━━━━━━━━━━━━━━━━━━━━━━━━━━━━━━━━━━━━\u001b[0m \u001b[32m162.6/162.6 kB\u001b[0m \u001b[31m3.1 MB/s\u001b[0m eta \u001b[36m0:00:00\u001b[0m\n",
            "\u001b[?25h  Preparing metadata (setup.py) ... \u001b[?25l\u001b[?25hdone\n",
            "Requirement already satisfied: matplotlib in /usr/local/lib/python3.10/dist-packages (from ECC2025==0.1.2) (3.8.0)\n",
            "Requirement already satisfied: scikit-learn in /usr/local/lib/python3.10/dist-packages (from ECC2025==0.1.2) (1.6.0)\n",
            "Requirement already satisfied: pandas in /usr/local/lib/python3.10/dist-packages (from ECC2025==0.1.2) (2.2.2)\n",
            "Collecting qiskit_algorithms (from ECC2025==0.1.2)\n",
            "  Downloading qiskit_algorithms-0.3.1-py3-none-any.whl.metadata (4.2 kB)\n",
            "Requirement already satisfied: seaborn in /usr/local/lib/python3.10/dist-packages (from ECC2025==0.1.2) (0.13.2)\n",
            "Requirement already satisfied: contourpy>=1.0.1 in /usr/local/lib/python3.10/dist-packages (from matplotlib->ECC2025==0.1.2) (1.3.1)\n",
            "Requirement already satisfied: cycler>=0.10 in /usr/local/lib/python3.10/dist-packages (from matplotlib->ECC2025==0.1.2) (0.12.1)\n",
            "Requirement already satisfied: fonttools>=4.22.0 in /usr/local/lib/python3.10/dist-packages (from matplotlib->ECC2025==0.1.2) (4.55.3)\n",
            "Requirement already satisfied: kiwisolver>=1.0.1 in /usr/local/lib/python3.10/dist-packages (from matplotlib->ECC2025==0.1.2) (1.4.7)\n",
            "Requirement already satisfied: packaging>=20.0 in /usr/local/lib/python3.10/dist-packages (from matplotlib->ECC2025==0.1.2) (24.2)\n",
            "Requirement already satisfied: pillow>=6.2.0 in /usr/local/lib/python3.10/dist-packages (from matplotlib->ECC2025==0.1.2) (11.0.0)\n",
            "Requirement already satisfied: pyparsing>=2.3.1 in /usr/local/lib/python3.10/dist-packages (from matplotlib->ECC2025==0.1.2) (3.2.0)\n",
            "Requirement already satisfied: python-dateutil>=2.7 in /usr/local/lib/python3.10/dist-packages (from matplotlib->ECC2025==0.1.2) (2.8.2)\n",
            "Requirement already satisfied: pytz>=2020.1 in /usr/local/lib/python3.10/dist-packages (from pandas->ECC2025==0.1.2) (2024.2)\n",
            "Requirement already satisfied: tzdata>=2022.7 in /usr/local/lib/python3.10/dist-packages (from pandas->ECC2025==0.1.2) (2024.2)\n",
            "Collecting rustworkx>=0.15.0 (from qiskit->ECC2025==0.1.2)\n",
            "  Downloading rustworkx-0.15.1-cp38-abi3-manylinux_2_17_x86_64.manylinux2014_x86_64.whl.metadata (9.9 kB)\n",
            "Requirement already satisfied: sympy>=1.3 in /usr/local/lib/python3.10/dist-packages (from qiskit->ECC2025==0.1.2) (1.13.1)\n",
            "Collecting dill>=0.3 (from qiskit->ECC2025==0.1.2)\n",
            "  Downloading dill-0.3.9-py3-none-any.whl.metadata (10 kB)\n",
            "Collecting stevedore>=3.0.0 (from qiskit->ECC2025==0.1.2)\n",
            "  Downloading stevedore-5.4.0-py3-none-any.whl.metadata (2.3 kB)\n",
            "Requirement already satisfied: typing-extensions in /usr/local/lib/python3.10/dist-packages (from qiskit->ECC2025==0.1.2) (4.12.2)\n",
            "Collecting symengine<0.14,>=0.11 (from qiskit->ECC2025==0.1.2)\n",
            "  Downloading symengine-0.13.0-cp310-cp310-manylinux_2_17_x86_64.manylinux2014_x86_64.whl.metadata (1.2 kB)\n",
            "Requirement already satisfied: psutil>=5 in /usr/local/lib/python3.10/dist-packages (from qiskit_aer->ECC2025==0.1.2) (5.9.5)\n",
            "Requirement already satisfied: requests>=2.19 in /usr/local/lib/python3.10/dist-packages (from qiskit_ibm_runtime->ECC2025==0.1.2) (2.32.3)\n",
            "Collecting requests-ntlm>=1.1.0 (from qiskit_ibm_runtime->ECC2025==0.1.2)\n",
            "  Downloading requests_ntlm-1.3.0-py3-none-any.whl.metadata (2.4 kB)\n",
            "Requirement already satisfied: urllib3>=1.21.1 in /usr/local/lib/python3.10/dist-packages (from qiskit_ibm_runtime->ECC2025==0.1.2) (2.2.3)\n",
            "Requirement already satisfied: websocket-client>=1.5.1 in /usr/local/lib/python3.10/dist-packages (from qiskit_ibm_runtime->ECC2025==0.1.2) (1.8.0)\n",
            "Collecting ibm-platform-services>=0.22.6 (from qiskit_ibm_runtime->ECC2025==0.1.2)\n",
            "  Downloading ibm_platform_services-0.59.0-py3-none-any.whl.metadata (9.0 kB)\n",
            "Collecting pydantic<2.10,>=2.5.0 (from qiskit_ibm_runtime->ECC2025==0.1.2)\n",
            "  Downloading pydantic-2.9.2-py3-none-any.whl.metadata (149 kB)\n",
            "\u001b[2K     \u001b[90m━━━━━━━━━━━━━━━━━━━━━━━━━━━━━━━━━━━━━━━━\u001b[0m \u001b[32m149.4/149.4 kB\u001b[0m \u001b[31m6.2 MB/s\u001b[0m eta \u001b[36m0:00:00\u001b[0m\n",
            "\u001b[?25hRequirement already satisfied: joblib>=1.2.0 in /usr/local/lib/python3.10/dist-packages (from scikit-learn->ECC2025==0.1.2) (1.4.2)\n",
            "Requirement already satisfied: threadpoolctl>=3.1.0 in /usr/local/lib/python3.10/dist-packages (from scikit-learn->ECC2025==0.1.2) (3.5.0)\n",
            "Collecting ibm-cloud-sdk-core<4.0.0,>=3.22.0 (from ibm-platform-services>=0.22.6->qiskit_ibm_runtime->ECC2025==0.1.2)\n",
            "  Downloading ibm_cloud_sdk_core-3.22.0-py3-none-any.whl.metadata (8.6 kB)\n",
            "Requirement already satisfied: annotated-types>=0.6.0 in /usr/local/lib/python3.10/dist-packages (from pydantic<2.10,>=2.5.0->qiskit_ibm_runtime->ECC2025==0.1.2) (0.7.0)\n",
            "Collecting pydantic-core==2.23.4 (from pydantic<2.10,>=2.5.0->qiskit_ibm_runtime->ECC2025==0.1.2)\n",
            "  Downloading pydantic_core-2.23.4-cp310-cp310-manylinux_2_17_x86_64.manylinux2014_x86_64.whl.metadata (6.6 kB)\n",
            "Requirement already satisfied: six>=1.5 in /usr/local/lib/python3.10/dist-packages (from python-dateutil>=2.7->matplotlib->ECC2025==0.1.2) (1.17.0)\n",
            "Requirement already satisfied: charset-normalizer<4,>=2 in /usr/local/lib/python3.10/dist-packages (from requests>=2.19->qiskit_ibm_runtime->ECC2025==0.1.2) (3.4.0)\n",
            "Requirement already satisfied: idna<4,>=2.5 in /usr/local/lib/python3.10/dist-packages (from requests>=2.19->qiskit_ibm_runtime->ECC2025==0.1.2) (3.10)\n",
            "Requirement already satisfied: certifi>=2017.4.17 in /usr/local/lib/python3.10/dist-packages (from requests>=2.19->qiskit_ibm_runtime->ECC2025==0.1.2) (2024.12.14)\n",
            "Requirement already satisfied: cryptography>=1.3 in /usr/local/lib/python3.10/dist-packages (from requests-ntlm>=1.1.0->qiskit_ibm_runtime->ECC2025==0.1.2) (43.0.3)\n",
            "Collecting pyspnego>=0.4.0 (from requests-ntlm>=1.1.0->qiskit_ibm_runtime->ECC2025==0.1.2)\n",
            "  Downloading pyspnego-0.11.2-py3-none-any.whl.metadata (5.4 kB)\n",
            "Collecting pbr>=2.0.0 (from stevedore>=3.0.0->qiskit->ECC2025==0.1.2)\n",
            "  Downloading pbr-6.1.0-py2.py3-none-any.whl.metadata (3.4 kB)\n",
            "Requirement already satisfied: mpmath<1.4,>=1.1.0 in /usr/local/lib/python3.10/dist-packages (from sympy>=1.3->qiskit->ECC2025==0.1.2) (1.3.0)\n",
            "Requirement already satisfied: cffi>=1.12 in /usr/local/lib/python3.10/dist-packages (from cryptography>=1.3->requests-ntlm>=1.1.0->qiskit_ibm_runtime->ECC2025==0.1.2) (1.17.1)\n",
            "Requirement already satisfied: PyJWT<3.0.0,>=2.8.0 in /usr/local/lib/python3.10/dist-packages (from ibm-cloud-sdk-core<4.0.0,>=3.22.0->ibm-platform-services>=0.22.6->qiskit_ibm_runtime->ECC2025==0.1.2) (2.10.1)\n",
            "Requirement already satisfied: pycparser in /usr/local/lib/python3.10/dist-packages (from cffi>=1.12->cryptography>=1.3->requests-ntlm>=1.1.0->qiskit_ibm_runtime->ECC2025==0.1.2) (2.22)\n",
            "Downloading qiskit-1.3.1-cp39-abi3-manylinux_2_17_x86_64.manylinux2014_x86_64.whl (6.7 MB)\n",
            "\u001b[2K   \u001b[90m━━━━━━━━━━━━━━━━━━━━━━━━━━━━━━━━━━━━━━━━\u001b[0m \u001b[32m6.7/6.7 MB\u001b[0m \u001b[31m43.3 MB/s\u001b[0m eta \u001b[36m0:00:00\u001b[0m\n",
            "\u001b[?25hDownloading qiskit_aer-0.15.1-cp310-cp310-manylinux_2_17_x86_64.manylinux2014_x86_64.whl (12.3 MB)\n",
            "\u001b[2K   \u001b[90m━━━━━━━━━━━━━━━━━━━━━━━━━━━━━━━━━━━━━━━━\u001b[0m \u001b[32m12.3/12.3 MB\u001b[0m \u001b[31m51.0 MB/s\u001b[0m eta \u001b[36m0:00:00\u001b[0m\n",
            "\u001b[?25hDownloading qiskit_algorithms-0.3.1-py3-none-any.whl (310 kB)\n",
            "\u001b[2K   \u001b[90m━━━━━━━━━━━━━━━━━━━━━━━━━━━━━━━━━━━━━━━━\u001b[0m \u001b[32m310.5/310.5 kB\u001b[0m \u001b[31m16.9 MB/s\u001b[0m eta \u001b[36m0:00:00\u001b[0m\n",
            "\u001b[?25hDownloading qiskit_ibm_runtime-0.34.0-py3-none-any.whl (3.0 MB)\n",
            "\u001b[2K   \u001b[90m━━━━━━━━━━━━━━━━━━━━━━━━━━━━━━━━━━━━━━━━\u001b[0m \u001b[32m3.0/3.0 MB\u001b[0m \u001b[31m47.8 MB/s\u001b[0m eta \u001b[36m0:00:00\u001b[0m\n",
            "\u001b[?25hDownloading dill-0.3.9-py3-none-any.whl (119 kB)\n",
            "\u001b[2K   \u001b[90m━━━━━━━━━━━━━━━━━━━━━━━━━━━━━━━━━━━━━━━━\u001b[0m \u001b[32m119.4/119.4 kB\u001b[0m \u001b[31m7.3 MB/s\u001b[0m eta \u001b[36m0:00:00\u001b[0m\n",
            "\u001b[?25hDownloading ibm_platform_services-0.59.0-py3-none-any.whl (340 kB)\n",
            "\u001b[2K   \u001b[90m━━━━━━━━━━━━━━━━━━━━━━━━━━━━━━━━━━━━━━━━\u001b[0m \u001b[32m340.8/340.8 kB\u001b[0m \u001b[31m18.6 MB/s\u001b[0m eta \u001b[36m0:00:00\u001b[0m\n",
            "\u001b[?25hDownloading pydantic-2.9.2-py3-none-any.whl (434 kB)\n",
            "\u001b[2K   \u001b[90m━━━━━━━━━━━━━━━━━━━━━━━━━━━━━━━━━━━━━━━━\u001b[0m \u001b[32m434.9/434.9 kB\u001b[0m \u001b[31m20.3 MB/s\u001b[0m eta \u001b[36m0:00:00\u001b[0m\n",
            "\u001b[?25hDownloading pydantic_core-2.23.4-cp310-cp310-manylinux_2_17_x86_64.manylinux2014_x86_64.whl (2.1 MB)\n",
            "\u001b[2K   \u001b[90m━━━━━━━━━━━━━━━━━━━━━━━━━━━━━━━━━━━━━━━━\u001b[0m \u001b[32m2.1/2.1 MB\u001b[0m \u001b[31m43.4 MB/s\u001b[0m eta \u001b[36m0:00:00\u001b[0m\n",
            "\u001b[?25hDownloading requests_ntlm-1.3.0-py3-none-any.whl (6.6 kB)\n",
            "Downloading rustworkx-0.15.1-cp38-abi3-manylinux_2_17_x86_64.manylinux2014_x86_64.whl (2.0 MB)\n",
            "\u001b[2K   \u001b[90m━━━━━━━━━━━━━━━━━━━━━━━━━━━━━━━━━━━━━━━━\u001b[0m \u001b[32m2.0/2.0 MB\u001b[0m \u001b[31m42.5 MB/s\u001b[0m eta \u001b[36m0:00:00\u001b[0m\n",
            "\u001b[?25hDownloading stevedore-5.4.0-py3-none-any.whl (49 kB)\n",
            "\u001b[2K   \u001b[90m━━━━━━━━━━━━━━━━━━━━━━━━━━━━━━━━━━━━━━━━\u001b[0m \u001b[32m49.5/49.5 kB\u001b[0m \u001b[31m2.9 MB/s\u001b[0m eta \u001b[36m0:00:00\u001b[0m\n",
            "\u001b[?25hDownloading symengine-0.13.0-cp310-cp310-manylinux_2_17_x86_64.manylinux2014_x86_64.whl (49.7 MB)\n",
            "\u001b[2K   \u001b[90m━━━━━━━━━━━━━━━━━━━━━━━━━━━━━━━━━━━━━━━━\u001b[0m \u001b[32m49.7/49.7 MB\u001b[0m \u001b[31m11.2 MB/s\u001b[0m eta \u001b[36m0:00:00\u001b[0m\n",
            "\u001b[?25hDownloading ibm_cloud_sdk_core-3.22.0-py3-none-any.whl (69 kB)\n",
            "\u001b[2K   \u001b[90m━━━━━━━━━━━━━━━━━━━━━━━━━━━━━━━━━━━━━━━━\u001b[0m \u001b[32m69.4/69.4 kB\u001b[0m \u001b[31m3.3 MB/s\u001b[0m eta \u001b[36m0:00:00\u001b[0m\n",
            "\u001b[?25hDownloading pbr-6.1.0-py2.py3-none-any.whl (108 kB)\n",
            "\u001b[2K   \u001b[90m━━━━━━━━━━━━━━━━━━━━━━━━━━━━━━━━━━━━━━━━\u001b[0m \u001b[32m108.5/108.5 kB\u001b[0m \u001b[31m6.0 MB/s\u001b[0m eta \u001b[36m0:00:00\u001b[0m\n",
            "\u001b[?25hDownloading pyspnego-0.11.2-py3-none-any.whl (130 kB)\n",
            "\u001b[2K   \u001b[90m━━━━━━━━━━━━━━━━━━━━━━━━━━━━━━━━━━━━━━━━\u001b[0m \u001b[32m130.5/130.5 kB\u001b[0m \u001b[31m7.7 MB/s\u001b[0m eta \u001b[36m0:00:00\u001b[0m\n",
            "\u001b[?25hBuilding wheels for collected packages: ECC2025, pylatexenc\n",
            "  Building wheel for ECC2025 (setup.py) ... \u001b[?25l\u001b[?25hdone\n",
            "  Created wheel for ECC2025: filename=ECC2025-0.1.2-py3-none-any.whl size=5884 sha256=ad11b26552dbee1213ff6c91af53f0495154554b7d4d59f56bcec4ab907dc0b6\n",
            "  Stored in directory: /tmp/pip-ephem-wheel-cache-78hvojes/wheels/24/c4/93/2cacec24cd9ccb28171cddc5c3384e7c8a4d993f5f48561ada\n",
            "  Building wheel for pylatexenc (setup.py) ... \u001b[?25l\u001b[?25hdone\n",
            "  Created wheel for pylatexenc: filename=pylatexenc-2.10-py3-none-any.whl size=136816 sha256=76f29ed5f02975e5114ef15684ee585a9e0e62040209c504866029f07c4ed7f1\n",
            "  Stored in directory: /root/.cache/pip/wheels/d3/31/8b/e09b0386afd80cfc556c00408c9aeea5c35c4d484a9c762fd5\n",
            "Successfully built ECC2025 pylatexenc\n",
            "Installing collected packages: pylatexenc, symengine, rustworkx, pydantic-core, pbr, dill, stevedore, pydantic, ibm-cloud-sdk-core, qiskit, pyspnego, ibm-platform-services, requests-ntlm, qiskit_algorithms, qiskit_aer, qiskit_ibm_runtime, ECC2025\n",
            "  Attempting uninstall: pydantic-core\n",
            "    Found existing installation: pydantic_core 2.27.1\n",
            "    Uninstalling pydantic_core-2.27.1:\n",
            "      Successfully uninstalled pydantic_core-2.27.1\n",
            "  Attempting uninstall: pydantic\n",
            "    Found existing installation: pydantic 2.10.3\n",
            "    Uninstalling pydantic-2.10.3:\n",
            "      Successfully uninstalled pydantic-2.10.3\n",
            "Successfully installed ECC2025-0.1.2 dill-0.3.9 ibm-cloud-sdk-core-3.22.0 ibm-platform-services-0.59.0 pbr-6.1.0 pydantic-2.9.2 pydantic-core-2.23.4 pylatexenc-2.10 pyspnego-0.11.2 qiskit-1.3.1 qiskit_aer-0.15.1 qiskit_algorithms-0.3.1 qiskit_ibm_runtime-0.34.0 requests-ntlm-1.3.0 rustworkx-0.15.1 stevedore-5.4.0 symengine-0.13.0\n"
          ]
        }
      ],
      "source": [
        "pip install git+https://github.com/LucianoPereiraValenzuela/ECC_2025_testing.git"
      ]
    },
    {
      "cell_type": "code",
      "execution_count": null,
      "id": "a7536dd0-5e40-4bc3-b975-3b1deb1ace95",
      "metadata": {
        "id": "a7536dd0-5e40-4bc3-b975-3b1deb1ace95"
      },
      "outputs": [],
      "source": [
        "import numpy as np\n",
        "import matplotlib.pyplot as plt"
      ]
    },
    {
      "cell_type": "markdown",
      "id": "77ba60fa-b7a7-4ade-8443-5d5079054d67",
      "metadata": {
        "id": "77ba60fa-b7a7-4ade-8443-5d5079054d67"
      },
      "source": [
        "### Complejidad Computacional\n",
        "\n",
        "La complejidad computacional se refiere a la cantidad de recursos necesarios para resolver un problema computacional, ya sea en tiempo (por la cantidad de operaciones matematicas que hay que realizar) o espacio (memoria), dependiendo del tamaño de la entrada del problema.\n",
        "\n",
        "Cuando decimos que un algoritmo es \"exponencialmente lento\" o que \"corre en tiempo polinomial\", estamos describiendo su complejidad en términos de la relación entre el tamaño de la entrada y el tiempo que necesita para resolver el problema:\n",
        "\n",
        "* Algoritmo de tiempo exponencial: El tiempo de ejecución de estos algoritmos aumenta exponencialmente con el tamaño de la entrada. Por ejemplo, con un tiempo de ejecución de $O(2^n)$, donde $n$ es el tamaño de la entrada, incluso un pequeño aumento en $n$ puede llevar a un aumento significativo en el tiempo necesario para completar el algoritmo. Son prácticos solo para problemas de tamaño pequeño.\n",
        "\n",
        "* Algoritmo de tiempo polinomial: Estos algoritmos son más eficientes, con un tiempo de ejecución que aumenta como una potencia del tamaño $n$ de la entrada.\n",
        "\n",
        "\n",
        "**Consideremos el siguiente ejemplo:**\n",
        "\n",
        "Para una entrada de $n=100$, un par algoritmos con un tiempo de ejecución polinomial, como $O(n^2)$ o $O(n^3)$, podrían ser completados teniendo que realizar alrededor de $10.000$ o $1.000.000$ operaciones, respectivamente, mientras que un algoritmo de tiempo exponencial, como $O(2^n)$, resulta intratable al requerir realizar el orden de $1.000.000.000.000.000.000.000.000.000.000$ operaciones.\n",
        "\n",
        "A continuación vemos un gráfico de como crece la complejidad en función del tamaño del dato de entrada para $4$ casos distintos: (i) complejidad lineal, (ii) logarítmica, (iii) polinomial y (iv) exponencial."
      ]
    },
    {
      "cell_type": "code",
      "execution_count": null,
      "id": "89629cbd-416d-4e0c-afed-3af31fb417b1",
      "metadata": {
        "colab": {
          "base_uri": "https://localhost:8080/",
          "height": 466
        },
        "id": "89629cbd-416d-4e0c-afed-3af31fb417b1",
        "outputId": "eee7e83a-4079-41c6-dd77-92ab403b26df",
        "scrolled": true
      },
      "outputs": [
        {
          "data": {
            "text/plain": [
              "<matplotlib.legend.Legend at 0x7b6f6140a050>"
            ]
          },
          "execution_count": 3,
          "metadata": {},
          "output_type": "execute_result"
        },
        {
          "data": {
            "image/png": "[encoded data removed]",
            "text/plain": [
              "<Figure size 640x480 with 1 Axes>"
            ]
          },
          "metadata": {},
          "output_type": "display_data"
        }
      ],
      "source": [
        "n = np.arange(1, 9)\n",
        "plt.plot(n, n, label = \"lineal, $n$\")\n",
        "plt.plot(n, np.log2(n), label = \"logaritmica, $\\log_{2}(n)$\")\n",
        "plt.plot(n, n**2, label = \"polinomial, $n^2$\")\n",
        "plt.plot(n, 2**n, label = \"exponencial, $2^n$\")\n",
        "\n",
        "plt.xlabel(\"n\")\n",
        "plt.ylabel(\"Complejidad\")\n",
        "plt.legend(loc='best')"
      ]
    },
    {
      "cell_type": "markdown",
      "id": "c9df2836-133d-4f51-912f-7ad79be2a768",
      "metadata": {
        "id": "c9df2836-133d-4f51-912f-7ad79be2a768"
      },
      "source": [
        "### Factorización\n",
        "\n",
        "Recordando de la clase de la mañana, para poder factorizar un número $N$ en dos factores $p$ y $q$ ($N=pq$) primos (o coprimos) necesitamos implementar las siguientes rutinas:\n",
        "\n",
        "- Operación módulo entre dos números\n",
        "- Máximo comun divisor\n",
        "- Encontrar el periódo de la exponenciación modular\n",
        "\n",
        "Notemos que la operación módulo y encontrar el máximo común divisor se pueden hacer eficientemente en un computador clásico.\n",
        "\n",
        "La dificultad computacional radica en encontrar el periódo $r$ de la función\n",
        "\n",
        "$$f(x) = \\mathrm{mod}(a^x, N)$$\n",
        "\n",
        "O lo que es equivalente, encontrar el $r$ tal que se cumpla\n",
        "\n",
        "$$\\mathrm{mod}(a^r-1, N)=0$$"
      ]
    },
    {
      "cell_type": "markdown",
      "id": "2df5db4c-6bc2-4389-825e-d4685bbe75b0",
      "metadata": {
        "id": "2df5db4c-6bc2-4389-825e-d4685bbe75b0"
      },
      "source": [
        "### Operación módulo\n",
        "\n",
        "La operación módulo se calcula como el resto de la division entre dos números. Puede ser implementada como"
      ]
    },
    {
      "cell_type": "code",
      "execution_count": null,
      "id": "8499a93c-ef6b-4445-8e0a-6d7965ee57b4",
      "metadata": {
        "colab": {
          "base_uri": "https://localhost:8080/"
        },
        "id": "8499a93c-ef6b-4445-8e0a-6d7965ee57b4",
        "outputId": "44afafb1-0af0-4c93-ebf4-21560c766e24"
      },
      "outputs": [
        {
          "data": {
            "text/plain": [
              "16"
            ]
          },
          "execution_count": 4,
          "metadata": {},
          "output_type": "execute_result"
        }
      ],
      "source": [
        "def mi_modulo(a, b):\n",
        "    division = a / b\n",
        "    parte_decimal = division - int(division)\n",
        "    resto = parte_decimal * b\n",
        "\n",
        "    return int(resto)\n",
        "\n",
        "# Ejemplo\n",
        "mi_modulo(48, 32)"
      ]
    },
    {
      "cell_type": "markdown",
      "id": "d3e465f5-3510-4609-b95a-f005cf1e6027",
      "metadata": {
        "id": "d3e465f5-3510-4609-b95a-f005cf1e6027"
      },
      "source": [
        "aunque es importante notar que esta operación se encuentra muy eficientemente implementada en la mayor parte de los lenguajes de programación, y tiene complejidad $O(1)$ (constante; su dificultad no crece con el tamaño de los números involucrados).\n",
        "\n",
        "En muchos lenguajes de programación, incluído python, se denota $\\mathrm{modulo}(a, b)$ como `a % b`."
      ]
    },
    {
      "cell_type": "code",
      "execution_count": null,
      "id": "315ed20a-32c6-40be-beae-42dbb56ef22d",
      "metadata": {
        "colab": {
          "base_uri": "https://localhost:8080/"
        },
        "id": "315ed20a-32c6-40be-beae-42dbb56ef22d",
        "outputId": "f6706459-ed7a-482f-8d06-bcf03442b4a2"
      },
      "outputs": [
        {
          "data": {
            "text/plain": [
              "16"
            ]
          },
          "execution_count": 5,
          "metadata": {},
          "output_type": "execute_result"
        }
      ],
      "source": [
        "48 % 32 # Operación módulo"
      ]
    },
    {
      "cell_type": "markdown",
      "id": "0c646696-4da7-4b28-95cc-c1e86a033eea",
      "metadata": {
        "id": "0c646696-4da7-4b28-95cc-c1e86a033eea"
      },
      "source": [
        "### Maximo comun divisor\n",
        "\n",
        "Usamos el metodo de Euclides para encontrar el máximo común divisor (mcd) entre dos números. Este algoritmo tiene complejidad $O(\\log(\\min(a, b)))$"
      ]
    },
    {
      "cell_type": "code",
      "execution_count": null,
      "id": "6a7ed4c4-fbe7-4a60-8324-456814330736",
      "metadata": {
        "id": "6a7ed4c4-fbe7-4a60-8324-456814330736"
      },
      "outputs": [],
      "source": [
        "def mcd(a, b):\n",
        "    while b:\n",
        "        a, b = b, a%b\n",
        "    return a"
      ]
    },
    {
      "cell_type": "code",
      "execution_count": null,
      "id": "e937b0f0-b2e7-4285-a83c-7af0b6f633e4",
      "metadata": {
        "colab": {
          "base_uri": "https://localhost:8080/"
        },
        "id": "e937b0f0-b2e7-4285-a83c-7af0b6f633e4",
        "outputId": "e6fceaa1-5728-4fe6-c9e6-785cb300bd57"
      },
      "outputs": [
        {
          "data": {
            "text/plain": [
              "16"
            ]
          },
          "execution_count": 7,
          "metadata": {},
          "output_type": "execute_result"
        }
      ],
      "source": [
        "mcd(64, 48)"
      ]
    },
    {
      "cell_type": "markdown",
      "id": "cb8e0262-b9d3-478f-ab35-0e027d75503a",
      "metadata": {
        "id": "cb8e0262-b9d3-478f-ab35-0e027d75503a"
      },
      "source": [
        "### Ejemplo clásico\n",
        "\n",
        "Para números pequeños podemos encontrar el periódo por inspección visual"
      ]
    },
    {
      "cell_type": "code",
      "execution_count": null,
      "id": "b3cf4d9e-118d-488a-b211-1a95c63f3a38",
      "metadata": {
        "colab": {
          "base_uri": "https://localhost:8080/",
          "height": 430
        },
        "id": "b3cf4d9e-118d-488a-b211-1a95c63f3a38",
        "outputId": "d3940ddf-60de-4950-f512-4f5155fd33d2"
      },
      "outputs": [
        {
          "data": {
            "image/png": "[encoded data removed]",
            "text/plain": [
              "<Figure size 640x480 with 1 Axes>"
            ]
          },
          "metadata": {},
          "output_type": "display_data"
        }
      ],
      "source": [
        "a = 8     # Aleatorio, 1 < a < N-2\n",
        "N = 15    # Numero a factorizar\n",
        "\n",
        "# Función periódica\n",
        "f = lambda x: (a**x) % N\n",
        "\n",
        "# Graficamos f(x)\n",
        "x = np.arange(N)\n",
        "plt.plot(x, f(x))\n",
        "plt.xticks(x);"
      ]
    },
    {
      "cell_type": "markdown",
      "id": "20485921-386f-4562-818e-f7f29b9f5966",
      "metadata": {
        "id": "20485921-386f-4562-818e-f7f29b9f5966"
      },
      "source": [
        "El problema es que para números grandes, encontrar el periódo de la función modular es un problema computacional que crece con la entrada superpolinomialmente (requiere mucho más tiempo que un problema polinomial) en el mejor de los casos o exponencialmente en el peor de los casos"
      ]
    },
    {
      "cell_type": "code",
      "execution_count": null,
      "id": "3b45e142-58a5-4510-b90f-d3b9f6d363c2",
      "metadata": {
        "id": "3b45e142-58a5-4510-b90f-d3b9f6d363c2"
      },
      "outputs": [],
      "source": [
        "# El periodo de f(x) es 4\n",
        "r = 4"
      ]
    },
    {
      "cell_type": "markdown",
      "id": "8d395c96-042b-40c7-8c82-d4a1cc66359e",
      "metadata": {
        "id": "8d395c96-042b-40c7-8c82-d4a1cc66359e"
      },
      "source": [
        "Si el periodo es $r$. significa que\n",
        "$$ \\mathrm{mod}(a ^ r, N) = 1 $$\n",
        "o, equivalentemente,\n",
        "\\begin{align}\n",
        "\\mathrm{mod}(a^r - 1, N) &= 0 \\\\\n",
        "\\Leftrightarrow (a^\\frac{r}{2} + 1)(a^\\frac{r}{2} - 1) &= kN, \\quad k\\in\\mathbb{N}\n",
        "\\end{align}\n",
        "de modo que si definimos\n",
        "\\begin{align}\n",
        "p &:= a^\\frac{r}{2} + 1 = p_1 p_2 ... p_M\\\\\n",
        "q &:= a^\\frac{r}{2} - 1 = q_1 q_2 ... q_L\\\\\n",
        "\\end{align}\n",
        "se puede agrupar\n",
        "$$ pq = p_1 p_2 ... p_M q_1 q_2 ... q_L = kN$$\n",
        "y podemos ver que\n",
        "\\begin{align}\n",
        "N = \\mathrm{mcd}(p, N)\\text{ }\\mathrm{mcd}(q, N)\n",
        "\\end{align}\n",
        "de forma que teniendo el periodo $r$ podemos computar los factores de $N$ como a continuación"
      ]
    },
    {
      "cell_type": "code",
      "execution_count": null,
      "id": "108e0042-90fe-4152-823c-1b1158fa42c0",
      "metadata": {
        "colab": {
          "base_uri": "https://localhost:8080/"
        },
        "id": "108e0042-90fe-4152-823c-1b1158fa42c0",
        "outputId": "ae517b84-ec3b-4dad-c528-b3b6751f661d"
      },
      "outputs": [
        {
          "name": "stdout",
          "output_type": "stream",
          "text": [
            "los cofactores son 63 y 65\n",
            "y los factores son [3, 5]\n"
          ]
        }
      ],
      "source": [
        "# se encuentran los cofactores\n",
        "q = a**(r//2) - 1\n",
        "p = a**(r//2) + 1\n",
        "print(f'los cofactores son {q} y {p}')\n",
        "\n",
        "# y obtenemos los factores de N como\n",
        "factores = [ mcd(q, N), mcd(p, N) ]\n",
        "print(f'y los factores son {factores}')"
      ]
    },
    {
      "cell_type": "markdown",
      "id": "265cc209-ecb5-4483-a4a6-0e952580c89c",
      "metadata": {
        "id": "265cc209-ecb5-4483-a4a6-0e952580c89c"
      },
      "source": [
        "Realicemos la función que encuentra el periódo de la exponenciación modular $$f(x) = \\mathrm{mod} (a^x,N)$$"
      ]
    },
    {
      "cell_type": "code",
      "execution_count": null,
      "id": "d0db4d35-4804-4942-b52f-82a8dab8d6af",
      "metadata": {
        "colab": {
          "base_uri": "https://localhost:8080/"
        },
        "id": "d0db4d35-4804-4942-b52f-82a8dab8d6af",
        "outputId": "b948f6b2-c6d8-41a4-a3b9-34218e9bef49"
      },
      "outputs": [
        {
          "data": {
            "text/plain": [
              "4"
            ]
          },
          "execution_count": 11,
          "metadata": {},
          "output_type": "execute_result"
        }
      ],
      "source": [
        "# Esta funcion encuentra el periodo de f(x) automaticamente\n",
        "def find_period(N, a):\n",
        "    for r in range(1, N):\n",
        "        if (a**r)%N == 1:\n",
        "            return r\n",
        "    raise Exception(\"Periodo no pudo ser encontrado.\")\n",
        "\n",
        "find_period(N, a)"
      ]
    },
    {
      "cell_type": "markdown",
      "id": "04ec9a80-8814-497b-8f5f-090e96f69e27",
      "metadata": {
        "id": "04ec9a80-8814-497b-8f5f-090e96f69e27"
      },
      "source": [
        "Dado esto podemos implementar un algoritmo de Shor \"clásico\""
      ]
    },
    {
      "cell_type": "code",
      "execution_count": null,
      "id": "7ccc889a-15a0-40b5-88e7-053fb50cf4c5",
      "metadata": {
        "id": "7ccc889a-15a0-40b5-88e7-053fb50cf4c5"
      },
      "outputs": [],
      "source": [
        "def _shor_clasico(N, a):\n",
        "\n",
        "    # Periodo de f(x)\n",
        "    r = find_period(N, a)\n",
        "\n",
        "    if r != (r//2)*2:\n",
        "        print(f'r is odd!, {r=}')\n",
        "\n",
        "    # Cofactores\n",
        "    q = a**(r // 2) - 1\n",
        "    p = a**(r // 2) + 1\n",
        "\n",
        "    # Factores\n",
        "    factores = [ mcd(q, N), mcd(p, N) ]\n",
        "\n",
        "    return factores"
      ]
    },
    {
      "cell_type": "code",
      "execution_count": null,
      "id": "1dcd616c-a9d4-45aa-beed-b541c6ae9bea",
      "metadata": {
        "colab": {
          "base_uri": "https://localhost:8080/"
        },
        "id": "1dcd616c-a9d4-45aa-beed-b541c6ae9bea",
        "outputId": "8f106eaa-9083-4924-b33c-6a3a4cbbe769"
      },
      "outputs": [
        {
          "data": {
            "text/plain": [
              "[3, 5]"
            ]
          },
          "execution_count": 13,
          "metadata": {},
          "output_type": "execute_result"
        }
      ],
      "source": [
        "_shor_clasico(N, a)"
      ]
    },
    {
      "cell_type": "code",
      "execution_count": null,
      "id": "cd7d9f71-9e6a-45d7-a233-305c3814273a",
      "metadata": {
        "colab": {
          "base_uri": "https://localhost:8080/"
        },
        "id": "cd7d9f71-9e6a-45d7-a233-305c3814273a",
        "outputId": "0ad38127-df94-4f69-dcbd-6f22b457a4a6"
      },
      "outputs": [
        {
          "name": "stdout",
          "output_type": "stream",
          "text": [
            "mcd(9, N)=3\n"
          ]
        }
      ],
      "source": [
        "# No se puede encontrar periodo cuando mcd(a, N) > 1\n",
        "print(f'{mcd(9, N)=}')\n",
        "#_shor_clasico(N, a=9) # Dará un error"
      ]
    },
    {
      "cell_type": "code",
      "execution_count": null,
      "id": "234b57f8-a7a5-40a2-96b0-6d8f6b3655fa",
      "metadata": {
        "id": "234b57f8-a7a5-40a2-96b0-6d8f6b3655fa"
      },
      "outputs": [],
      "source": [
        "# Una implementación mas completa, que se encarga de verificar los casos especiales\n",
        "def shor_clasico(N):\n",
        "    # Elegimos a al azar\n",
        "    a = np.random.randint(2, N-1)\n",
        "\n",
        "    # Si el MCD es 1, entonces podemos usar a para buscar el periodo de f(x)\n",
        "    f1 = mcd(a, N)\n",
        "\n",
        "    # Si el MCD es mayor que 1, entonces ya encontramos un factor\n",
        "    if f1 > 1:\n",
        "        return [f1, N//f1]\n",
        "\n",
        "    # Usamos la implementación para N y a dados\n",
        "    return _shor_clasico(N, a)"
      ]
    },
    {
      "cell_type": "code",
      "execution_count": null,
      "id": "eccc64a6-d0fe-48d8-ab70-93097dcd0219",
      "metadata": {
        "colab": {
          "base_uri": "https://localhost:8080/"
        },
        "id": "eccc64a6-d0fe-48d8-ab70-93097dcd0219",
        "outputId": "56e4b2e5-64c9-411f-a057-71946a28a0fe"
      },
      "outputs": [
        {
          "data": {
            "text/plain": [
              "[28489, 15]"
            ]
          },
          "execution_count": 16,
          "metadata": {},
          "output_type": "execute_result"
        }
      ],
      "source": [
        "factores = shor_clasico(427335)\n",
        "factores"
      ]
    },
    {
      "cell_type": "code",
      "execution_count": null,
      "id": "9ec8f122-27e9-40b5-9fa4-1fd5d189b3d6",
      "metadata": {
        "colab": {
          "base_uri": "https://localhost:8080/"
        },
        "id": "9ec8f122-27e9-40b5-9fa4-1fd5d189b3d6",
        "outputId": "15d7ddc4-3f8f-4275-99ee-594d9fe9e161"
      },
      "outputs": [
        {
          "data": {
            "text/plain": [
              "427335"
            ]
          },
          "execution_count": 17,
          "metadata": {},
          "output_type": "execute_result"
        }
      ],
      "source": [
        "np.prod(factores)"
      ]
    },
    {
      "cell_type": "markdown",
      "id": "7b1404e5-c0c5-44dc-b17b-d8a9f42dc0b3",
      "metadata": {
        "id": "7b1404e5-c0c5-44dc-b17b-d8a9f42dc0b3"
      },
      "source": [
        "Sin embargo, la busqueda del periodo de $f(x)$ es exponencialmente costosa, volviéndola una tarea imposible para numeros grandes. Por este motivo, recurriremos a la Computación Cuántica, que nos ofrece un algoritmo mucho mas eficiente para resolver la busqueda del periodo: el algoritmo de **Quantum Phase Estimation (QPE)**."
      ]
    },
    {
      "cell_type": "markdown",
      "id": "e6c70963-a1f5-4506-88b4-248fe0f7d697",
      "metadata": {
        "id": "e6c70963-a1f5-4506-88b4-248fe0f7d697"
      },
      "source": [
        "Una parte importante del algoritmo de QPE es la transformada cuántica de Fourier, por lo que comenzaremos haciendo una introducción a esta.\n",
        "\n",
        "### Transformada Cuántica de Fourier (QFT)\n",
        "\n",
        "La transformada de Fourier es una transformación matemática que, al ser aplicada sobre una función, la descompone en funciones periódicas, indicandonos las frecuencias que construyen a esta función. En el mundo moderno, es una herramiénta matemática crucial para todo lo que involucre análisis de señales, desde el procesamiento y manejo de audio, como la música, hasta prácticamente todas las áreas de la ingeniería.\n",
        "\n",
        "La transformada de Fourier se implementa clásicamente mediante la transformada de Fourier discreta (DFT), teniendo una complejidad $O(m\\mathrm{log}(m))$, donde $m$ es el tamaño de la señal de entrada, mediante el algoritmo clásico más rápido, que es la Fast Fourier Transform (FFT).\n",
        "\n",
        "Así como podemos realizar la FFT para encontrar la transformada de Fourier de una función codificada en un sistema clásico, también podemos tener la función codificada en un sistema cuántico con $n$ qubits, y encontrar su transformada de Fourier utilizando la Transformada Cuántica de Fourier (QFT), que en su mejor implementación requiere $O(n\\mathrm{log}(n))$ compuertas: [Hales and Halgreen, (2000)](https://doi.org/10.1109/SFCS.2000.892139).\n",
        "\n",
        "Debemos recordar que se requieren $m=2^n$ bits clásicos para emular $n$ qubits, de modo que para emular la QFT, la FFT tendría una complejidad de $O(n2^n)$, dejando en claro que la QFT resulta exponencialmente mas eficiente que la mejor transformada de Fourier clásica.\n",
        "\n",
        "### Estimación Cuántica de Fase (QPE)\n",
        "\n",
        "La Estimación Cuántica de Fase es un algoritmo de gran relevancia en la computación cuántica, siendo un ingrediente fundamental en aplicaciones como el algoritmo de Shor.\n",
        "\n",
        "La QPE resuelve el **problema de estimación de fase**: Si $|\\psi\\rangle$ es un autovector de un operador unitario $U$, entonces necesariamente $U|\\psi\\rangle = e^{2\\pi i\\theta}|\\psi\\rangle$. El problema de estimación de fase consiste en estimar el valor de la fase, $\\theta$, dentro del rango $[0, 1[$.\n",
        "\n",
        "Para resolver este problema, la QPE hace uso del operador unitario $U$ y la QFT para encontrar $\\theta$, lo que nos resulta de utilidad puesto que si codificamos nuestra función de exponenciacion modular, $f(x)$, como el operador $U$, entonces la QPE nos permite encontrar eficientemente el periodo de $f(x)$."
      ]
    },
    {
      "cell_type": "markdown",
      "id": "8956924f-e95c-4ace-bfda-e19a35e5adab",
      "metadata": {
        "execution": {
          "iopub.execute_input": "2023-11-21T12:09:33.930605Z",
          "iopub.status.busy": "2023-11-21T12:09:33.928613Z",
          "iopub.status.idle": "2023-11-21T12:09:33.940846Z",
          "shell.execute_reply": "2023-11-21T12:09:33.938153Z",
          "shell.execute_reply.started": "2023-11-21T12:09:33.930605Z"
        },
        "id": "8956924f-e95c-4ace-bfda-e19a35e5adab"
      },
      "source": [
        "### Implementación de la QPE a través de una simulación"
      ]
    },
    {
      "cell_type": "code",
      "execution_count": null,
      "id": "fc04d4d5-6635-4d8a-a69e-45ff08f3ddd0",
      "metadata": {
        "id": "fc04d4d5-6635-4d8a-a69e-45ff08f3ddd0"
      },
      "outputs": [],
      "source": [
        "from qiskit import QuantumCircuit, transpile\n",
        "from qiskit_aer import Aer\n",
        "from qiskit.circuit.library import QFT\n",
        "from qiskit.visualization import plot_histogram"
      ]
    },
    {
      "cell_type": "markdown",
      "id": "56e51d86-6a0d-4a6f-8e4a-67b6ab047bd5",
      "metadata": {
        "id": "56e51d86-6a0d-4a6f-8e4a-67b6ab047bd5"
      },
      "source": [
        "Definimos la exponenciación modular y la compuerta $a \\ \\mathrm{mod} \\ N$ controlada"
      ]
    },
    {
      "cell_type": "code",
      "execution_count": null,
      "id": "3c25cde0-5b07-4468-afb2-61f218e66099",
      "metadata": {
        "id": "3c25cde0-5b07-4468-afb2-61f218e66099"
      },
      "outputs": [],
      "source": [
        "def modular_exponentiation(qc, Nq, a, N):\n",
        "    for x in range(Nq):\n",
        "        qc.append(controlled_amod(a, 2**x, N),\n",
        "                  [x] + list(range(Nq, 2*Nq)))\n",
        "\n",
        "# Esta implemetacion es especifica para N=15.\n",
        "# Puede ser generalizada pero escapa al alcance del taller\n",
        "def controlled_amod(a, x, N=15):\n",
        "    if a not in [2,7,8,11,13]:\n",
        "        raise ValueError(\"'a' must be 2,7,8,11,13\")\n",
        "    U = QuantumCircuit(4)\n",
        "    for _ in range(x):\n",
        "        if a in [2,13]:\n",
        "            U.swap(0,1)\n",
        "            U.swap(1,2)\n",
        "            U.swap(2,3)\n",
        "        if a in [7,8]:\n",
        "            U.swap(2,3)\n",
        "            U.swap(1,2)\n",
        "            U.swap(0,1)\n",
        "        if a == 11:\n",
        "            U.swap(1,3)\n",
        "            U.swap(0,2)\n",
        "        if a in [7,11,13]:\n",
        "            for q in range(4):\n",
        "                U.x(q)\n",
        "    U = U.to_gate()\n",
        "    U.name = f\"{a}^{x} mod {N}\"\n",
        "    c_U = U.control()\n",
        "    return c_U"
      ]
    },
    {
      "cell_type": "code",
      "execution_count": null,
      "id": "7be88d6e-8d45-44ed-b170-827b3d1051d9",
      "metadata": {
        "id": "7be88d6e-8d45-44ed-b170-827b3d1051d9"
      },
      "outputs": [],
      "source": [
        "def _shor_circuit(N, a):\n",
        "    # Numero de qubits para codificar N\n",
        "    Nq = int(np.ceil(np.log2(N)))\n",
        "\n",
        "    # Define un circuito cuantico con 2Nq qubits. Nq qubits son para codificar N y otros Nq qubits para QPE.\n",
        "    qc = QuantumCircuit(2*Nq, Nq)\n",
        "\n",
        "    # Inicializa el circuito en superposición de todos los estados\n",
        "    for qubit in range(Nq):\n",
        "        qc.h(qubit)\n",
        "\n",
        "    # Deja en estado |1> el primer qubit despues de la codificacion de N\n",
        "    qc.x(Nq)\n",
        "\n",
        "    # Incorpora las compuertas de exponenciacion modular\n",
        "    modular_exponentiation(qc, Nq, a, 15)\n",
        "\n",
        "    # Transformada Cuántica de Fourier Inversa\n",
        "    iQFT = QFT(Nq, do_swaps=True).inverse()\n",
        "    qc.append(iQFT, range(Nq))\n",
        "\n",
        "    # Medimos los resultados\n",
        "    qc.measure(range(Nq), range(Nq))\n",
        "\n",
        "    return qc"
      ]
    },
    {
      "cell_type": "code",
      "execution_count": null,
      "id": "6189699d-5628-4d2e-a95b-6a1df7295f06",
      "metadata": {
        "id": "6189699d-5628-4d2e-a95b-6a1df7295f06"
      },
      "outputs": [],
      "source": [
        "#def _shor_circuit(N, a):\n",
        "   #Ejercicio: Definir el número de qubits necesarios, los registros clásicos y el circuito cuántico\n",
        "\n",
        "    # Product by modular exponential\n",
        "#    modular_exponentiation(qc, Nq, a, 15)\n",
        "\n",
        "    # Inverse Quantum Fourier Transform\n",
        "#    iQFT = QFT(Nq, do_swaps=True).inverse()\n",
        "#    qc.append(iQFT, range(Nq))\n",
        "\n",
        "    # Measure results\n",
        "#    qc.measure(range(Nq), range(Nq))\n",
        "\n",
        "#    return qc"
      ]
    },
    {
      "cell_type": "code",
      "execution_count": null,
      "id": "31d756f8-98a2-47c5-b84e-d098c6146433",
      "metadata": {
        "colab": {
          "base_uri": "https://localhost:8080/",
          "height": 309
        },
        "id": "31d756f8-98a2-47c5-b84e-d098c6146433",
        "outputId": "1b91500d-6687-4198-8fc6-a3bc83087d28"
      },
      "outputs": [
        {
          "data": {
            "text/html": [
              "<pre style=\"word-wrap: normal;white-space: pre;background: #fff0;line-height: 1.1;font-family: &quot;Courier New&quot;,Courier,monospace\">     ┌───┐                                                            ┌───────┐┌─┐         \n",
              "q_0: ┤ H ├───────■────────────────────────────────────────────────────┤0      ├┤M├─────────\n",
              "     ├───┤       │                                                    │       │└╥┘┌─┐      \n",
              "q_1: ┤ H ├───────┼──────────────■─────────────────────────────────────┤1      ├─╫─┤M├──────\n",
              "     ├───┤       │              │                                     │  IQFT │ ║ └╥┘┌─┐   \n",
              "q_2: ┤ H ├───────┼──────────────┼──────────────■──────────────────────┤2      ├─╫──╫─┤M├───\n",
              "     ├───┤       │              │              │                      │       │ ║  ║ └╥┘┌─┐\n",
              "q_3: ┤ H ├───────┼──────────────┼──────────────┼──────────────■───────┤3      ├─╫──╫──╫─┤M├\n",
              "     ├───┤┌──────┴──────┐┌──────┴──────┐┌──────┴──────┐┌──────┴──────┐└───────┘ ║  ║  ║ └╥┘\n",
              "q_4: ┤ X ├┤0            ├┤0            ├┤0            ├┤0            ├──────────╫──╫──╫──╫─\n",
              "     └───┘│             ││             ││             ││             │          ║  ║  ║  ║ \n",
              "q_5: ─────┤1            ├┤1            ├┤1            ├┤1            ├──────────╫──╫──╫──╫─\n",
              "          │  7^1 mod 15 ││  7^2 mod 15 ││  7^4 mod 15 ││  7^8 mod 15 │          ║  ║  ║  ║ \n",
              "q_6: ─────┤2            ├┤2            ├┤2            ├┤2            ├──────────╫──╫──╫──╫─\n",
              "          │             ││             ││             ││             │          ║  ║  ║  ║ \n",
              "q_7: ─────┤3            ├┤3            ├┤3            ├┤3            ├──────────╫──╫──╫──╫─\n",
              "          └─────────────┘└─────────────┘└─────────────┘└─────────────┘          ║  ║  ║  ║ \n",
              "c: 4/═══════════════════════════════════════════════════════════════════════════╩══╩══╩══╩═\n",
              "                                                                                0  1  2  3 </pre>"
            ],
            "text/plain": [
              "     ┌───┐                                                            ┌───────┐┌─┐         \n",
              "q_0: ┤ H ├───────■────────────────────────────────────────────────────┤0      ├┤M├─────────\n",
              "     ├───┤       │                                                    │       │└╥┘┌─┐      \n",
              "q_1: ┤ H ├───────┼──────────────■─────────────────────────────────────┤1      ├─╫─┤M├──────\n",
              "     ├───┤       │              │                                     │  IQFT │ ║ └╥┘┌─┐   \n",
              "q_2: ┤ H ├───────┼──────────────┼──────────────■──────────────────────┤2      ├─╫──╫─┤M├───\n",
              "     ├───┤       │              │              │                      │       │ ║  ║ └╥┘┌─┐\n",
              "q_3: ┤ H ├───────┼──────────────┼──────────────┼──────────────■───────┤3      ├─╫──╫──╫─┤M├\n",
              "     ├───┤┌──────┴──────┐┌──────┴──────┐┌──────┴──────┐┌──────┴──────┐└───────┘ ║  ║  ║ └╥┘\n",
              "q_4: ┤ X ├┤0            ├┤0            ├┤0            ├┤0            ├──────────╫──╫──╫──╫─\n",
              "     └───┘│             ││             ││             ││             │          ║  ║  ║  ║ \n",
              "q_5: ─────┤1            ├┤1            ├┤1            ├┤1            ├──────────╫──╫──╫──╫─\n",
              "          │  7^1 mod 15 ││  7^2 mod 15 ││  7^4 mod 15 ││  7^8 mod 15 │          ║  ║  ║  ║ \n",
              "q_6: ─────┤2            ├┤2            ├┤2            ├┤2            ├──────────╫──╫──╫──╫─\n",
              "          │             ││             ││             ││             │          ║  ║  ║  ║ \n",
              "q_7: ─────┤3            ├┤3            ├┤3            ├┤3            ├──────────╫──╫──╫──╫─\n",
              "          └─────────────┘└─────────────┘└─────────────┘└─────────────┘          ║  ║  ║  ║ \n",
              "c: 4/═══════════════════════════════════════════════════════════════════════════╩══╩══╩══╩═\n",
              "                                                                                0  1  2  3 "
            ]
          },
          "execution_count": 22,
          "metadata": {},
          "output_type": "execute_result"
        }
      ],
      "source": [
        "# Vemos como se ve el circuito con N=15 y a=7\n",
        "N = 15\n",
        "a = 7\n",
        "_shor_circuit(N, a).draw(fold=-1)"
      ]
    },
    {
      "cell_type": "code",
      "execution_count": null,
      "id": "c1d96dc0",
      "metadata": {
        "colab": {
          "base_uri": "https://localhost:8080/",
          "height": 642
        },
        "id": "c1d96dc0",
        "outputId": "51adbea4-4c34-4147-8089-37a764823557"
      },
      "outputs": [
        {
          "data": {
            "image/png": "[encoded data removed]",
            "text/plain": [
              "<Figure size 1625.27x785.944 with 1 Axes>"
            ]
          },
          "execution_count": 23,
          "metadata": {},
          "output_type": "execute_result"
        }
      ],
      "source": [
        "_shor_circuit(N, a).draw('mpl')"
      ]
    },
    {
      "cell_type": "code",
      "execution_count": null,
      "id": "U2g3RT8Om0Hw",
      "metadata": {
        "id": "U2g3RT8Om0Hw"
      },
      "outputs": [],
      "source": [
        "# Corremos el circuito 100 veces\n",
        "simulator = Aer.get_backend('aer_simulator')\n",
        "circuit_shor = _shor_circuit(N, a)\n",
        "\n",
        "transpiled_circuit = transpile(circuit_shor, simulator)\n",
        "\n",
        "result = simulator.run(transpiled_circuit, shots=100).result()\n"
      ]
    },
    {
      "cell_type": "code",
      "execution_count": null,
      "id": "d9a8ae8e-b1b7-4dbd-bf0a-9518bb95f202",
      "metadata": {
        "id": "d9a8ae8e-b1b7-4dbd-bf0a-9518bb95f202"
      },
      "outputs": [],
      "source": [
        "# Corremos el circuito 100 veces\n",
        "#simulator = Aer.get_backend('aer_simulator')\n",
        "#circuit_shor = _shor_circuit(N, a)\n",
        "#result = simulator.run( circuit_shor, shots=100).result()"
      ]
    },
    {
      "cell_type": "markdown",
      "id": "cca85456-4397-40b7-be90-ca90f613f9fc",
      "metadata": {
        "id": "cca85456-4397-40b7-be90-ca90f613f9fc"
      },
      "source": [
        "Graficamos el histograma de las cuentas de cada resultado"
      ]
    },
    {
      "cell_type": "code",
      "execution_count": null,
      "id": "03d8fdc0-c1b9-458e-a82a-525e65db297b",
      "metadata": {
        "colab": {
          "base_uri": "https://localhost:8080/",
          "height": 454
        },
        "id": "03d8fdc0-c1b9-458e-a82a-525e65db297b",
        "outputId": "515eb3a4-1419-43db-b797-29fc70c8739d"
      },
      "outputs": [
        {
          "data": {
            "image/png": "[encoded data removed]",
            "text/plain": [
              "<Figure size 640x480 with 1 Axes>"
            ]
          },
          "execution_count": 25,
          "metadata": {},
          "output_type": "execute_result"
        }
      ],
      "source": [
        "# Graficamos la cantidad de veces que se obtuvo cada estado\n",
        "counts = result.get_counts()\n",
        "plot_histogram(counts)"
      ]
    },
    {
      "cell_type": "code",
      "execution_count": null,
      "id": "12c8ca2a-1ec0-466d-b90b-3c20ed66ae46",
      "metadata": {
        "colab": {
          "base_uri": "https://localhost:8080/"
        },
        "id": "12c8ca2a-1ec0-466d-b90b-3c20ed66ae46",
        "outputId": "232d774f-16ac-41b1-fd92-0b5f3e73e9ca"
      },
      "outputs": [
        {
          "data": {
            "text/plain": [
              "array([ 0,  4,  8, 12])"
            ]
          },
          "execution_count": 26,
          "metadata": {},
          "output_type": "execute_result"
        }
      ],
      "source": [
        "# Convertimos las etiquetas de los estados que obtuvimos, de binario a decimal\n",
        "results_dec = np.sort([int(binstate, 2) for binstate in counts.keys()])\n",
        "results_dec"
      ]
    },
    {
      "cell_type": "code",
      "execution_count": null,
      "id": "8b0de4dc-65f5-4e98-b1e1-af29816d9fee",
      "metadata": {
        "id": "8b0de4dc-65f5-4e98-b1e1-af29816d9fee"
      },
      "outputs": [],
      "source": [
        "# Ejercicio: Llamar al simulador, crear el resultado de experimento y plotear el histograma"
      ]
    },
    {
      "cell_type": "code",
      "execution_count": null,
      "id": "7d333a36-c9f9-499c-a3ca-691a636d7b68",
      "metadata": {
        "id": "7d333a36-c9f9-499c-a3ca-691a636d7b68"
      },
      "outputs": [],
      "source": [
        "from fractions import Fraction\n",
        "\n",
        "def _shor(N, a, shots=1):\n",
        "    # Definimos y corremos el circuito cuántico\n",
        "    qc = _shor_circuit(N, a)\n",
        "    simulator = Aer.get_backend('aer_simulator')\n",
        "    transpiled_circuit = transpile(qc, simulator)\n",
        "\n",
        "    result = simulator.run(transpiled_circuit, shots=shots).result()\n",
        "    counts = result.get_counts()\n",
        "\n",
        "    # Obtenemos los nombres en decimal de los estados obtenidos\n",
        "    results_dec = np.sort([int(binstate, 2) for binstate in counts.keys()])\n",
        "\n",
        "    # Numero total de estados\n",
        "    total_num_states = 2**int(np.ceil(np.log2(N)))\n",
        "    # Fases normalizadas, j/r\n",
        "    phases = [res/total_num_states for res in results_dec if res != 0]\n",
        "\n",
        "    # Usamos fracciones continuadas para obtener el denominador de j/r\n",
        "    r_array = [Fraction(phase).limit_denominator(N).denominator\n",
        "               for phase in phases ]\n",
        "\n",
        "    # Para cada r, encontramos los factores\n",
        "    factors = []\n",
        "    for r in r_array:\n",
        "        # Si r es impar, saltamos la iteracion\n",
        "        if  r != int(r/2)*2:\n",
        "            continue\n",
        "        # Si r es par, calculamos los factores\n",
        "        x = a ** (r//2)\n",
        "        factors.append([mcd(x-1, N), mcd(x+1, N)])\n",
        "\n",
        "    return factors\n"
      ]
    },
    {
      "cell_type": "code",
      "execution_count": null,
      "id": "fc1e90f7-f002-4058-abb0-81cc70f6e192",
      "metadata": {
        "colab": {
          "base_uri": "https://localhost:8080/"
        },
        "id": "fc1e90f7-f002-4058-abb0-81cc70f6e192",
        "outputId": "cb1b4ca8-cd85-42b5-b8ce-bf6f8693c4ef"
      },
      "outputs": [
        {
          "data": {
            "text/plain": [
              "[]"
            ]
          },
          "execution_count": 28,
          "metadata": {},
          "output_type": "execute_result"
        }
      ],
      "source": [
        "# Simulamos el algoritmo de Shor cuántico\n",
        "_shor(N, a, shots=1)"
      ]
    },
    {
      "cell_type": "code",
      "execution_count": null,
      "id": "f6a39a96-54f2-4154-af41-ce438b234068",
      "metadata": {
        "colab": {
          "base_uri": "https://localhost:8080/"
        },
        "id": "f6a39a96-54f2-4154-af41-ce438b234068",
        "outputId": "7f62d8f7-de7d-4243-c9bd-f5f33647af28"
      },
      "outputs": [
        {
          "data": {
            "text/plain": [
              "[[3, 5], [3, 1], [3, 5]]"
            ]
          },
          "execution_count": 29,
          "metadata": {},
          "output_type": "execute_result"
        }
      ],
      "source": [
        "# En caso de que j y r tengan factores en común, podemos tener que correr el circuito de nuevo.\n",
        "# Por eso, podemos correr con varios shots, y vemos que encontramos 3 soluciones,\n",
        "# de las cuales 2 son correctas.\n",
        "_shor(N, a, shots=100)"
      ]
    },
    {
      "cell_type": "markdown",
      "id": "9aafbb8d-44cc-4faa-8f0c-0f02e62cf039",
      "metadata": {
        "id": "9aafbb8d-44cc-4faa-8f0c-0f02e62cf039"
      },
      "source": [
        "Hemos factorizado 15 como 3 $\\times$ 5"
      ]
    },
    {
      "cell_type": "markdown",
      "id": "477cf3b8",
      "metadata": {
        "id": "477cf3b8"
      },
      "source": [
        "## Contactos:\n",
        "\n",
        "Daniel Concha <br>\n",
        "Estudiante Doctorado en ciencias físicas <br>\n",
        "Universidad de Concepción <br>\n",
        "dconcham@udec.cl\n",
        "\n",
        "Jorge Gidi <br>\n",
        "Estudiante doctorado en ciencias físicas <br>\n",
        "Universidad de Concepción <br>\n",
        "jorgegidi@udec.cl"
      ]
    },
    {
      "cell_type": "code",
      "execution_count": null,
      "id": "6f0fa545",
      "metadata": {
        "id": "6f0fa545"
      },
      "outputs": [],
      "source": []
    }
  ],
  "metadata": {
    "colab": {
      "provenance": []
    },
    "kernelspec": {
      "display_name": "ECC2025",
      "language": "python",
      "name": "python3"
    },
    "language_info": {
      "codemirror_mode": {
        "name": "ipython",
        "version": 3
      },
      "file_extension": ".py",
      "mimetype": "text/x-python",
      "name": "python",
      "nbconvert_exporter": "python",
      "pygments_lexer": "ipython3",
      "version": "3.12.6"
    }
  },
  "nbformat": 4,
  "nbformat_minor": 5
}
