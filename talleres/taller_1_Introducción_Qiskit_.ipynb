{
  "cells": [
    {
      "cell_type": "code",
      "execution_count": null,
      "id": "5d589a4d",
      "metadata": {
        "collapsed": true,
        "id": "5d589a4d"
      },
      "outputs": [],
      "source": [
        "pip install git+https://github.com/LucianoPereiraValenzuela/ECC_2025_testing.git"
      ]
    },
    {
      "cell_type": "markdown",
      "id": "20f86b98-806c-464e-bb92-4cb25499152b",
      "metadata": {
        "id": "20f86b98-806c-464e-bb92-4cb25499152b"
      },
      "source": [
        "<img src=\"data:image/png;base64,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\" style=\"background-color:#1E415E; float:left\"/>"
      ]
    },
    {
      "cell_type": "markdown",
      "id": "e4019b32-ed32-4da5-b0f2-62557afc0e8c",
      "metadata": {
        "id": "e4019b32-ed32-4da5-b0f2-62557afc0e8c"
      },
      "source": [
        "# Introducción a Qiskit\n",
        "En este taller mostraremos los elementos básicos de Qiskit. Este es un modulo de python desarrollado por la empresa IBM para la manipulación de computadores cuánticos.\n",
        "\n",
        "Podemos instalar Qiskit escribiendo en la terminal de anaconda \"pip install qiskit\"\n",
        "\n",
        "Para comenzar importaremos la herramienta numpy de python."
      ]
    },
    {
      "cell_type": "code",
      "execution_count": null,
      "id": "19896d88-00d7-4113-a32d-a9c209eb0d42",
      "metadata": {
        "id": "19896d88-00d7-4113-a32d-a9c209eb0d42"
      },
      "outputs": [],
      "source": [
        "import numpy as np"
      ]
    },
    {
      "cell_type": "markdown",
      "id": "7e633274-14a7-43fb-8e31-c79c7b920cb3",
      "metadata": {
        "id": "7e633274-14a7-43fb-8e31-c79c7b920cb3"
      },
      "source": [
        "## Estados cuánticos\n",
        "\n",
        "Recordemos que los estados cuánticos de un bit cuántico (qubit) son vectores de la forma\n",
        "\n",
        "$$|\\psi\\rangle = \\cos(\\theta)|0\\rangle + \\sin(\\theta) e^{i\\phi}|1\\rangle = \\begin{bmatrix} \\cos(\\theta) \\\\ \\sin(\\theta) e^{i\\phi} \\end{bmatrix}, $$\n",
        "\n",
        "donde $\\theta$ y $\\phi$ son ángulos que definen la esfera de Bloch. De este modo, los estados estan representados por puntos sobre esta esfera.\n"
      ]
    },
    {
      "cell_type": "markdown",
      "id": "25b7a4c0-e2eb-42b5-9ea5-eb127916ea9e",
      "metadata": {
        "id": "25b7a4c0-e2eb-42b5-9ea5-eb127916ea9e"
      },
      "source": [
        "Por ejemplo, consideremos los siguientes estados:\n",
        "\n",
        "$$ |\\psi_1\\rangle = |0\\rangle = \\begin{bmatrix} 1 \\\\ 0   \\end{bmatrix}$$\n",
        "\n",
        "$$ |\\psi_2\\rangle = \\frac{1}{\\sqrt{2}}( |0\\rangle + |1\\rangle ) = \\frac{1}{\\sqrt{2}}\\begin{bmatrix} 1 \\\\ 1   \\end{bmatrix}$$\n",
        "\n",
        "$$ |\\psi_3\\rangle = \\frac{1}{\\sqrt{2}}( |0\\rangle + i |1\\rangle ) \\frac{1}{\\sqrt{2}}\\begin{bmatrix} 1 \\\\ i   \\end{bmatrix}$$\n"
      ]
    },
    {
      "cell_type": "markdown",
      "id": "3c056104-6548-4f49-b223-518fc9696974",
      "metadata": {
        "id": "3c056104-6548-4f49-b223-518fc9696974"
      },
      "source": [
        "Que pueden ser escritos como"
      ]
    },
    {
      "cell_type": "code",
      "execution_count": null,
      "id": "e4b56633-947a-403a-96b6-fa8aea7f1fad",
      "metadata": {
        "id": "e4b56633-947a-403a-96b6-fa8aea7f1fad"
      },
      "outputs": [],
      "source": [
        "psi1 = [ 1, 0 ] #estado fundamental\n",
        "psi2 = [ 1/np.sqrt(2), 1/np.sqrt(2) ]\n",
        "psi3 = [ 1/np.sqrt(2), 1j/np.sqrt(2) ]"
      ]
    },
    {
      "cell_type": "markdown",
      "id": "e261f944-d2a0-4173-8d86-68e50124be58",
      "metadata": {
        "id": "e261f944-d2a0-4173-8d86-68e50124be58"
      },
      "source": [
        "Para visualizar estos estados usamos la \"Esfera de Bloch\". Utilizaremos el paquete de qiskit para gráficar."
      ]
    },
    {
      "cell_type": "code",
      "execution_count": null,
      "id": "ea75a511-803d-4001-a472-eb7da1fc7cef",
      "metadata": {
        "id": "ea75a511-803d-4001-a472-eb7da1fc7cef"
      },
      "outputs": [],
      "source": [
        "from qiskit.visualization import plot_bloch_multivector"
      ]
    },
    {
      "cell_type": "code",
      "execution_count": null,
      "id": "4661f631-6bab-4943-8afa-a7952bfc0e52",
      "metadata": {
        "id": "4661f631-6bab-4943-8afa-a7952bfc0e52"
      },
      "outputs": [],
      "source": [
        "plot_bloch_multivector( psi1 )\n",
        "# función que grafica el vector de Bloch , con el vector dentro del paréntesis"
      ]
    },
    {
      "cell_type": "code",
      "execution_count": null,
      "id": "68199aa2-67df-4d56-a1d5-2c2b05ae73a2",
      "metadata": {
        "id": "68199aa2-67df-4d56-a1d5-2c2b05ae73a2"
      },
      "outputs": [],
      "source": [
        "plot_bloch_multivector( psi2 )"
      ]
    },
    {
      "cell_type": "code",
      "execution_count": null,
      "id": "6a3fe546-db59-4348-99e7-e5c5b0be19ba",
      "metadata": {
        "id": "6a3fe546-db59-4348-99e7-e5c5b0be19ba"
      },
      "outputs": [],
      "source": [
        "plot_bloch_multivector( psi3)"
      ]
    },
    {
      "cell_type": "markdown",
      "id": "d1be16ec-4cbd-4f7a-be65-7298dfb3194b",
      "metadata": {
        "id": "d1be16ec-4cbd-4f7a-be65-7298dfb3194b"
      },
      "source": [
        "**Ejercicio 1**: Grafica las esfera de Bloch para los siguiente estados:\n",
        "\n",
        "$$ |\\psi_4\\rangle = \\frac{1}{\\sqrt{5}}( |0\\rangle + 2|1\\rangle ) = \\frac{1}{\\sqrt{5}} \\begin{bmatrix} 1 \\\\ 2 \\end{bmatrix}$$\n",
        "\n",
        "$$ |\\psi_5\\rangle = \\frac{1}{\\sqrt{2}}( |0\\rangle - e^{i\\pi/3} |1\\rangle ) = \\frac{1}{\\sqrt{2}} \\begin{bmatrix} 1 \\\\ -e^{i\\pi/3}\\end{bmatrix} $$\n",
        "\n",
        "\n",
        "Hint: Considere la función np.exp de numpy"
      ]
    },
    {
      "cell_type": "code",
      "execution_count": null,
      "id": "a8a3827f-1c76-44cb-9d0f-393cb2bf3774",
      "metadata": {
        "id": "a8a3827f-1c76-44cb-9d0f-393cb2bf3774"
      },
      "outputs": [],
      "source": [
        "#Respuesta 1:\n"
      ]
    },
    {
      "cell_type": "markdown",
      "id": "cc6eb018-1633-424c-808a-f22e8f4053c4",
      "metadata": {
        "id": "cc6eb018-1633-424c-808a-f22e8f4053c4"
      },
      "source": [
        "La esfera de Bloch no esta definida para estados cuánticos de más de un\n",
        "qubit. Para graficar ese tipos de estado podemos utilizar la Q-esfera."
      ]
    },
    {
      "cell_type": "markdown",
      "id": "682f1a54-8272-4be4-9dbc-e26e553e5d8f",
      "metadata": {
        "id": "682f1a54-8272-4be4-9dbc-e26e553e5d8f"
      },
      "source": [
        "Recordemos que los estados de dos qubits corresponden a la representación producto tensorial entre ambos\n",
        "\n",
        "$$ |0\\rangle \\otimes |0\\rangle = \\begin{bmatrix} 1 \\\\ 0 \\\\ 0 \\\\ 0 \\end{bmatrix}$$"
      ]
    },
    {
      "cell_type": "code",
      "execution_count": null,
      "id": "63dba044-d228-451a-9a53-18799bad4414",
      "metadata": {
        "id": "63dba044-d228-451a-9a53-18799bad4414"
      },
      "outputs": [],
      "source": [
        "from qiskit.visualization import plot_state_qsphere"
      ]
    },
    {
      "cell_type": "code",
      "execution_count": null,
      "id": "d9b756b2-aa9c-4d3d-aa8a-a418fea241e6",
      "metadata": {
        "id": "d9b756b2-aa9c-4d3d-aa8a-a418fea241e6"
      },
      "outputs": [],
      "source": [
        "state_2qubits = [ 1,0,0,0]\n",
        "plot_state_qsphere( state_2qubits )"
      ]
    },
    {
      "cell_type": "markdown",
      "id": "b584e90e-0090-4f6c-9aa7-87c90615be8a",
      "metadata": {
        "id": "b584e90e-0090-4f6c-9aa7-87c90615be8a"
      },
      "source": [
        "Analogamente para3-qubits\n",
        "$$ |0\\rangle \\otimes |0\\rangle \\otimes |0\\rangle = \\begin{bmatrix} 1 \\\\ 0 \\\\ 0 \\\\ 0 \\\\ 0 \\\\ 0 \\\\ 0 \\\\ 0 \\end{bmatrix}$$\n"
      ]
    },
    {
      "cell_type": "code",
      "execution_count": null,
      "id": "0bd3c25d-1edf-4868-b6ff-434f07c1807e",
      "metadata": {
        "id": "0bd3c25d-1edf-4868-b6ff-434f07c1807e"
      },
      "outputs": [],
      "source": [
        "state_3qubits = [ 1, 0, 0, 0, 0, 0, 0, 0]\n",
        "plot_state_qsphere( state_3qubits )"
      ]
    },
    {
      "cell_type": "markdown",
      "id": "b434b7c0-5db8-495a-a370-33950f3156a6",
      "metadata": {
        "id": "b434b7c0-5db8-495a-a370-33950f3156a6"
      },
      "source": [
        "## Elementos básicos de Qiskit\n",
        "\n",
        "`QuantumCircuit` es una clase que nos permite crear circuitos cuánticos. Esta necesita que le especifiquemos los bits cuánticos (qubits) y los bits clásicos (clbits), lo cual se puede hacer con las clases `QuantumRegister` y `ClassicalRegister`."
      ]
    },
    {
      "cell_type": "markdown",
      "id": "d801afc3-7bd7-4d96-b5a5-c6051e1c4978",
      "metadata": {
        "id": "d801afc3-7bd7-4d96-b5a5-c6051e1c4978"
      },
      "source": [
        "Importamos ambos elementos desde Qiskit\n",
        "\n",
        "Elementos que se van a ocupar en toda la escuela!!"
      ]
    },
    {
      "cell_type": "code",
      "execution_count": null,
      "id": "2a1372a5-3f9b-4ef6-9e5e-ac2ea64258ea",
      "metadata": {
        "id": "2a1372a5-3f9b-4ef6-9e5e-ac2ea64258ea"
      },
      "outputs": [],
      "source": [
        "from qiskit import QuantumCircuit, QuantumRegister, ClassicalRegister"
      ]
    },
    {
      "cell_type": "code",
      "execution_count": null,
      "id": "9a385025-6b47-4f2b-9496-ac24cf134db2",
      "metadata": {
        "id": "9a385025-6b47-4f2b-9496-ac24cf134db2"
      },
      "outputs": [],
      "source": [
        "#Creación de registros\n",
        "reg_cuant = QuantumRegister( 1 , name='qubit' )    #Registro cuántico llamado 'qubit'\n",
        "reg_clas  = ClassicalRegister( 1 , name='clbit' )  #Registro clásico llamado 'clbit'\n",
        "qc = QuantumCircuit( reg_cuant, reg_clas ) #Creamos un circuito cuantico con 1 qubit y 1 clbit"
      ]
    },
    {
      "cell_type": "markdown",
      "id": "4425e3a5-159c-400e-b1ae-d1706c3af2b9",
      "metadata": {
        "id": "4425e3a5-159c-400e-b1ae-d1706c3af2b9"
      },
      "source": [
        "Podemos visualizar este circuito con la función draw. Este es un circuito inicializado en el estado  |0⟩."
      ]
    },
    {
      "cell_type": "code",
      "execution_count": null,
      "id": "0b11b0d9-b225-4d7f-be4a-c4bda47dc344",
      "metadata": {
        "id": "0b11b0d9-b225-4d7f-be4a-c4bda47dc344"
      },
      "outputs": [],
      "source": [
        "#Dibujemos el circuito cuántico mediante matplotlib función .draw\n",
        "qc.draw( output='mpl' )\n",
        "\n",
        "# Los nombres de cada registro aparecen a la izquierda, los registros cuánticos siempre aparecen arriba y los clásicos abajo.\n",
        "# El circuito siempre inicia en el estado fundamental."
      ]
    },
    {
      "cell_type": "code",
      "execution_count": null,
      "id": "17bf9956-fa2d-42cf-a15b-181f886d297a",
      "metadata": {
        "id": "17bf9956-fa2d-42cf-a15b-181f886d297a"
      },
      "outputs": [],
      "source": [
        "#Definamos un estado inicial y grafiquemoslo en la esfera de Bloch\n",
        "state_init = [ 1, 0 ]\n",
        "plot_bloch_multivector( state_init )"
      ]
    },
    {
      "cell_type": "markdown",
      "id": "13d7f4a9-9f49-4370-90e6-d1a380109812",
      "metadata": {
        "id": "13d7f4a9-9f49-4370-90e6-d1a380109812"
      },
      "source": [
        "La clase `QuantumCircuit` tiene definidas funciones para aplicar las puertas cuánticas. La puerta $X$ definida como\n",
        "\n",
        "$$ X = \\begin{bmatrix} 0 & 1 \\\\ 1 & 0 \\end{bmatrix} $$\n",
        "\n",
        "lo cual nos permite negar el estado de un qubit, es decir\n",
        "\n",
        "$$ X|0\\rangle = |1\\rangle $$\n",
        "$$ X|1\\rangle = |0\\rangle $$\n",
        "\n",
        "Para introducir una puerta $X$ en nuestro circuito basta con usar el siguiente comando:"
      ]
    },
    {
      "cell_type": "code",
      "execution_count": null,
      "id": "77188653-d396-459a-aaee-1b7c16ce6c88",
      "metadata": {
        "id": "77188653-d396-459a-aaee-1b7c16ce6c88"
      },
      "outputs": [],
      "source": [
        "qc.x(0)\n",
        "qc.draw( output='mpl' )\n",
        "# La primera linea (o qubit) es la linea (qubit) 0."
      ]
    },
    {
      "cell_type": "markdown",
      "id": "afd1c794-9b60-4c01-acbf-018110e79173",
      "metadata": {
        "id": "afd1c794-9b60-4c01-acbf-018110e79173"
      },
      "source": [
        "Otra puerta cuántica muy importante es la Hadamard $H$,\n",
        "\n",
        "$$ H = \\frac{1}{\\sqrt{2}}\\begin{bmatrix} 1 & 1 \\\\ 1 & -1 \\end{bmatrix} $$\n",
        "\n",
        "la cual permite transformar el estado del qubit en una superposición, un fenómeno cuántico!, al aplicarla sobre los estados $|0\\rangle$ y $|1\\rangle$ obtenemos\n",
        "\n",
        "$$ H|0\\rangle = \\frac{1}{\\sqrt{2}}( |0\\rangle + |1\\rangle  ) $$\n",
        "$$ H|1\\rangle = \\frac{1}{\\sqrt{2}}( |0\\rangle - |1\\rangle  ) $$\n",
        "\n",
        "Creemos nuevamente nuestro circuito, pero esta vez simplificando, y apliquemos una $H$:"
      ]
    },
    {
      "cell_type": "code",
      "execution_count": null,
      "id": "9e8eb41a-9888-4305-9f63-c9c7f9daaacc",
      "metadata": {
        "id": "9e8eb41a-9888-4305-9f63-c9c7f9daaacc"
      },
      "outputs": [],
      "source": [
        "#Si no usas registros cuánticos, crea uno automaticamente con nombre genérico\n",
        "qc = QuantumCircuit( 1, 1 )\n",
        "qc.h(0)\n",
        "qc.draw( output='mpl' )"
      ]
    },
    {
      "cell_type": "markdown",
      "id": "f9a1b0be-1940-4f88-a581-cc546c9d7dd9",
      "metadata": {
        "id": "f9a1b0be-1940-4f88-a581-cc546c9d7dd9"
      },
      "source": [
        "Podemos cambiar la fase de un estado utilizando la puerta $Z$,\n",
        "\n",
        "$$ Z = \\begin{bmatrix} 1 & 0 \\\\ 0 & -1 \\end{bmatrix} $$\n",
        "\n",
        "al aplicarla sobre los estados $|0\\rangle$ y $|1\\rangle$ obtenemos\n",
        "\n",
        "$$ Z|0\\rangle = |0\\rangle $$\n",
        "$$ Z|1\\rangle = -|1\\rangle $$\n",
        "\n",
        "Si la aplicamos sobre un estado superposición, nos permite cambiar su fase local\n",
        "\n",
        "$$ Z\\left( \\frac{1}{\\sqrt{2}}( |0\\rangle + |1\\rangle  )  \\right) = \\frac{1}{\\sqrt{2}}( |0\\rangle - |1\\rangle  ). $$\n",
        "\n",
        "En la siguiente celda mostramos como implementar esto en un circuito cuántico."
      ]
    },
    {
      "cell_type": "markdown",
      "id": "878c06e0-4542-4d80-b65f-6588fd54bf3b",
      "metadata": {
        "id": "878c06e0-4542-4d80-b65f-6588fd54bf3b"
      },
      "source": [
        "Acá introducimos una barrera con la función `barrier()`, cuya función es simplemente separar visualmente distintas secciones de un circuito. El lado izquierdo de la barrera prepara el estado superposición mediante una $H$, y el lado derecho le cambia la fase local con una puerta $Z$."
      ]
    },
    {
      "cell_type": "code",
      "execution_count": null,
      "id": "9f5bdd2e-2a3c-470c-b070-dcff790ea803",
      "metadata": {
        "id": "9f5bdd2e-2a3c-470c-b070-dcff790ea803"
      },
      "outputs": [],
      "source": [
        "# Así creamos circuitos con solo registros cuánticos\n",
        "qc = QuantumCircuit( 1 )   #solo registro cuántico, el registro cuántico está escondido\n",
        "qc.h(0)\n",
        "qc.barrier() #función barrera para ir ordenando visualmente el circuito\n",
        "qc.z(0)\n",
        "qc.draw( output='mpl' )"
      ]
    },
    {
      "cell_type": "markdown",
      "id": "1ec2699e-cd77-4abd-8e69-39b09c64dfcd",
      "metadata": {
        "id": "1ec2699e-cd77-4abd-8e69-39b09c64dfcd"
      },
      "source": [
        "Podemos introducir entrelazamiento entre dos qubits empleando la compuerta controlled-not $CX$. Si el estado de 2 qubits es $|c,t\\rangle,$ tenemos que el qubit target $|t\\rangle$ es negado si el qubit control $|c\\rangle$ vale 1, es decir:\n",
        "\n",
        "$$CX|00\\rangle = |00\\rangle $$\n",
        "$$CX|01\\rangle = |01\\rangle $$\n",
        "$$CX|10\\rangle = |11\\rangle $$\n",
        "$$CX|11\\rangle = |10\\rangle $$\n",
        "\n",
        "Notemos que Qiskit etiqueta los qubits de derecha a izquierda, es decir $|c\\rangle$ es el qubit 0 y $|t\\rangle$ es el qubit 1.\n",
        "\n",
        "La compuerta $CX$ en su representación matricial,\n",
        "\n",
        "$$ CX = \\begin{bmatrix} 1 & 0 & 0 & 0 \\\\ 0 & 1 & 0 & 0 \\\\ 0 & 0 & 0 & 1 \\\\ 0 & 0 & 1 & 0 \\end{bmatrix} $$"
      ]
    },
    {
      "cell_type": "markdown",
      "id": "ef46249f-3b3b-4a0c-ab55-a99aba66ccc3",
      "metadata": {
        "id": "ef46249f-3b3b-4a0c-ab55-a99aba66ccc3"
      },
      "source": [
        "Definamos un circuito de 2 qubits y apliquemos una $CX$."
      ]
    },
    {
      "cell_type": "code",
      "execution_count": null,
      "id": "8044f5b1-baf0-4966-aef5-ab9f11fa3232",
      "metadata": {
        "id": "8044f5b1-baf0-4966-aef5-ab9f11fa3232"
      },
      "outputs": [],
      "source": [
        "circ_cuant = QuantumCircuit( 2 )\n",
        "circ_cuant.cx( control_qubit=0, target_qubit=1 )\n",
        "circ_cuant.draw( output='mpl' )"
      ]
    },
    {
      "cell_type": "markdown",
      "id": "b901ec0b-c851-471f-8dae-291f08bf0771",
      "metadata": {
        "id": "b901ec0b-c851-471f-8dae-291f08bf0771"
      },
      "source": [
        "Veamos un ejemplo más complejo. Consideremos el siguiente estado entrelazado:\n",
        "$$ |\\psi\\rangle = \\frac{1}{\\sqrt{2}}( |00\\rangle + |11\\rangle ) $$\n",
        "El circuito cuántico que prepara este estado emplea una $H$ y una $CX$."
      ]
    },
    {
      "cell_type": "code",
      "execution_count": null,
      "id": "b561c13b-20ce-40f8-9476-fb9fb88a7c60",
      "metadata": {
        "id": "b561c13b-20ce-40f8-9476-fb9fb88a7c60"
      },
      "outputs": [],
      "source": [
        "#Ejemplo\n",
        "qc = QuantumCircuit(2)\n",
        "\n",
        "qc.h(0)\n",
        "qc.cx(0,1)\n",
        "\n",
        "qc.draw( output='mpl' )"
      ]
    },
    {
      "cell_type": "markdown",
      "id": "7ee11798-3ec8-4c5d-b137-9e0a7aaf415a",
      "metadata": {
        "id": "7ee11798-3ec8-4c5d-b137-9e0a7aaf415a"
      },
      "source": [
        "Una herramienta util para estos casos es revisar el estado final de un circuito utilizando `Statevector()`."
      ]
    },
    {
      "cell_type": "code",
      "execution_count": null,
      "id": "73d87517-7e6b-4f50-a8ad-4dbf9b4f0de9",
      "metadata": {
        "id": "73d87517-7e6b-4f50-a8ad-4dbf9b4f0de9"
      },
      "outputs": [],
      "source": [
        "from qiskit.quantum_info import Statevector"
      ]
    },
    {
      "cell_type": "code",
      "execution_count": null,
      "id": "880e6220-cccb-4580-9cf9-807b4271d8c2",
      "metadata": {
        "id": "880e6220-cccb-4580-9cf9-807b4271d8c2"
      },
      "outputs": [],
      "source": [
        "Statevector(qc)\n",
        "# Representación vectorial del estado cuántico que se obtiene luego de pasar por el circuito"
      ]
    },
    {
      "cell_type": "markdown",
      "id": "4e478803-c478-49bf-93b8-7dd59f806870",
      "metadata": {
        "id": "4e478803-c478-49bf-93b8-7dd59f806870"
      },
      "source": [
        "**Ejercicio 2**: Construir un circuito cuántico para preparar el estado\n",
        "$$ |\\psi\\rangle = \\frac{1}{\\sqrt{2}}( |01\\rangle - |10\\rangle ). $$"
      ]
    },
    {
      "cell_type": "code",
      "execution_count": null,
      "id": "1037bcc1-e41f-4b82-8396-c7e2e226697c",
      "metadata": {
        "id": "1037bcc1-e41f-4b82-8396-c7e2e226697c"
      },
      "outputs": [],
      "source": [
        "#Respuesta 2:\n"
      ]
    },
    {
      "cell_type": "markdown",
      "id": "53b438a9-3561-4afb-b877-17308f957932",
      "metadata": {
        "id": "53b438a9-3561-4afb-b877-17308f957932"
      },
      "source": [
        "¿Qué pasa al aplicar 2 X consecutivas, 2 CX consecutivas y 2 H consecutivas?"
      ]
    },
    {
      "cell_type": "code",
      "execution_count": null,
      "id": "4d1fb34b-fe6e-45fb-bc0f-08d10470a79c",
      "metadata": {
        "id": "4d1fb34b-fe6e-45fb-bc0f-08d10470a79c"
      },
      "outputs": [],
      "source": [
        "#Ejemplo\n",
        "qc = QuantumCircuit(2)\n",
        "\n",
        "\n",
        "\n",
        "qc.draw(output='mpl')"
      ]
    },
    {
      "cell_type": "code",
      "execution_count": null,
      "id": "7e732d0b-2ecf-40ce-ba2d-f73322b64462",
      "metadata": {
        "id": "7e732d0b-2ecf-40ce-ba2d-f73322b64462"
      },
      "outputs": [],
      "source": [
        "Statevector(qc)"
      ]
    },
    {
      "cell_type": "markdown",
      "id": "208e3ebc-b05b-41f8-b209-dc143553417c",
      "metadata": {
        "id": "208e3ebc-b05b-41f8-b209-dc143553417c"
      },
      "source": [
        "## Mediciones\n",
        "\n",
        "Las mediciones nos permiten extraer información del estado cuántico. Los resultados son aleatorios y proyectan el estado despues de la medida. Podemos introducir una medición en un circuito mediante la función `measure( qubit, clbit )`, donde debemos especificar que qubits medimos y en que clbit guardamos los resultados."
      ]
    },
    {
      "cell_type": "code",
      "execution_count": null,
      "id": "6d35f1b5-0b6a-4990-9b91-b2e05dd86f31",
      "metadata": {
        "id": "6d35f1b5-0b6a-4990-9b91-b2e05dd86f31"
      },
      "outputs": [],
      "source": [
        "qc = QuantumCircuit( 1, 1 )\n",
        "qc.measure( 0, 0 )  # qubit a medir , bits en donde se guarda la medicion\n",
        "qc.draw( output='mpl' )\n",
        "\n",
        "# La información queda almacenada en los bits clásicos"
      ]
    },
    {
      "cell_type": "markdown",
      "id": "3e988ea7-aa09-4d1b-9579-71c5e03a24b6",
      "metadata": {
        "id": "3e988ea7-aa09-4d1b-9579-71c5e03a24b6"
      },
      "source": [
        "Ahora realizaremos la SIMULACIÓN de un experimento! Consideremos un circuito cuántico de 1 qubit con una puerta $H$ y una medición"
      ]
    },
    {
      "cell_type": "code",
      "execution_count": null,
      "id": "ea1fe8c6-9dce-457e-866f-1f0ec851dec1",
      "metadata": {
        "id": "ea1fe8c6-9dce-457e-866f-1f0ec851dec1"
      },
      "outputs": [],
      "source": [
        "# en un computador clásico\n",
        "qc = QuantumCircuit( 1, 1 )\n",
        "qc.h( 0 )\n",
        "qc.measure( 0, 0 )\n",
        "qc.draw(output='mpl')"
      ]
    },
    {
      "cell_type": "markdown",
      "id": "8f1aafba-34f5-4702-969a-923855ee0a8c",
      "metadata": {
        "id": "8f1aafba-34f5-4702-969a-923855ee0a8c"
      },
      "source": [
        "Qiskit incluye varios simuladores para ejecutar circuitos dentro del módulo `Aer`.\n",
        "Para sacar la estadística del experimento."
      ]
    },
    {
      "cell_type": "code",
      "execution_count": null,
      "id": "bcd379e1-c470-41ce-8e8d-5d7114245231",
      "metadata": {
        "id": "bcd379e1-c470-41ce-8e8d-5d7114245231"
      },
      "outputs": [],
      "source": [
        "from qiskit_aer import Aer  #simulador más general\n",
        "Aer.backends() #así se obtiene el simulador"
      ]
    },
    {
      "cell_type": "markdown",
      "id": "d341cef9-7479-4b00-9a1c-83366a15adf4",
      "metadata": {
        "id": "d341cef9-7479-4b00-9a1c-83366a15adf4"
      },
      "source": [
        "Como podemos ver existen muchos simuladores, y cada uno es útil en un contexto diferente. Nosotros utilizaremos el más general de todos, el `aer_simulator`."
      ]
    },
    {
      "cell_type": "code",
      "execution_count": null,
      "id": "4af84906-3aec-4e50-88ea-21ffefcc2900",
      "metadata": {
        "id": "4af84906-3aec-4e50-88ea-21ffefcc2900"
      },
      "outputs": [],
      "source": [
        "simulador = Aer.get_backend( \"aer_simulator\" )"
      ]
    },
    {
      "cell_type": "markdown",
      "id": "3f74c79c-deac-4b58-b9ea-b25011159e69",
      "metadata": {
        "id": "3f74c79c-deac-4b58-b9ea-b25011159e69"
      },
      "source": [
        "Ejecutamos nuestro circuito mediante el simulador gracias al comando `run`. Recuerda que las mediciones en mecánica cuantica son aleatorias, de modo que debemos repetir la medición varias veces para estimar las probabilidades de cada resultado. Esto lo especificamos con el input `shots`."
      ]
    },
    {
      "cell_type": "code",
      "execution_count": null,
      "id": "5ae75e89-9ece-4032-8816-edb9da2f175a",
      "metadata": {
        "id": "5ae75e89-9ece-4032-8816-edb9da2f175a"
      },
      "outputs": [],
      "source": [
        "#Generalmente se utilizan shots = 2^13 = 8.192\n",
        "job = simulador.run( qc, shots=100 )\n",
        "# shots = corridas del simulador"
      ]
    },
    {
      "cell_type": "markdown",
      "id": "396b56e6-e981-44f9-b76f-c4d412a0b620",
      "metadata": {
        "id": "396b56e6-e981-44f9-b76f-c4d412a0b620"
      },
      "source": [
        "Al ejecutar el circuito se nos creará un `Job`. Cuando el `Job` haya terminado, extraemos los resultados y posteriormente las cuentas."
      ]
    },
    {
      "cell_type": "code",
      "execution_count": null,
      "id": "79d96b93-dbc2-4668-a947-4a709f70ab7a",
      "metadata": {
        "id": "79d96b93-dbc2-4668-a947-4a709f70ab7a"
      },
      "outputs": [],
      "source": [
        "counts = job.result().get_counts() #diccionario con los resultados\n",
        "print( counts )"
      ]
    },
    {
      "cell_type": "markdown",
      "id": "229f1348-4908-489e-94e4-569724f4b100",
      "metadata": {
        "id": "229f1348-4908-489e-94e4-569724f4b100"
      },
      "source": [
        "Podemos graficar estas cuentas mediante la función `plot_histogram` de `qiskit.visualization`."
      ]
    },
    {
      "cell_type": "code",
      "execution_count": null,
      "id": "f7b6a00d-23fa-4908-91be-4a2c324a0daf",
      "metadata": {
        "id": "f7b6a00d-23fa-4908-91be-4a2c324a0daf"
      },
      "outputs": [],
      "source": [
        "from qiskit.visualization import plot_histogram #herramienta de qiskit"
      ]
    },
    {
      "cell_type": "code",
      "execution_count": null,
      "id": "7979e71a-ba8c-4978-82fc-2badf1740487",
      "metadata": {
        "id": "7979e71a-ba8c-4978-82fc-2badf1740487"
      },
      "outputs": [],
      "source": [
        "#Graficamos las cuentas creadas anteriormente en un histogram\n",
        "plot_histogram( counts )"
      ]
    },
    {
      "cell_type": "markdown",
      "id": "8ced2771-c5a1-4948-a8ab-900276a821f7",
      "metadata": {
        "id": "8ced2771-c5a1-4948-a8ab-900276a821f7"
      },
      "source": [
        "La Hadamard nos permite preparar un estado igualmente ponderado entre el $|0\\rangle$ y el $|1\\rangle$, lo cual concuerda con el resultado de la simulación, donde se ve que cada resultado se obtuvo con probabilidad cercana al $50\\%$."
      ]
    },
    {
      "cell_type": "markdown",
      "id": "8e9a8b05-baf1-4146-ab3d-75ee12e5a1be",
      "metadata": {
        "id": "8e9a8b05-baf1-4146-ab3d-75ee12e5a1be"
      },
      "source": [
        "**Ejercicio 3**: Construir un circuito que prepare y mida el estado cuántico\n",
        "$$ |\\psi\\rangle = \\frac{1}{\\sqrt{2}}( |0\\rangle - i |1\\rangle ). $$\n",
        "Tambien realice un gráfico de la cuentas. Hint: buscar en Qiskit la definición de la puerta de fase (compuerta S)."
      ]
    },
    {
      "cell_type": "code",
      "execution_count": null,
      "id": "d6dab4d6-b245-4370-9224-3c58542214db",
      "metadata": {
        "id": "d6dab4d6-b245-4370-9224-3c58542214db"
      },
      "outputs": [],
      "source": [
        "# Ejercicio 3\n"
      ]
    },
    {
      "cell_type": "markdown",
      "id": "46349765-330b-4d6f-8faa-2f392b99d547",
      "metadata": {
        "id": "46349765-330b-4d6f-8faa-2f392b99d547"
      },
      "source": [
        "**Ejercicio 4**: Construya un circuito que prepare y mida el estado cuántico\n",
        "$$ |\\psi\\rangle = \\frac{1}{2}( |00\\rangle + |01\\rangle + |10\\rangle + |11\\rangle  ). $$\n",
        "Tambien realice un gráfico de la cuentas."
      ]
    },
    {
      "cell_type": "code",
      "execution_count": null,
      "id": "4b90ff52-1603-4e13-b5a9-a1ad53c9690a",
      "metadata": {
        "collapsed": true,
        "id": "4b90ff52-1603-4e13-b5a9-a1ad53c9690a"
      },
      "outputs": [],
      "source": [
        "# Ejercicio 4\n"
      ]
    },
    {
      "cell_type": "markdown",
      "id": "71c33ff1-6355-40ea-baea-eda954729724",
      "metadata": {
        "id": "71c33ff1-6355-40ea-baea-eda954729724"
      },
      "source": [
        "Otro simulador muy útil es el `statevector_simulator`, el cual nos entrega el estado cuántico que define un circuito. Es importante destacar que este simulador solo acepta circuitos que NO incluyan MEDICIONES.\n"
      ]
    },
    {
      "cell_type": "code",
      "execution_count": null,
      "id": "7250322c-7b8d-4833-bcfd-9eb1ed148023",
      "metadata": {
        "id": "7250322c-7b8d-4833-bcfd-9eb1ed148023"
      },
      "outputs": [],
      "source": [
        "statevector_simulator = Aer.get_backend( \"statevector_simulator\" )"
      ]
    },
    {
      "cell_type": "markdown",
      "id": "11625784-2657-4626-bf0b-3bf844a2c3a7",
      "metadata": {
        "id": "11625784-2657-4626-bf0b-3bf844a2c3a7"
      },
      "source": [
        "Tomemos por ejemplo el último circuito. Despues de ejecutarlo con este simulador podemos obtener su estado con el comando `get_statevector()`."
      ]
    },
    {
      "cell_type": "code",
      "execution_count": null,
      "id": "a91e8c14-4108-48fb-91ab-bf82679be3a0",
      "metadata": {
        "id": "a91e8c14-4108-48fb-91ab-bf82679be3a0"
      },
      "outputs": [],
      "source": [
        "# Copiar el circuito acá, sin mediciones, y ejecutarlo denuevo.\n"
      ]
    },
    {
      "cell_type": "markdown",
      "id": "a3951507-74ea-4e53-af73-a5fd0b00d6ef",
      "metadata": {
        "id": "a3951507-74ea-4e53-af73-a5fd0b00d6ef"
      },
      "source": [
        "**Ejercicio 5**: Construya un circuito que prepare el siguiente estado cuántico\n",
        "$$ |\\psi\\rangle = \\frac{1}{\\sqrt{2}}( |01\\rangle + |10\\rangle ). $$\n",
        "Ejecutelo con el `statevector_simulator` y obtenga su estado. Grafique el estado sobre la Q-esfera."
      ]
    },
    {
      "cell_type": "code",
      "execution_count": null,
      "id": "e14e81a4-12e8-4032-99e9-0d28141a904b",
      "metadata": {
        "id": "e14e81a4-12e8-4032-99e9-0d28141a904b"
      },
      "outputs": [],
      "source": [
        "# Ejercicio 5\n"
      ]
    },
    {
      "cell_type": "markdown",
      "id": "ad7f026e-a6f0-413a-9672-530728fbeb09",
      "metadata": {
        "id": "ad7f026e-a6f0-413a-9672-530728fbeb09"
      },
      "source": [
        "**Ejercicio 6**: Construya un circuito que prepare el siguiente estado entrelazado de tres qubits\n",
        "\n",
        "$$ |\\psi\\rangle = \\frac{1}{\\sqrt{2}}( |000\\rangle + |111\\rangle ). $$\n",
        "\n",
        "Este estado fue introducido en 1989 por Daniel Greenberger, Michael Horne and Anton Zeilinger, y por eso es conocido como estado GHZ. Hay que destacar que Zeilinger fue galardonado el año 2022 con el premio Nobel de Física por su trabajo en información cuántica!\n",
        "\n",
        "Utilice el `statevector_simulator` para obtener el estado del ciruito y grafíquelo con la Q-esfera. Posteriormente, incluya mediciones en su circuito y utilice el `aer_simulator` para realizar la simulación del circuito. Grafique un histograma de las cuentas."
      ]
    },
    {
      "cell_type": "code",
      "execution_count": null,
      "id": "c934e3a8-a411-4e6c-88e8-04f8e11289b4",
      "metadata": {
        "id": "c934e3a8-a411-4e6c-88e8-04f8e11289b4"
      },
      "outputs": [],
      "source": [
        "#Ejercicio 6:\n"
      ]
    },
    {
      "cell_type": "markdown",
      "id": "11865393",
      "metadata": {
        "id": "11865393"
      },
      "source": [
        "## Qiskit primitives\n",
        "\n",
        "Recientemente se han introducido los qiskit primitives para ejecutar y simular circuitos. Estas corresponden a los bloques de construcción más simples a partir del cual se pueden crear algoritmos más complejos. Estos son el ``sampler`` y el ``estimator``. Pronto estos pasarán a su versiones V2, pero por simplicidad utilizaremos las version V1."
      ]
    },
    {
      "cell_type": "code",
      "execution_count": null,
      "id": "07028cdf",
      "metadata": {
        "id": "07028cdf"
      },
      "outputs": [],
      "source": [
        "from qiskit.primitives import Sampler, Estimator\n",
        "\n",
        "sampler = Sampler()\n",
        "estimator = Estimator()"
      ]
    },
    {
      "cell_type": "markdown",
      "id": "d6b6c94f",
      "metadata": {
        "id": "d6b6c94f"
      },
      "source": [
        "El primitive ``Sampler``, similar al ``aer_simulator``, permite muestrear la distribución de probabilidad al medir un circuito."
      ]
    },
    {
      "cell_type": "code",
      "execution_count": null,
      "id": "abaaed5e",
      "metadata": {
        "id": "abaaed5e"
      },
      "outputs": [],
      "source": [
        "qc = QuantumCircuit( 1, 1 )\n",
        "qc.h(0)\n",
        "qc.measure(0,0)\n",
        "\n",
        "job = sampler.run( [qc] )\n",
        "distribution = job.result().quasi_dists\n",
        "\n",
        "print(f'La distribución de probabilidad del circuito simulado es', distribution[0])\n"
      ]
    },
    {
      "cell_type": "markdown",
      "source": [
        "**Ejercicio 7**: Construir el estado GHZ de 4 qubits\n",
        "$$\n",
        "|GHZ_4\\rangle = \\frac{1}{\\sqrt{2}}(|0000\\rangle + |1111\\rangle)\n",
        "$$\n",
        " y simular la distribución de probabilidad utilizando el primitive Sampler. La distribución de probabilidad la entrega con la etiqueta decimal de los estados,\n",
        " $$\n",
        "|0000\\rangle = |0\\rangle , \\,  |1111\\rangle = |15\\rangle.\n",
        " $$"
      ],
      "metadata": {
        "id": "BtyjwAUstYD4"
      },
      "id": "BtyjwAUstYD4"
    },
    {
      "cell_type": "code",
      "source": [
        "# Ejercicio 7\n",
        "\n",
        "#Construir circuito\n",
        "\n",
        "# Realizar la simulación\n"
      ],
      "metadata": {
        "id": "sUh1c8lYt_9z"
      },
      "id": "sUh1c8lYt_9z",
      "execution_count": null,
      "outputs": []
    },
    {
      "cell_type": "markdown",
      "id": "41ae3c0d",
      "metadata": {
        "id": "41ae3c0d"
      },
      "source": [
        "Por otra parte, ``Estimator`` permite evaluar valores de expectación de observables, los cuales son operadores hermíticos. Sea $A$ un observable, su valor esperado sobre un estado cuántico $|\\psi\\rangle$ es\n",
        "$$ \\langle A \\rangle = \\langle \\psi | A | \\psi \\rangle. $$\n",
        "Los observables más conocidos son los operadores de Pauli,\n",
        "$$\\sigma_x = \\begin{pmatrix} 0 & 1 \\\\ 1 & 0 \\end{pmatrix} \\quad \\sigma_y = \\begin{pmatrix} 0 & -1j \\\\ 1j & 0 \\end{pmatrix}  \\quad \\sigma_z = \\begin{pmatrix} 1 & 0 \\\\ 0 & -1 \\end{pmatrix}. $$\n",
        "Estimemos el valor esperado de $\\sigma_y$ en el estado $H|0\\rangle$. Esto lo hacemos incluyendo el string ``'Y'`` en el argumento de ``Estimator.run``. Notemos que cuando usamos ``Estimator`` no debemos incluir medidas en el circuito."
      ]
    },
    {
      "cell_type": "code",
      "execution_count": null,
      "id": "ef1741e8",
      "metadata": {
        "id": "ef1741e8"
      },
      "outputs": [],
      "source": [
        "# Construir circuito\n",
        "qc = QuantumCircuit( 1, 1 )\n",
        "qc.h(0)\n",
        "\n",
        "# Realizar la simulación\n",
        "job = estimator.run( qc, 'Y' )\n",
        "valor = job.result().values\n",
        "\n",
        "print(f'El valor esperado simulado al medir Y es', valor[0])"
      ]
    },
    {
      "cell_type": "markdown",
      "source": [
        "Una opción para escribir operadores u observables es utilizar la función\n",
        "`SparsePauliOp`. Por ejemplo, el observable $O = X + 3Y$ se escribe:"
      ],
      "metadata": {
        "id": "KP98O2Pxrl5o"
      },
      "id": "KP98O2Pxrl5o"
    },
    {
      "cell_type": "code",
      "source": [
        "from qiskit.quantum_info import SparsePauliOp\n",
        "\n",
        "Obs = SparsePauliOp(['X','Y'], [1,3])\n",
        "\n",
        "print(Obs)"
      ],
      "metadata": {
        "id": "TPtA0tcLrlmY"
      },
      "id": "TPtA0tcLrlmY",
      "execution_count": null,
      "outputs": []
    },
    {
      "cell_type": "markdown",
      "source": [
        "**Ejercicio 8**: Considerando el circuito GHZ de 4 qubits, encontrar el valor de expectación de el observable\n",
        "$$\n",
        "O = IXIX + 3ZIZI.\n",
        "$$"
      ],
      "metadata": {
        "id": "z1SveoI5o-ix"
      },
      "id": "z1SveoI5o-ix"
    },
    {
      "cell_type": "code",
      "source": [
        "## Ejercicio 8\n",
        "\n",
        "#Construir circuito\n",
        "\n",
        "#Construir Observable\n"
      ],
      "metadata": {
        "id": "KlJisxNSo-Fl"
      },
      "id": "KlJisxNSo-Fl",
      "execution_count": null,
      "outputs": []
    },
    {
      "cell_type": "markdown",
      "id": "b9d75c60-d453-4158-a616-56ea0d684632",
      "metadata": {
        "id": "b9d75c60-d453-4158-a616-56ea0d684632"
      },
      "source": [
        "## Computadores cuánticos reales\n",
        "\n",
        "También podemos ejecutar nuestros circuitos utilizando computadores cuánticos reales. Primero debemos crear una cuenta de IBM Quantum y cargarla/guardarla."
      ]
    },
    {
      "cell_type": "code",
      "execution_count": null,
      "id": "f39740a8-85ca-452e-bdac-07cb02ce5034",
      "metadata": {
        "id": "f39740a8-85ca-452e-bdac-07cb02ce5034"
      },
      "outputs": [],
      "source": [
        "from qiskit_ibm_runtime import QiskitRuntimeService\n",
        "\n",
        "#TOKEN tiene que estar entre comillas!!\n",
        "TOKEN = ' '\n",
        "\n",
        "QiskitRuntimeService.save_account( token=TOKEN,\n",
        "  channel=\"ibm_quantum\" , overwrite=True) # `channel` distinguishes between different account types\n",
        "\n",
        "# Load saved credentials\n",
        "service = QiskitRuntimeService()"
      ]
    },
    {
      "cell_type": "markdown",
      "id": "6b6aa5f1-9e66-4552-8c5c-4f9aa68af8d0",
      "metadata": {
        "id": "6b6aa5f1-9e66-4552-8c5c-4f9aa68af8d0"
      },
      "source": [
        "Desde nuestro `QiskitRuntimeService` podemos ver los dispositivos que tenemos disponibles de (`IBMBackend`), los computadores cuánticos reales."
      ]
    },
    {
      "cell_type": "code",
      "source": [
        "# the backends you have access to\n",
        "print(service.backends())"
      ],
      "metadata": {
        "id": "PmvODywDBoIH"
      },
      "id": "PmvODywDBoIH",
      "execution_count": null,
      "outputs": []
    },
    {
      "cell_type": "markdown",
      "source": [
        "Podemos ver las propiedades de estos dispositivos. La lista completa de atributos de la clase `IBMBackend` se encuentra en https://docs.quantum.ibm.com/api/qiskit-ibm-runtime/qiskit_ibm_runtime.IBMBackend .\n",
        "\n",
        "Tambien podemos obtener información de las propiedades y arquitectura de los dispositivos dentro de la plataforma de IBM https://quantum.ibm.com/services/resources ."
      ],
      "metadata": {
        "id": "Nz0Q_Z98DUdd"
      },
      "id": "Nz0Q_Z98DUdd"
    },
    {
      "cell_type": "code",
      "source": [
        "# Podemos ver las propiedades de estos dispositivo\n",
        "backend = service.backend(\"ibm_brisbane\")\n",
        "\n",
        "print(\n",
        "    f\"Name: {backend.name}\\n\"\n",
        "    f\"Version: {backend.version}\\n\"\n",
        "    f\"No. of qubits: {backend.num_qubits}\\n\"\n",
        "    f\"Basis Gates: {backend.basis_gates}\\n\"\n",
        ")"
      ],
      "metadata": {
        "id": "xdE9gHmcDGS1"
      },
      "id": "xdE9gHmcDGS1",
      "execution_count": null,
      "outputs": []
    },
    {
      "cell_type": "markdown",
      "source": [
        "## Ejecutar un circuito en un computador cuántico real\n",
        "\n",
        "Primero construyamo el  circuito a ejecutar."
      ],
      "metadata": {
        "id": "pzk8m5u7Hc4r"
      },
      "id": "pzk8m5u7Hc4r"
    },
    {
      "cell_type": "code",
      "source": [
        "qc = QuantumCircuit(2,1)\n",
        "\n",
        "qc.h(0)\n",
        "qc.cx(0,1)\n",
        "\n",
        "qc.measure(0,0)\n",
        "\n",
        "qc.draw('mpl')"
      ],
      "metadata": {
        "id": "1FeEF3ivHhny"
      },
      "id": "1FeEF3ivHhny",
      "execution_count": null,
      "outputs": []
    },
    {
      "cell_type": "markdown",
      "id": "43c6507c-3910-4ecc-9d69-48bcc2dcdd66",
      "metadata": {
        "id": "43c6507c-3910-4ecc-9d69-48bcc2dcdd66"
      },
      "source": [
        "Seleccionamos un computador cuántico para ejecutar nuestros circuitos. Por ejemplo, nosotros utilizaremos el dispositivo con menos cola de espera."
      ]
    },
    {
      "cell_type": "code",
      "execution_count": null,
      "id": "630f2681-60f2-487a-b3ea-4bde1d567e5a",
      "metadata": {
        "id": "630f2681-60f2-487a-b3ea-4bde1d567e5a"
      },
      "outputs": [],
      "source": [
        "comp_cuant = service.least_busy(operational=True, simulator=False)\n",
        "\n",
        "print(\n",
        "    f\"Name: {comp_cuant.name}\\n\"\n",
        "    f\"Version: {comp_cuant.version}\\n\"\n",
        "    f\"No. of qubits: {comp_cuant.num_qubits}\\n\"\n",
        "    f\"Basis Gates: {comp_cuant.basis_gates}\\n\"\n",
        ")"
      ]
    },
    {
      "cell_type": "markdown",
      "id": "9da840fe-7b54-4198-a0fa-cd33d22defcb",
      "metadata": {
        "id": "9da840fe-7b54-4198-a0fa-cd33d22defcb"
      },
      "source": [
        "Antes de ejecutar nuestro circuito en un computador cuantico real, es necesario \"transpilar\" el circuito, es decir, reescribirlo de modo que solo utilice las instrucciones disponibles en el backend elegido. El proceso de transpilado tambien optimiza las instrucciones para minimizar los efectos del ruido.\n",
        "\n",
        "Para más información sobre el proceso de transpilado visitar: https://docs.quantum.ibm.com/guides/transpile"
      ]
    },
    {
      "cell_type": "code",
      "execution_count": null,
      "id": "bYyacP4GwwE4",
      "metadata": {
        "id": "bYyacP4GwwE4"
      },
      "outputs": [],
      "source": [
        "from qiskit.transpiler.preset_passmanagers import generate_preset_pass_manager"
      ]
    },
    {
      "cell_type": "code",
      "source": [
        "# Las compuertas básicas del backend elegido son\n",
        "\n",
        "comp_cuant.basis_gates"
      ],
      "metadata": {
        "id": "NktbYqBrIRbH"
      },
      "id": "NktbYqBrIRbH",
      "execution_count": null,
      "outputs": []
    },
    {
      "cell_type": "code",
      "execution_count": null,
      "id": "8f2cd36c-97c9-46de-ace3-a3f656726686",
      "metadata": {
        "id": "8f2cd36c-97c9-46de-ace3-a3f656726686"
      },
      "outputs": [],
      "source": [
        "## Transpilamos el circuito a la compuertas básicas del dispositivo\n",
        "\n",
        "pass_manager = generate_preset_pass_manager(\n",
        "    optimization_level=1,\n",
        "    backend=comp_cuant,\n",
        "    layout_method=\"trivial\",\n",
        ")\n",
        "\n",
        "transpiled_circ = pass_manager.run(qc)\n",
        "\n",
        "transpiled_circ.draw('mpl')"
      ]
    },
    {
      "cell_type": "markdown",
      "source": [
        "El `layout_method` es como asignaremos los qubits del circuito a los qubits del dispositivo físico. Dependiendo de la arquitectura del computador cuántico la conexión entre qubits es distinta, por tanto es distinta la implementación de las compuertas. Y son óptimas para ciertas tareas.\n",
        "\n",
        "'trivial' = Choose a Layout by assigning n circuit qubits to device qubits $0, .., n-1$.\n",
        "\n",
        "'dense' = Choose a Layout by finding the most connected subset of qubits."
      ],
      "metadata": {
        "id": "B0B-7vrYV34s"
      },
      "id": "B0B-7vrYV34s"
    },
    {
      "cell_type": "markdown",
      "id": "0c7f741c-54f2-4eb1-b826-8aa798d789da",
      "metadata": {
        "id": "0c7f741c-54f2-4eb1-b826-8aa798d789da"
      },
      "source": [
        "Podemos ver que el circuito despues de ser transpilado, implementa la Hadamard con dos rotaciones $RZ$ y una puerta $\\sqrt{X}$, además de mostrar los 127 qubits del dispositivo como qubits ancilla. De este modo, podemos ejecutar el ciruito en el dispositivo real."
      ]
    },
    {
      "cell_type": "code",
      "source": [
        "from qiskit_ibm_runtime import SamplerV2 as Sampler ## devuelve estados cuánticos\n",
        "from qiskit_ibm_runtime import EstimatorV2 as Estimator ## devuelve valores de expectación"
      ],
      "metadata": {
        "id": "yJSltTyHJNMF"
      },
      "id": "yJSltTyHJNMF",
      "execution_count": null,
      "outputs": []
    },
    {
      "cell_type": "code",
      "source": [
        "# Correremos el circuito y nos devolverá el estado cuántico final\n",
        "\n",
        "sampler = Sampler(comp_cuant) # especificar dispositivo\n",
        "job = sampler.run([transpiled_circ] , shots = 10_000) # enviar circuito al computador y esperar\n",
        "\n",
        "# El job_id es el ID que identifica el job. Es muy importante guardar el ID de nuestros trabajos por si queremos recuperarlos más tarde.\n",
        "print(f\"job id: {job.job_id()}\")"
      ],
      "metadata": {
        "id": "h7PWoyzJH894"
      },
      "id": "h7PWoyzJH894",
      "execution_count": null,
      "outputs": []
    },
    {
      "cell_type": "markdown",
      "id": "c1d141a1-e7d2-4818-8f6d-158e4e0d27f8",
      "metadata": {
        "id": "c1d141a1-e7d2-4818-8f6d-158e4e0d27f8"
      },
      "source": [
        "Ahora nuestro circuito ha quedado en cola para ser ejecutado. Desde el job podemos ver el ID de nuestro experimento, y su estado actual.\n",
        "\n",
        "Desde la plataforma de IBM Quantum en la sección Workloads podemos ver los jobs que hemos envíado a los dispositivos reales de IBM y el tiempo de espera para los jobs enviados recientemente.\n",
        "\n",
        "https://quantum.ibm.com/workloads"
      ]
    },
    {
      "cell_type": "code",
      "execution_count": null,
      "id": "cf7d0259-9d6b-4ccb-b0b6-1a5228f7cc4f",
      "metadata": {
        "id": "cf7d0259-9d6b-4ccb-b0b6-1a5228f7cc4f"
      },
      "outputs": [],
      "source": [
        "print(job.job_id())\n",
        "print(job.status())"
      ]
    },
    {
      "cell_type": "markdown",
      "id": "6c5a75ff-8af3-4511-8f49-26042dd6942d",
      "metadata": {
        "id": "6c5a75ff-8af3-4511-8f49-26042dd6942d"
      },
      "source": [
        "Para extraer las cuentas experimentales hacemos exactamente lo mismo que antes para las simulaciones."
      ]
    },
    {
      "cell_type": "code",
      "source": [
        "job_id = ' '\n",
        "retrieved_job = service.job(job_id)\n",
        "retrieved_job.result()"
      ],
      "metadata": {
        "id": "vvlqC0c9cb3E"
      },
      "id": "vvlqC0c9cb3E",
      "execution_count": null,
      "outputs": []
    },
    {
      "cell_type": "code",
      "execution_count": null,
      "id": "74d5c242-1248-4143-9a3c-8e6feb39e9d7",
      "metadata": {
        "id": "74d5c242-1248-4143-9a3c-8e6feb39e9d7"
      },
      "outputs": [],
      "source": [
        "counts_exp = retrieved_job.result()[0].data.meas.get_counts()\n",
        "\n",
        "print( counts_exp )\n",
        "plot_histogram( counts_exp )"
      ]
    },
    {
      "cell_type": "code",
      "source": [
        "import qiskit_ibm_runtime\n",
        "qiskit_ibm_runtime.version.get_version_info()"
      ],
      "metadata": {
        "id": "5MpOkK3RNxlm"
      },
      "id": "5MpOkK3RNxlm",
      "execution_count": null,
      "outputs": []
    },
    {
      "cell_type": "code",
      "source": [
        "import qiskit\n",
        "qiskit.version.get_version_info()"
      ],
      "metadata": {
        "id": "PT6wu32oN1oI"
      },
      "id": "PT6wu32oN1oI",
      "execution_count": null,
      "outputs": []
    },
    {
      "cell_type": "markdown",
      "id": "68b4ecb8",
      "metadata": {
        "id": "68b4ecb8"
      },
      "source": [
        "## Contactos:\n",
        "\n",
        "Constanza Vargas <br>\n",
        "Estudiante magíster en ciencias físicas <br>\n",
        "Universidad de Concepción <br>\n",
        "Covargas2019@udec.cl\n",
        "\n",
        "Barbara Candia <br>\n",
        "Magíster en ciencias físicas <br>\n",
        "Universidad de Concepción <br>\n",
        "bacandia@udec.cl\n",
        "\n",
        "Luciano Pereira <br>\n",
        "Predoctoral researcher, IFF-CSIC, Spain <br>\n",
        "luciano.ivan@iff.csic.es"
      ]
    }
  ],
  "metadata": {
    "colab": {
      "provenance": []
    },
    "kernelspec": {
      "display_name": "ECC2025",
      "language": "python",
      "name": "python3"
    },
    "language_info": {
      "codemirror_mode": {
        "name": "ipython",
        "version": 3
      },
      "file_extension": ".py",
      "mimetype": "text/x-python",
      "name": "python",
      "nbconvert_exporter": "python",
      "pygments_lexer": "ipython3",
      "version": "3.12.6"
    }
  },
  "nbformat": 4,
  "nbformat_minor": 5
}