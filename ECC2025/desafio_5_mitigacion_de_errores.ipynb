{
 "cells": [
  {
   "cell_type": "code",
   "execution_count": 1,
   "metadata": {},
   "outputs": [],
   "source": [
    "pip install git+https://github.com/LucianoPereiraValenzuela/ECC_2025_testing.git"
   ]
  },
  {
   "cell_type": "code",
   "execution_count": 2,
   "metadata": {},
   "outputs": [],
   "source": [
    "import numpy as np\n",
    "import matplotlib.pyplot as plt \n",
    "from qiskit import QuantumCircuit\n",
    "from qiskit.circuit import random_circuit\n",
    "from qiskit.quantum_info import SparsePauliOp\n",
    "from ECC2025.testing import test_5a, test_5b, test_5c"
   ]
  },
  {
   "cell_type": "markdown",
   "metadata": {},
   "source": [
    "Los computadores cuánticos han mejorado mucho los últimos años, siendo capaces de ejecutar algoritmos cuánticos en número de qubits moderados. Sin embargo, no es posible resolver problemas practicos con ellos debido a que son ruidosos.\n",
    "\n",
    "Para reducir el impacto de estos errores se han propuestos varios metodos de mitigación de errores, siendo el más conocido __Zero-Noise Extrapolation (ZNE)__. Consideremos que queremos evaluar un observable $A$ sobre un estado $|\\psi\\rangle=U_mU_{m-1}\\cdots U_1|0\\rangle$, donde $\\{U_j\\}$ es una secuencia de puertas cuánticas ruidosas. Llamaremos $U=U_mU_{m-1}\\cdots U_1$ a la operación del circuito completo. ZNE se basa en obtener varias estimaciones de $\\langle A \\rangle$ con distintos ruidos realizando \"pliegues\" de las unitaria $U$:\n",
    "\n",
    "![](https://github.com/LucianoPereiraValenzuela/ECC_2025_testing/blob/main/img/ECC25_ZNE.png?raw=true)\n",
    "\n",
    "Estos circuitos son todos equivalente para estimar $A$ gracias a que las puertas cuánticas satisfacen $U^\\dagger U=I$. Introducir un $U^\\dagger U$ en el circuito es un pliegue.\n",
    "\n",
    "__Desafio:__ Escriba una función que tenga por input un circuito cuántico ```qc_U``` con la operación $U$ de un número arbitario de qubits, y que construya el circuito equivalente ```qc_U_N``` con $N$ pliegues."
   ]
  },
  {
   "cell_type": "code",
   "execution_count": 3,
   "metadata": {},
   "outputs": [],
   "source": [
    "def folding( qc_U, N ):\n",
    "\n",
    "    qc_U_N = qc_U.copy()\n",
    "\n",
    "    ##### Escriba su solución acá #####\n",
    "\n",
    "    ########################\n",
    "    \n",
    "    return qc_U_N"
   ]
  },
  {
   "cell_type": "code",
   "execution_count": 4,
   "metadata": {},
   "outputs": [
    {
     "data": {
      "image/png": "[encoded data removed]",
      "text/plain": [
       "<Figure size 352.675x117.056 with 1 Axes>"
      ]
     },
     "execution_count": 4,
     "metadata": {},
     "output_type": "execute_result"
    }
   ],
   "source": [
    "qc_U = random_circuit(1,3)\n",
    "qc_U.draw('mpl')"
   ]
  },
  {
   "cell_type": "code",
   "execution_count": 5,
   "metadata": {},
   "outputs": [
    {
     "data": {
      "image/png": "[encoded data removed]",
      "text/plain": [
       "<Figure size 352.675x117.056 with 1 Axes>"
      ]
     },
     "execution_count": 5,
     "metadata": {},
     "output_type": "execute_result"
    }
   ],
   "source": [
    "N = 2\n",
    "qc_U_N = folding( qc_U, N )\n",
    "qc_U_N.draw('mpl') "
   ]
  },
  {
   "cell_type": "code",
   "execution_count": 6,
   "metadata": {},
   "outputs": [
    {
     "name": "stdout",
     "output_type": "stream",
     "text": [
      "Su solución está equivocada, intenta de nuevo\n"
     ]
    }
   ],
   "source": [
    "test_5a( folding )"
   ]
  },
  {
   "cell_type": "markdown",
   "metadata": {},
   "source": [
    "Debido a que al plegar un circuito si profundidad aumenta, la cantidad de error que sufre tambien aumenta. \n",
    "\n",
    "__Desafio:__ Consideremos el siguiente observable de 2 qubits,\n",
    "$$ A = \\sigma_x\\otimes \\sigma_y + 2\\sigma_y\\otimes\\sigma_x + 3\\sigma_z\\otimes\\sigma_x. $$\n",
    "Construya este observable utlizando la función ``SparsePauliOp``."
   ]
  },
  {
   "cell_type": "code",
   "execution_count": 15,
   "metadata": {},
   "outputs": [
    {
     "data": {
      "text/plain": [
       "SparsePauliOp(['XY', 'YX', 'ZX'],\n",
       "              coeffs=[1.+0.j, 2.+0.j, 3.+0.j])"
      ]
     },
     "execution_count": 15,
     "metadata": {},
     "output_type": "execute_result"
    }
   ],
   "source": [
    "A = SparsePauliOp(['II'], [1])\n",
    "\n",
    "### Escriba su respuesta aca\n",
    "\n",
    "A = SparsePauliOp(['XY','YX','ZX'], [1,2,3])\n",
    "\n",
    "####\n",
    "\n",
    "A"
   ]
  },
  {
   "cell_type": "code",
   "execution_count": 16,
   "metadata": {},
   "outputs": [
    {
     "name": "stdout",
     "output_type": "stream",
     "text": [
      "Felicitaciones, tu solución es correcta!\n"
     ]
    }
   ],
   "source": [
    "test_5b( A )"
   ]
  },
  {
   "cell_type": "markdown",
   "metadata": {},
   "source": [
    "Las siguientes celdas realizan  una simulación con ruido de la evaluación de $A$. El gráfico muestra el resultado para un caso donde $\\langle A \\rangle = -3$. Podemos como el valor esperado de la simulación ruidosa se va alejando del valor ideal a medida que aumentan los pliegues."
   ]
  },
  {
   "cell_type": "code",
   "execution_count": 9,
   "metadata": {},
   "outputs": [],
   "source": [
    "from qiskit_aer.noise import NoiseModel, depolarizing_error\n",
    "from qiskit_aer.primitives import Estimator\n",
    "\n",
    "noise_model = NoiseModel()\n",
    "error = depolarizing_error( 0.01, 1 )\n",
    "noise_model.add_quantum_error( error, ['x', 'h', 'u', 'y', 'z'], [0] )\n",
    "noise_model.add_quantum_error( error, ['x', 'h', 'u', 'y', 'z'], [1] )\n",
    "\n",
    "backend = Estimator( backend_options={'noise_model':noise_model},\n",
    "                    run_options={'shots':1000, 'seed':0 },\n",
    "                    skip_transpilation = True ) "
   ]
  },
  {
   "cell_type": "code",
   "execution_count": 10,
   "metadata": {},
   "outputs": [],
   "source": [
    "def simulacion( qc_U, Ns ):\n",
    "    obs = []\n",
    "    for n in Ns:\n",
    "        qc_U_N = folding( qc_U, n )\n",
    "        job = backend.run( qc_U_N.decompose(reps=3), A )\n",
    "        obs.append( job.result().values[0] )\n",
    "    return obs "
   ]
  },
  {
   "cell_type": "code",
   "execution_count": 11,
   "metadata": {},
   "outputs": [
    {
     "data": {
      "text/plain": [
       "<matplotlib.legend.Legend at 0x17fc0200620>"
      ]
     },
     "execution_count": 11,
     "metadata": {},
     "output_type": "execute_result"
    },
    {
     "data": {
      "image/png": "[encoded data removed]",
      "text/plain": [
       "<Figure size 640x480 with 1 Axes>"
      ]
     },
     "metadata": {},
     "output_type": "display_data"
    }
   ],
   "source": [
    "qc_U = QuantumCircuit(2)\n",
    "qc_U.h(0)\n",
    "qc_U.cx(0,1)\n",
    "qc_U.sdg(1)\n",
    "Ns = [ 0, 1, 2, 3, 4 ]\n",
    "obs = np.mean([ simulacion( qc_U, Ns ) for _ in range(10) ], axis=0)\n",
    "plt.plot( Ns, obs, '-o' ) \n",
    "plt.hlines( -3, 0, 4, linestyles='--', color='tab:orange' )\n",
    "plt.xlabel('Pliegues')\n",
    "plt.ylabel(r'$\\langle A \\rangle$')\n",
    "plt.legend(['Datos ruidosos', 'Dato sin ruido'])"
   ]
  },
  {
   "cell_type": "markdown",
   "metadata": {},
   "source": [
    "Gracias a esto se puede realizar un extrapolación y obtener un estimador de $\\langle A\\rangle$ \"sin ruido\". La extrapolación más simple es la lineal, la cual toma estimadores ruidosos $\\{ \\langle A_N\\rangle \\}$ de circuitos con $N$ pliegues y supone que\n",
    "$$ \\langle A_N\\rangle \\approx a ( 2N+1) + b .$$ \n",
    "Luego, mediente interpolación por minimos cuadrados se encuentran los parametros $a$ y $b$. El estimador sin ruido es dado por\n",
    "$$ \\langle A\\rangle \\approx b .$$\n",
    "\n",
    "( figura )\n",
    "\n",
    "__Desafio:__ Complete la siguiente función que realiza el ajuste de los parametros $a$ y $b$. Puede ayudarse de funciones de otras librerias como ``numpy`` o ``scipy``.  "
   ]
  },
  {
   "cell_type": "code",
   "execution_count": 12,
   "metadata": {},
   "outputs": [],
   "source": [
    "def extrapolation( Ns, obs ):\n",
    "\n",
    "    a = 0\n",
    "    b = 0\n",
    "\n",
    "    #### Escriba su solución aca ######\n",
    "    \n",
    "    ####################################\n",
    "\n",
    "    return a, b"
   ]
  },
  {
   "cell_type": "markdown",
   "metadata": {},
   "source": [
    "Con la siguiente celda podemos ver como funciona nuestra estrapolación."
   ]
  },
  {
   "cell_type": "code",
   "execution_count": 13,
   "metadata": {},
   "outputs": [
    {
     "data": {
      "text/plain": [
       "<matplotlib.legend.Legend at 0x17fc031a390>"
      ]
     },
     "execution_count": 13,
     "metadata": {},
     "output_type": "execute_result"
    },
    {
     "data": {
      "image/png": "[encoded data removed]",
      "text/plain": [
       "<Figure size 640x480 with 1 Axes>"
      ]
     },
     "metadata": {},
     "output_type": "display_data"
    }
   ],
   "source": [
    "a, b = extrapolation( Ns, obs )\n",
    "x = np.arange(0,np.max(2*np.array(Ns)+1)+1)\n",
    "y = a * x + b \n",
    "plt.plot( 2*np.array(Ns)+1, obs, '--o' ) \n",
    "plt.plot( x, y )\n",
    "plt.plot( [0], [b], 'o' )\n",
    "plt.hlines( -3, 0, 9, linestyles='--', color='tab:red' )\n",
    "plt.xlabel('Ruido')\n",
    "plt.ylabel(r'$\\langle A\\rangle$')\n",
    "plt.legend(['Datos ruidosos', 'Ajuste', 'ZNE','Dato sin ruido' ] )"
   ]
  },
  {
   "cell_type": "code",
   "execution_count": 14,
   "metadata": {},
   "outputs": [
    {
     "name": "stdout",
     "output_type": "stream",
     "text": [
      "Su solución está equivocada, intenta de nuevo.\n"
     ]
    },
    {
     "name": "stderr",
     "output_type": "stream",
     "text": [
      "C:\\Users\\lucia\\AppData\\Local\\Temp\\ipykernel_26284\\3065500592.py:1: DeprecationWarning: Estimator has been deprecated as of Aer 0.15, please use EstimatorV2 instead.\n",
      "  test_5c( extrapolation, A, Ns, folding )\n",
      "C:\\Users\\lucia\\AppData\\Local\\Temp\\ipykernel_26284\\3065500592.py:1: DeprecationWarning: Option approximation=False is deprecated as of qiskit-aer 0.13. It will be removed no earlier than 3 months after the release date. Instead, use BackendEstimator from qiskit.primitives.\n",
      "  test_5c( extrapolation, A, Ns, folding )\n"
     ]
    }
   ],
   "source": [
    "test_5c( extrapolation, A, Ns, folding )"
   ]
  },
  {
   "cell_type": "code",
   "execution_count": null,
   "metadata": {},
   "outputs": [],
   "source": []
  },
  {
   "cell_type": "code",
   "execution_count": null,
   "metadata": {},
   "outputs": [],
   "source": []
  },
  {
   "cell_type": "code",
   "execution_count": null,
   "metadata": {},
   "outputs": [],
   "source": []
  }
 ],
 "metadata": {
  "kernelspec": {
   "display_name": "ECC2025",
   "language": "python",
   "name": "python3"
  },
  "language_info": {
   "codemirror_mode": {
    "name": "ipython",
    "version": 3
   },
   "file_extension": ".py",
   "mimetype": "text/x-python",
   "name": "python",
   "nbconvert_exporter": "python",
   "pygments_lexer": "ipython3",
   "version": "3.12.6"
  }
 },
 "nbformat": 4,
 "nbformat_minor": 2
}
