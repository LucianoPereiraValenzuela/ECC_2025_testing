{
 "cells": [
  {
   "cell_type": "code",
   "execution_count": null,
   "metadata": {},
   "outputs": [],
   "source": [
    "pip install git+https://github.com/LucianoPereiraValenzuela/ECC_2025_testing.git "
   ]
  },
  {
   "cell_type": "code",
   "execution_count": null,
   "metadata": {},
   "outputs": [],
   "source": [
    "import numpy as np \n",
    "import matplotlib.pyplot as plt \n",
    "from qiskit import QuantumCircuit\n",
    "from qiskit.quantum_info import SparsePauliOp, Pauli\n",
    "from qiskit.primitives import Estimator\n",
    "from qiskit.circuit import ParameterVector \n",
    "from qiskit_algorithms import VQE\n",
    "from qiskit_algorithms.optimizers import COBYLA\n",
    "import warnings\n",
    "from ECC2025.testing import test_6a, test_6b, test_6c\n",
    "warnings.filterwarnings(\"ignore\") "
   ]
  },
  {
   "cell_type": "markdown",
   "metadata": {},
   "source": [
    "El Variational Quantum Eigensolver (VQE) puede ser aplicado para estudíar sistemas cuánticos complejos. Consideremos el modelo de Schwinger, el cual describe la creacion y aniquilación de electrones y positrones. Este modelo debe su nombre a Julian Seymour Schwinger, ganador del premio Nobel en física en 1965, y es muy estudiado como modelo de juguete en Cronodinámica Cuántica. Supongamos que tenemos una region del espacio unidimensional donde hay campo electromagnético, y que discretizamos esta región en $N/2$ sitios donde colocamos partículas cargadas, es decir, electrones o positrones. Cada uno de estos sitios estará representado por dos qubit, siendo el estado $|00\\rangle$ es un electro, $|11\\rangle$ un positron, $|10\\rangle$ el vacío , y $|01\\rangle$ un electrón y un positrón. Estas partículas interactúan entre ellas debido a su carga y al campo electromagnético externo. El Hamiltoniano que describe esta situación es:\n",
    "\n",
    "$$ H = g\\sum_{j=0}^{N-2}\\left( \\sigma_+^{(j)}\\sigma_-^{(j+1)} +\\sigma_-^{(j)}\\sigma_+^{(j+1)} \\right) + \\frac{m}{2}\\sum_{j=0}^{N-1}(-1)^j\\sigma_z^{(j)} + b\\sum_{j=0}^N L_j^2 $$\n",
    "\n",
    "El primer termino es responsable de la interacción $w$ de las partículas, el segundo depende de la masa $m$ de las partículas, y el último es el campo electromagnetico externo $g$, donde\n",
    "$$ L_j = l - \\frac{1}{2}\\sum_{k=0}^{j} \\left( \\sigma_z^{(k)}+(-I)^l \\right),$$\n",
    "con $l$ el campo externo constante. En este desafío obtendremos el estado de minima energía y el primer estado excitado de este Hamiltoniano.\n",
    "\n",
    "__Desafio:__ Complete la siguiente función que implementa el Hamiltoniano de Schinger. Hemos programado el primer término del Hamiltoniano, por lo que usted debe programar los dos restantes. Utilice la función ``Pauli(z,x)`` para implementar un operador de Pauli de $N$ qubits, donde ``x`` e ``y`` son vectores de tamaño $N$ de de elementos 0 y 1. Las entrada $j$ de estos vectores permiten especificar el operador de Pauli en el qubit $j$:\n",
    "\n",
    "i) $z=0$, $x=0$, $\\rightarrow I$\n",
    "\n",
    "ii) $z=0$, $x=1$, $\\rightarrow X$\n",
    "\n",
    "iii) $z=1$, $x=1$, $\\rightarrow Y$\n",
    "\n",
    "iv) $z=1$, $x=0$, $\\rightarrow Z$\n",
    "\n",
    "Suponga que $g=b=1$. "
   ]
  },
  {
   "cell_type": "code",
   "execution_count": null,
   "metadata": {},
   "outputs": [],
   "source": [
    "def H_Schwinger( Nq, m ):\n",
    "    ops  = []\n",
    "    coef = []\n",
    "    for j in range(Nq-1):\n",
    "        x = np.zeros(Nq)\n",
    "        z = np.zeros(Nq)\n",
    "        x[j]   = 1\n",
    "        x[j+1] = 1\n",
    "        ops.append( Pauli((z,x)) )\n",
    "        coef.append(1)\n",
    "        z[j]   = 1\n",
    "        z[j+1] = 1\n",
    "        ops.append( Pauli((z,x)) )\n",
    "        coef.append(1)\n",
    "\n",
    "    ####### Escribe tu solucion aca ##########    \n",
    "\n",
    "    #################################################\n",
    "    H = SparsePauliOp( ops, coef ).simplify()\n",
    "    return H "
   ]
  },
  {
   "cell_type": "code",
   "execution_count": null,
   "metadata": {},
   "outputs": [],
   "source": [
    "test_6a( H_Schwinger )"
   ]
  },
  {
   "cell_type": "markdown",
   "metadata": {},
   "source": [
    "__Desafio:__ Complete el siguiente circuito para que implementa un ansatz variacional a su elección para el Hamiltoniano de Schwinger para $N=4$ qubits. Solo puede utilizar puertas ``ry`` y ``cx``, y debe ser lo suficientemente expresivo para encontrar una buena aproximación del mínimo de energía."
   ]
  },
  {
   "cell_type": "code",
   "execution_count": null,
   "metadata": {},
   "outputs": [],
   "source": [
    "var_ansatz = QuantumCircuit(4)\n",
    "\n",
    "######## Escriba su solución acá ##########\n",
    "\n",
    "#####################################\n",
    "\n",
    "var_ansatz.draw('mpl') "
   ]
  },
  {
   "cell_type": "code",
   "execution_count": null,
   "metadata": {},
   "outputs": [],
   "source": [
    "def VQE4Schwinger( m, plot=True ):\n",
    "\n",
    "    if var_ansatz.num_parameters == 0 :\n",
    "        E = 0\n",
    "    else:\n",
    "\n",
    "        H = H_Schwinger( 4, m )\n",
    "        optimizer = COBYLA(maxiter=500)\n",
    "\n",
    "        counts = []\n",
    "        values = []\n",
    "        def store_intermediate_result(eval_count, parameters, mean, std):\n",
    "            counts.append(eval_count)\n",
    "            values.append(mean)\n",
    "\n",
    "        quantum_solver = VQE( Estimator(), var_ansatz, optimizer, \n",
    "                                callback=store_intermediate_result )\n",
    "        np.random.seed(0)\n",
    "        result = quantum_solver.compute_minimum_eigenvalue(operator=H)\n",
    "        E = result.eigenvalue.real \n",
    "\n",
    "        if plot:\n",
    "            H = H_Schwinger( 4 ,0 )\n",
    "            vals, vecs = np.linalg.eigh( H.to_matrix() )\n",
    "            plt.plot( counts, values )\n",
    "            plt.hlines(vals[0], 0, 500, color='tab:orange')\n",
    "            plt.xlabel('Evaluaciones')\n",
    "            plt.ylabel('Energía')\n",
    "            plt.legend(['VQE', 'Energía Mínima'])\n",
    "\n",
    "    return E"
   ]
  },
  {
   "cell_type": "code",
   "execution_count": null,
   "metadata": {},
   "outputs": [],
   "source": [
    "E = VQE4Schwinger(0) "
   ]
  },
  {
   "cell_type": "code",
   "execution_count": null,
   "metadata": {},
   "outputs": [],
   "source": [
    "def test_6b(H_Schwinger,var_ansatz):\n",
    "    \n",
    "    sol = True\n",
    "    if var_ansatz.num_parameters == 0 :\n",
    "        print('Tu circuito no tiene parametros.')\n",
    "        sol = False \n",
    "\n",
    "    for op in var_ansatz.count_ops().keys():\n",
    "        if op in ['ry', 'cx']:\n",
    "            pass\n",
    "        else:\n",
    "            print('Estas usando una puerta no permitida.')\n",
    "\n",
    "    def VQE4Schwinger( m, plot=True ):\n",
    "\n",
    "        if var_ansatz.num_parameters == 0 :\n",
    "            E = 0\n",
    "        else:\n",
    "            np.random.seed(0)\n",
    "            H = H_Schwinger( 4, m )\n",
    "            optimizer = COBYLA(maxiter=500)\n",
    "\n",
    "            counts = []\n",
    "            values = []\n",
    "            def store_intermediate_result(eval_count, parameters, mean, std):\n",
    "                counts.append(eval_count)\n",
    "                values.append(mean)\n",
    "\n",
    "            quantum_solver = VQE( Estimator(), var_ansatz, optimizer, \n",
    "                                    initial_point = 0.1*np.ones(var_ansatz.num_parameters), \n",
    "                                    callback=store_intermediate_result )\n",
    "            result = quantum_solver.compute_minimum_eigenvalue(operator=H)\n",
    "            E = result.eigenvalue.real \n",
    "\n",
    "            if plot:\n",
    "                plt.plot( counts, values )\n",
    "                plt.xlabel('Evaluaciones')\n",
    "                plt.ylabel('Energía')\n",
    "\n",
    "        return E\n",
    "\n",
    "    ms =  np.linspace( -5, 5, 21) \n",
    "\n",
    "    E_np = []\n",
    "    for m in ms:\n",
    "        H = H_Schwinger( 4 , m )\n",
    "        vals, vecs = np.linalg.eigh( H.to_matrix() )\n",
    "        E_np.append(vals[0])\n",
    "    E_np = np.array(E_np)\n",
    "\n",
    "    E_vs_m = [ VQE4Schwinger(m, False) for m in ms ]\n",
    "    plt.plot( ms, E_vs_m, '-o' )\n",
    "    plt.plot( ms, E_np )\n",
    "    plt.xlabel('masa')\n",
    "    plt.ylabel('Energía')\n",
    "    plt.legend(['VQE', 'Energía Mínima'])\n",
    "\n",
    "    if np.linalg.norm( E_vs_m - E_np ) > 2:\n",
    "        print('Tu circuito variación no es suficientemente expresivo para encontrar la solución')\n",
    "        sol = False \n",
    "\n",
    "    if sol:\n",
    "        print('Tu solución esta correcta!')"
   ]
  },
  {
   "cell_type": "code",
   "execution_count": null,
   "metadata": {},
   "outputs": [],
   "source": [
    "test_6b(H_Schwinger,var_ansatz)"
   ]
  },
  {
   "cell_type": "markdown",
   "metadata": {},
   "source": [
    "Este Hamiltoniano exhibe una transición de fase para $m=-1/2$. Para esta masa el estado de minima energía es inestable, así que decae a un estado con masa negativa o positiva. Para masas pasitivas tenemos que el par electron-positron se aniquilan, mientras que para masas negativas forman un estado ligado.???"
   ]
  },
  {
   "cell_type": "markdown",
   "metadata": {},
   "source": [
    "Podemos estimar el primer estado excitado de un Hamiltoniano con el Concurrent VQE. Este se basa en minimizar la función objetivo:\n",
    "$$ \\bar{E}(\\theta) = \\frac{1}{2}\\left( \\langle 0000 | U(\\theta)^\\dagger H U(\\theta) |0000\\rangle + \\langle 1000 | U(\\theta)^\\dagger H U(\\theta) |1000\\rangle \\right). $$\n",
    "Esta función objetivo puede estimarse introduciendo un qubit auxiliar, y preparando el circuito variacional\n",
    "$$ |\\bar{\\psi}(\\theta)\\rangle = |0\\rangle\\otimes U(\\theta)|0000\\rangle + |1\\rangle\\otimes U(\\theta)|1000\\rangle, $$\n",
    "y midiendo $H$ sobre los dos primeros qubits."
   ]
  },
  {
   "cell_type": "code",
   "execution_count": null,
   "metadata": {},
   "outputs": [],
   "source": [
    "def H_Schwinger_cvqe( N, m ):\n",
    "\n",
    "    H = SparsePauliOp( [(N+1)*'I'], [0] ) # Este H es solo por default. Debes redefinirlo.\n",
    "\n",
    "    ##### Escriba su solución acá #######\n",
    "\n",
    "    ####################################\n",
    "\n",
    "    return H\n",
    "\n",
    "var_ansatz_cvqe = QuantumCircuit(5)\n",
    "\n",
    "####### Escriba su solución acá #######\n",
    "\n",
    "#######################################\n",
    "\n",
    "var_ansatz_cvqe.draw('mpl')"
   ]
  },
  {
   "cell_type": "code",
   "execution_count": null,
   "metadata": {},
   "outputs": [],
   "source": [
    "def CVQE4Schwinger( m, plot=True ):\n",
    "\n",
    "    if var_ansatz_cvqe.num_parameters == 0 :\n",
    "        E = 0\n",
    "    else:\n",
    "        np.random.seed(0)\n",
    "\n",
    "        H = H_Schwinger_cvqe( 4, m )        \n",
    "        optimizer = COBYLA(maxiter=500)\n",
    "\n",
    "        counts = []\n",
    "        values = []\n",
    "        def store_intermediate_result(eval_count, parameters, \n",
    "                                        mean, std):\n",
    "            counts.append(eval_count)\n",
    "            values.append(mean)\n",
    "\n",
    "        quantum_solver = VQE( Estimator(), var_ansatz_cvqe, optimizer, \n",
    "                                initial_point = 0.1*np.ones(var_ansatz.num_parameters), \n",
    "                                callback=store_intermediate_result,\n",
    "                                )\n",
    "        result = quantum_solver.compute_minimum_eigenvalue(\n",
    "                                operator=H )\n",
    "        E = result.eigenvalue.real \n",
    "        \n",
    "        if plot:\n",
    "            H = H_Schwinger( 4 , m )\n",
    "            vals, vecs = np.linalg.eigh( H.to_matrix() )\n",
    "            plt.plot( counts, values )\n",
    "            plt.hlines( np.mean( vals[:2] ), 0, 500, color='tab:orange' )\n",
    "            plt.xlabel('Evaluaciones')\n",
    "            plt.ylabel('Energía')\n",
    "\n",
    "    ##############################\n",
    "\n",
    "    return E "
   ]
  },
  {
   "cell_type": "code",
   "execution_count": null,
   "metadata": {},
   "outputs": [],
   "source": [
    "E = CVQE4Schwinger( 0 ) "
   ]
  },
  {
   "cell_type": "code",
   "execution_count": null,
   "metadata": {},
   "outputs": [],
   "source": [
    "def test_6c( H_Schwinger, CVQE4Schwinger, VQE4Schwinger ):\n",
    "    ms =  np.linspace( -5, 5, 21) \n",
    "\n",
    "    E_np = []\n",
    "    for m in ms:\n",
    "        H = H_Schwinger( 4 , m )\n",
    "        vals, vecs = np.linalg.eigh( H.to_matrix() )\n",
    "        E_np.append(vals[:2])\n",
    "    E_np = np.array(E_np)\n",
    "\n",
    "    E_vs_m = [ VQE4Schwinger(m, False) for m in ms ]\n",
    "    E0_plus_E1_vs_m = 2*np.array([ CVQE4Schwinger(m, False) for m in ms ])\n",
    "    E1_vs_m = np.array(E0_plus_E1_vs_m) - np.array(E_vs_m)\n",
    "    plt.plot( ms, E_vs_m, ':o', color='tab:blue' )\n",
    "    plt.plot( ms, E1_vs_m, ':o', color='tab:orange' )\n",
    "    plt.plot( ms, E_np[:,0], color='tab:blue' )\n",
    "    plt.plot( ms, E_np[:,1], color='tab:orange' )\n",
    "    plt.xlabel('masa')\n",
    "    plt.ylabel('Energía')\n",
    "    plt.legend([ 'Mínimo VQE', 'Excitado CVQE', \n",
    "                'Mínimo Exacto', 'Excitado Exacto' ]) \n",
    "\n",
    "    if np.mean( np.abs( E_np - np.array([ E_vs_m, E1_vs_m ]).T )**2 ) < 1:\n",
    "        print('Tu solución esta correcta')\n",
    "    else:\n",
    "        print('Tu solución esta incorrecta.', \n",
    "                np.mean( np.abs( E_np - np.array([ E_vs_m, E1_vs_m ]).T )**2 ) )"
   ]
  },
  {
   "cell_type": "code",
   "execution_count": null,
   "metadata": {},
   "outputs": [],
   "source": [
    "test_6c( H_Schwinger, CVQE4Schwinger, VQE4Schwinger ) "
   ]
  },
  {
   "cell_type": "code",
   "execution_count": null,
   "metadata": {},
   "outputs": [],
   "source": []
  },
  {
   "cell_type": "code",
   "execution_count": null,
   "metadata": {},
   "outputs": [],
   "source": []
  }
 ],
 "metadata": {
  "kernelspec": {
   "display_name": "ECC2025",
   "language": "python",
   "name": "python3"
  },
  "language_info": {
   "codemirror_mode": {
    "name": "ipython",
    "version": 3
   },
   "file_extension": ".py",
   "mimetype": "text/x-python",
   "name": "python",
   "nbconvert_exporter": "python",
   "pygments_lexer": "ipython3",
   "version": "3.12.6"
  }
 },
 "nbformat": 4,
 "nbformat_minor": 2
}
