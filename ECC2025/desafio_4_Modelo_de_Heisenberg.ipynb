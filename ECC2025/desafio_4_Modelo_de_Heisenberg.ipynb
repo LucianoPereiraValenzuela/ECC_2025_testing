{
 "cells": [
  {
   "cell_type": "code",
   "execution_count": 10,
   "metadata": {},
   "outputs": [
    {
     "name": "stdout",
     "output_type": "stream",
     "text": [
      "Collecting git+https://github.com/LucianoPereiraValenzuela/ECC_2025_testing.gitNote: you may need to restart the kernel to use updated packages.\n",
      "\n",
      "  Cloning https://github.com/LucianoPereiraValenzuela/ECC_2025_testing.git to c:\\users\\lucia\\appdata\\local\\temp\\pip-req-build-9niushr5\n",
      "  Resolved https://github.com/LucianoPereiraValenzuela/ECC_2025_testing.git to commit 7a56353dedfaffc28ba74b00468db6e41ac422b5\n",
      "  Preparing metadata (setup.py): started\n",
      "  Preparing metadata (setup.py): finished with status 'done'\n",
      "Requirement already satisfied: numpy in c:\\users\\lucia\\miniconda3\\envs\\ecc2025\\lib\\site-packages (from ECC2025==0.1.2) (2.1.1)\n",
      "Requirement already satisfied: scipy in c:\\users\\lucia\\miniconda3\\envs\\ecc2025\\lib\\site-packages (from ECC2025==0.1.2) (1.14.1)\n",
      "Requirement already satisfied: qiskit in c:\\users\\lucia\\miniconda3\\envs\\ecc2025\\lib\\site-packages (from ECC2025==0.1.2) (1.2.2)\n",
      "Requirement already satisfied: qiskit_ibm_runtime in c:\\users\\lucia\\miniconda3\\envs\\ecc2025\\lib\\site-packages (from ECC2025==0.1.2) (0.30.0)\n",
      "Requirement already satisfied: qiskit_aer in c:\\users\\lucia\\miniconda3\\envs\\ecc2025\\lib\\site-packages (from ECC2025==0.1.2) (0.15.1)\n",
      "Requirement already satisfied: pylatexenc in c:\\users\\lucia\\miniconda3\\envs\\ecc2025\\lib\\site-packages (from ECC2025==0.1.2) (2.10)\n",
      "Requirement already satisfied: matplotlib in c:\\users\\lucia\\miniconda3\\envs\\ecc2025\\lib\\site-packages (from ECC2025==0.1.2) (3.9.2)\n",
      "Requirement already satisfied: contourpy>=1.0.1 in c:\\users\\lucia\\miniconda3\\envs\\ecc2025\\lib\\site-packages (from matplotlib->ECC2025==0.1.2) (1.3.0)\n",
      "Requirement already satisfied: cycler>=0.10 in c:\\users\\lucia\\miniconda3\\envs\\ecc2025\\lib\\site-packages (from matplotlib->ECC2025==0.1.2) (0.12.1)\n",
      "Requirement already satisfied: fonttools>=4.22.0 in c:\\users\\lucia\\miniconda3\\envs\\ecc2025\\lib\\site-packages (from matplotlib->ECC2025==0.1.2) (4.54.1)\n",
      "Requirement already satisfied: kiwisolver>=1.3.1 in c:\\users\\lucia\\miniconda3\\envs\\ecc2025\\lib\\site-packages (from matplotlib->ECC2025==0.1.2) (1.4.7)\n",
      "Requirement already satisfied: packaging>=20.0 in c:\\users\\lucia\\miniconda3\\envs\\ecc2025\\lib\\site-packages (from matplotlib->ECC2025==0.1.2) (24.1)\n",
      "Requirement already satisfied: pillow>=8 in c:\\users\\lucia\\miniconda3\\envs\\ecc2025\\lib\\site-packages (from matplotlib->ECC2025==0.1.2) (10.4.0)\n",
      "Requirement already satisfied: pyparsing>=2.3.1 in c:\\users\\lucia\\miniconda3\\envs\\ecc2025\\lib\\site-packages (from matplotlib->ECC2025==0.1.2) (3.1.4)\n",
      "Requirement already satisfied: python-dateutil>=2.7 in c:\\users\\lucia\\miniconda3\\envs\\ecc2025\\lib\\site-packages (from matplotlib->ECC2025==0.1.2) (2.9.0)\n",
      "Requirement already satisfied: rustworkx>=0.15.0 in c:\\users\\lucia\\miniconda3\\envs\\ecc2025\\lib\\site-packages (from qiskit->ECC2025==0.1.2) (0.15.1)\n",
      "Requirement already satisfied: sympy>=1.3 in c:\\users\\lucia\\miniconda3\\envs\\ecc2025\\lib\\site-packages (from qiskit->ECC2025==0.1.2) (1.13.3)\n",
      "Requirement already satisfied: dill>=0.3 in c:\\users\\lucia\\miniconda3\\envs\\ecc2025\\lib\\site-packages (from qiskit->ECC2025==0.1.2) (0.3.8)\n",
      "Requirement already satisfied: stevedore>=3.0.0 in c:\\users\\lucia\\miniconda3\\envs\\ecc2025\\lib\\site-packages (from qiskit->ECC2025==0.1.2) (5.3.0)\n",
      "Requirement already satisfied: typing-extensions in c:\\users\\lucia\\miniconda3\\envs\\ecc2025\\lib\\site-packages (from qiskit->ECC2025==0.1.2) (4.12.2)\n",
      "Requirement already satisfied: symengine>=0.11 in c:\\users\\lucia\\miniconda3\\envs\\ecc2025\\lib\\site-packages (from qiskit->ECC2025==0.1.2) (0.11.0)\n",
      "Requirement already satisfied: psutil>=5 in c:\\users\\lucia\\miniconda3\\envs\\ecc2025\\lib\\site-packages (from qiskit_aer->ECC2025==0.1.2) (6.0.0)\n",
      "Requirement already satisfied: requests>=2.19 in c:\\users\\lucia\\miniconda3\\envs\\ecc2025\\lib\\site-packages (from qiskit_ibm_runtime->ECC2025==0.1.2) (2.32.3)\n",
      "Requirement already satisfied: requests-ntlm>=1.1.0 in c:\\users\\lucia\\miniconda3\\envs\\ecc2025\\lib\\site-packages (from qiskit_ibm_runtime->ECC2025==0.1.2) (1.3.0)\n",
      "Requirement already satisfied: urllib3>=1.21.1 in c:\\users\\lucia\\miniconda3\\envs\\ecc2025\\lib\\site-packages (from qiskit_ibm_runtime->ECC2025==0.1.2) (2.2.3)\n",
      "Requirement already satisfied: websocket-client>=1.5.1 in c:\\users\\lucia\\miniconda3\\envs\\ecc2025\\lib\\site-packages (from qiskit_ibm_runtime->ECC2025==0.1.2) (1.8.0)\n",
      "Requirement already satisfied: ibm-platform-services>=0.22.6 in c:\\users\\lucia\\miniconda3\\envs\\ecc2025\\lib\\site-packages (from qiskit_ibm_runtime->ECC2025==0.1.2) (0.57.1)\n",
      "Requirement already satisfied: pydantic>=2.5.0 in c:\\users\\lucia\\miniconda3\\envs\\ecc2025\\lib\\site-packages (from qiskit_ibm_runtime->ECC2025==0.1.2) (2.9.2)\n",
      "Requirement already satisfied: ibm-cloud-sdk-core<4.0.0,>=3.21.0 in c:\\users\\lucia\\miniconda3\\envs\\ecc2025\\lib\\site-packages (from ibm-platform-services>=0.22.6->qiskit_ibm_runtime->ECC2025==0.1.2) (3.21.0)\n",
      "Requirement already satisfied: annotated-types>=0.6.0 in c:\\users\\lucia\\miniconda3\\envs\\ecc2025\\lib\\site-packages (from pydantic>=2.5.0->qiskit_ibm_runtime->ECC2025==0.1.2) (0.7.0)\n",
      "Requirement already satisfied: pydantic-core==2.23.4 in c:\\users\\lucia\\miniconda3\\envs\\ecc2025\\lib\\site-packages (from pydantic>=2.5.0->qiskit_ibm_runtime->ECC2025==0.1.2) (2.23.4)\n",
      "Requirement already satisfied: six>=1.5 in c:\\users\\lucia\\miniconda3\\envs\\ecc2025\\lib\\site-packages (from python-dateutil>=2.7->matplotlib->ECC2025==0.1.2) (1.16.0)\n",
      "Requirement already satisfied: charset-normalizer<4,>=2 in c:\\users\\lucia\\miniconda3\\envs\\ecc2025\\lib\\site-packages (from requests>=2.19->qiskit_ibm_runtime->ECC2025==0.1.2) (3.3.2)\n",
      "Requirement already satisfied: idna<4,>=2.5 in c:\\users\\lucia\\miniconda3\\envs\\ecc2025\\lib\\site-packages (from requests>=2.19->qiskit_ibm_runtime->ECC2025==0.1.2) (3.10)\n",
      "Requirement already satisfied: certifi>=2017.4.17 in c:\\users\\lucia\\miniconda3\\envs\\ecc2025\\lib\\site-packages (from requests>=2.19->qiskit_ibm_runtime->ECC2025==0.1.2) (2024.8.30)\n",
      "Requirement already satisfied: cryptography>=1.3 in c:\\users\\lucia\\miniconda3\\envs\\ecc2025\\lib\\site-packages (from requests-ntlm>=1.1.0->qiskit_ibm_runtime->ECC2025==0.1.2) (43.0.1)\n",
      "Requirement already satisfied: pyspnego>=0.4.0 in c:\\users\\lucia\\miniconda3\\envs\\ecc2025\\lib\\site-packages (from requests-ntlm>=1.1.0->qiskit_ibm_runtime->ECC2025==0.1.2) (0.11.1)\n",
      "Requirement already satisfied: pbr>=2.0.0 in c:\\users\\lucia\\miniconda3\\envs\\ecc2025\\lib\\site-packages (from stevedore>=3.0.0->qiskit->ECC2025==0.1.2) (6.1.0)\n",
      "Requirement already satisfied: mpmath<1.4,>=1.1.0 in c:\\users\\lucia\\miniconda3\\envs\\ecc2025\\lib\\site-packages (from sympy>=1.3->qiskit->ECC2025==0.1.2) (1.3.0)\n",
      "Requirement already satisfied: cffi>=1.12 in c:\\users\\lucia\\miniconda3\\envs\\ecc2025\\lib\\site-packages (from cryptography>=1.3->requests-ntlm>=1.1.0->qiskit_ibm_runtime->ECC2025==0.1.2) (1.17.1)\n",
      "Requirement already satisfied: PyJWT<3.0.0,>=2.8.0 in c:\\users\\lucia\\miniconda3\\envs\\ecc2025\\lib\\site-packages (from ibm-cloud-sdk-core<4.0.0,>=3.21.0->ibm-platform-services>=0.22.6->qiskit_ibm_runtime->ECC2025==0.1.2) (2.9.0)\n",
      "Requirement already satisfied: sspilib>=0.1.0 in c:\\users\\lucia\\miniconda3\\envs\\ecc2025\\lib\\site-packages (from pyspnego>=0.4.0->requests-ntlm>=1.1.0->qiskit_ibm_runtime->ECC2025==0.1.2) (0.1.0)\n",
      "Requirement already satisfied: pycparser in c:\\users\\lucia\\miniconda3\\envs\\ecc2025\\lib\\site-packages (from cffi>=1.12->cryptography>=1.3->requests-ntlm>=1.1.0->qiskit_ibm_runtime->ECC2025==0.1.2) (2.22)\n"
     ]
    },
    {
     "name": "stderr",
     "output_type": "stream",
     "text": [
      "  Running command git clone --filter=blob:none --quiet https://github.com/LucianoPereiraValenzuela/ECC_2025_testing.git 'C:\\Users\\lucia\\AppData\\Local\\Temp\\pip-req-build-9niushr5'\n"
     ]
    }
   ],
   "source": [
    "pip install git+https://github.com/LucianoPereiraValenzuela/ECC_2025_testing.git"
   ]
  },
  {
   "cell_type": "code",
   "execution_count": 11,
   "metadata": {},
   "outputs": [],
   "source": [
    "import numpy as np\n",
    "from qiskit import QuantumCircuit, QuantumRegister\n",
    "from scipy.linalg import expm\n",
    "from qiskit.circuit import Parameter\n",
    "from qiskit.quantum_info import SparsePauliOp, Operator, process_fidelity\n",
    "from testing import test_4"
   ]
  },
  {
   "cell_type": "markdown",
   "metadata": {},
   "source": [
    "La formula de Trotter permite aproximar la evolución de un Hamiltoniano,\n",
    "$$H = \\sum_j H_j $$\n",
    "mediante un producto de evoluciones rápidas,\n",
    "$$ U(t) \\approx \\left(  \\prod_j e^{-it H_j/m} \\right)^m.$$\n",
    "La calidad de esta aproximación depende del número de pasos $m$. La formula de Trotter tiene aplicaciones en simulación de materiales, hasta resolución de ecuaciones diferenciales. Para estas aplicaciones es fundamental tener una solución de buena calidad, lo cual puede lograrse aumentando el valor de $m$. Sin embargo, existen otras estrategías que pueden mejorar la calidad sin aumentar los pasos de Trotter. La clave es darse cuenta distintas permutaciones de los operadores $H_j$ dan distintas aproximaciones. Consideremos el siguiente ejemplo\n",
    "$$ H = X + Y + Z ,$$\n",
    "donde $\\{X,Y,Z\\}$ son matrices de Pauli. Las dos siguientes transformaciones son approximaciones válidad de $U=e^{-itH}$ (con $m=1$),\n",
    "$$ U_1 = e^{-itX}e^{-itY}e^{-itZ},\\qquad U_2 = e^{-itZ}e^{-itY}e^{-itX}. $$\n",
    "Sin embargo, estas aproximaciones no tienen la misma calidad."
   ]
  },
  {
   "cell_type": "code",
   "execution_count": 12,
   "metadata": {},
   "outputs": [],
   "source": [
    "H = SparsePauliOp.from_list( [('X',1),('Y',1),('Z',1)] )\n",
    "def U(t):\n",
    "    return expm( -1j*H.to_matrix()*t )\n",
    "\n",
    "t = Parameter('t')\n",
    "m = 1 "
   ]
  },
  {
   "cell_type": "code",
   "execution_count": 13,
   "metadata": {},
   "outputs": [
    {
     "data": {
      "text/plain": [
       "0.9949598835996103"
      ]
     },
     "execution_count": 13,
     "metadata": {},
     "output_type": "execute_result"
    }
   ],
   "source": [
    "qc = QuantumCircuit(1)\n",
    "for _ in range(m):\n",
    "    qc.rx( 2*t/m, 0 )\n",
    "    qc.ry( 2*t/m, 0 )\n",
    "    qc.rz( 2*t/m, 0 )\n",
    "\n",
    "U_1 = Operator( qc.assign_parameters([0.2]) )\n",
    "process_fidelity( U_1, target=Operator(U(0.2)) )"
   ]
  },
  {
   "cell_type": "code",
   "execution_count": 14,
   "metadata": {},
   "outputs": [
    {
     "data": {
      "text/plain": [
       "0.9957866040417919"
      ]
     },
     "execution_count": 14,
     "metadata": {},
     "output_type": "execute_result"
    }
   ],
   "source": [
    "qc = QuantumCircuit(1)\n",
    "for _ in range(m):\n",
    "    qc.rz( 2*t/m, 0 )\n",
    "    qc.ry( 2*t/m, 0 )\n",
    "    qc.rx( 2*t/m, 0 )\n",
    "\n",
    "U_2 = Operator( qc.assign_parameters([0.2]) )\n",
    "process_fidelity( U_2, target=Operator(U(0.2)) )"
   ]
  },
  {
   "cell_type": "markdown",
   "metadata": {},
   "source": [
    "Podemos ver que $U_1$ tiene una fidelidad del $99.49\\%$ y $U_2$ del $99.57\\%$, es decir $U_2$ es mejor! Hacer una buena elección en el orden del producto es crucial para alcanzar una buena aproximación en un número alto de qubits. "
   ]
  },
  {
   "cell_type": "markdown",
   "metadata": {},
   "source": [
    "Consideremos ahora el modelo de Heisenberg, descrito por el siguiente Hamiltoniano\n",
    "$$H = \\sum_{j=0}^{N-2} \\left( X_jX_{j+1} + Y_{j}Y_{j+1} + Z_jZ_{j+1} \\right) + h\\sum_{j=0}^{N-1}Z_j. $$ \n",
    "Este describe la interacción magnética de una cadena de $N$ spíns en presencia de un campo magnético externo $h$. Por simplicidad consideraremos $h=0$.\n",
    "\n",
    "![](https://github.com/LucianoPereiraValenzuela/ECC_2025_testing/blob/main/img/ECC_heisenberg.png?raw=true)\n",
    "\n",
    "__Desafío:__ Aproxime mediante la formula de Trotter la evolución del modelo de Heisenberg para $N=5$ qubits. Para esto complete la siguiente celda con la implementación de una capa de trotter en ```Trot_tb_qc```. Su solución debe tener una fidelidad superior al $90\\%$ con $m=5$ pasos de trotter. \n",
    "\n",
    "(hacer figura de spins)"
   ]
  },
  {
   "cell_type": "code",
   "execution_count": 15,
   "metadata": {},
   "outputs": [
    {
     "data": {
      "image/png": "[encoded data removed]",
      "text/plain": [
       "<Figure size 162.08x451.5 with 1 Axes>"
      ]
     },
     "execution_count": 15,
     "metadata": {},
     "output_type": "execute_result"
    }
   ],
   "source": [
    "num_qubits = 5\n",
    "\n",
    "# Definimos el parámetro t\n",
    "t = Parameter('t')\n",
    "Trot_tb_qr = QuantumRegister(num_qubits, 'q')\n",
    "Trot_tb_qc = QuantumCircuit(Trot_tb_qr, name='Trot')\n",
    "\n",
    "### Escriba su solución acá ###\n",
    "\n",
    "################################\n",
    "\n",
    "Trot_tb_gate = Trot_tb_qc.to_instruction()\n",
    "\n",
    "Trot_tb_qc.draw('mpl')"
   ]
  },
  {
   "cell_type": "code",
   "execution_count": 16,
   "metadata": {},
   "outputs": [],
   "source": [
    "def U_trotterize(delta_t, trotter_steps):\n",
    "    qr = QuantumRegister(num_qubits)\n",
    "    qc = QuantumCircuit(qr)\n",
    "\n",
    "    for step in range(trotter_steps):\n",
    "        qc.append( Trot_tb_gate, list(range(num_qubits)) )\n",
    "\n",
    "    if qc.num_parameters > 0 :    \n",
    "        qc = qc.assign_parameters({t: delta_t })\n",
    "    \n",
    "    return qc"
   ]
  },
  {
   "cell_type": "code",
   "execution_count": 17,
   "metadata": {},
   "outputs": [
    {
     "name": "stdout",
     "output_type": "stream",
     "text": [
      "Fidelidad= 0.1154931716514705\n",
      "Su solución tiene fidelidad muy baja.\n"
     ]
    }
   ],
   "source": [
    "test_4( U_trotterize )"
   ]
  },
  {
   "cell_type": "code",
   "execution_count": 18,
   "metadata": {},
   "outputs": [],
   "source": [
    "#non paralell XYZ 0.9607442774787045\n",
    "#parallel XYZ     0.982892819246602"
   ]
  },
  {
   "cell_type": "code",
   "execution_count": null,
   "metadata": {},
   "outputs": [],
   "source": []
  }
 ],
 "metadata": {
  "kernelspec": {
   "display_name": "ECC2025",
   "language": "python",
   "name": "python3"
  },
  "language_info": {
   "codemirror_mode": {
    "name": "ipython",
    "version": 3
   },
   "file_extension": ".py",
   "mimetype": "text/x-python",
   "name": "python",
   "nbconvert_exporter": "python",
   "pygments_lexer": "ipython3",
   "version": "3.12.6"
  }
 },
 "nbformat": 4,
 "nbformat_minor": 2
}
