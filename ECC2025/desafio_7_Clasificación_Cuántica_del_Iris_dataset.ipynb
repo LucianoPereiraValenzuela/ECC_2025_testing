{
 "cells": [
  {
   "cell_type": "code",
   "execution_count": null,
   "metadata": {},
   "outputs": [],
   "source": [
    "pip install git+https://github.com/LucianoPereiraValenzuela/ECC_2025_testing.git "
   ]
  },
  {
   "cell_type": "code",
   "execution_count": 27,
   "metadata": {},
   "outputs": [],
   "source": [
    "import numpy as np \n",
    "import matplotlib.pyplot as plt \n",
    "from sklearn.svm import SVC \n",
    "import pandas as pd \n",
    "from qiskit import QuantumCircuit\n",
    "from qiskit.primitives import Estimator\n",
    "from qiskit.quantum_info import SparsePauliOp"
   ]
  },
  {
   "cell_type": "markdown",
   "metadata": {},
   "source": [
    "En este desafío entrenaremos un discrimonador cuántico para el conocido __\"Iris Flowers\"__ dataset. Este fue introducido por el estadístico y biólogo __Ronald A. Fisher__ en 1936 en su trabajo \"The use of multiple measurements in taxonomic problems\", sobre análisis discriminante lineal. Este conjunto contiene información sobre tres especies de flores de Iris: iris setosa, iris versicolor y viris virginica. El conjunto contiene 150 muestras, 50 por cada especie, con las siguientes características:\n",
    "\n",
    "1. Largo del sépalo.\n",
    "2. Ancho del sépalo.\n",
    "3. Largo del pétalo.\n",
    "4. Ancho del pétalo.\n",
    "\n",
    "Para aquellos que no sepan, el sépalo es la estructura externa de la flor, tipicamente verde, que forma un cáliz en la base de la flor, mientras que los pétalos son las estructuras internas, usualmente coloridos, que forman la corola de la flor. \n",
    "\n",
    "![](https://github.com/LucianoPereiraValenzuela/ECC_2025_testing/blob/main/img/ECC_iris_flower.png?raw=true)\n",
    "\n",
    "Las siguientes celdas cargan los datos y los separa en datos de entrenamiento ```(X_train, Y_train)``` y datos de test ```(X_test, Y_test)```."
   ]
  },
  {
   "cell_type": "code",
   "execution_count": 28,
   "metadata": {},
   "outputs": [
    {
     "data": {
      "text/html": [
       "<div>\n",
       "<style scoped>\n",
       "    .dataframe tbody tr th:only-of-type {\n",
       "        vertical-align: middle;\n",
       "    }\n",
       "\n",
       "    .dataframe tbody tr th {\n",
       "        vertical-align: top;\n",
       "    }\n",
       "\n",
       "    .dataframe thead th {\n",
       "        text-align: right;\n",
       "    }\n",
       "</style>\n",
       "<table border=\"1\" class=\"dataframe\">\n",
       "  <thead>\n",
       "    <tr style=\"text-align: right;\">\n",
       "      <th></th>\n",
       "      <th>sepal_length</th>\n",
       "      <th>sepal_width</th>\n",
       "      <th>petal_length</th>\n",
       "      <th>petal_width</th>\n",
       "      <th>species</th>\n",
       "    </tr>\n",
       "  </thead>\n",
       "  <tbody>\n",
       "    <tr>\n",
       "      <th>0</th>\n",
       "      <td>5.1</td>\n",
       "      <td>3.5</td>\n",
       "      <td>1.4</td>\n",
       "      <td>0.2</td>\n",
       "      <td>Iris-setosa</td>\n",
       "    </tr>\n",
       "    <tr>\n",
       "      <th>1</th>\n",
       "      <td>4.9</td>\n",
       "      <td>3.0</td>\n",
       "      <td>1.4</td>\n",
       "      <td>0.2</td>\n",
       "      <td>Iris-setosa</td>\n",
       "    </tr>\n",
       "    <tr>\n",
       "      <th>2</th>\n",
       "      <td>4.7</td>\n",
       "      <td>3.2</td>\n",
       "      <td>1.3</td>\n",
       "      <td>0.2</td>\n",
       "      <td>Iris-setosa</td>\n",
       "    </tr>\n",
       "    <tr>\n",
       "      <th>3</th>\n",
       "      <td>4.6</td>\n",
       "      <td>3.1</td>\n",
       "      <td>1.5</td>\n",
       "      <td>0.2</td>\n",
       "      <td>Iris-setosa</td>\n",
       "    </tr>\n",
       "    <tr>\n",
       "      <th>4</th>\n",
       "      <td>5.0</td>\n",
       "      <td>3.6</td>\n",
       "      <td>1.4</td>\n",
       "      <td>0.2</td>\n",
       "      <td>Iris-setosa</td>\n",
       "    </tr>\n",
       "  </tbody>\n",
       "</table>\n",
       "</div>"
      ],
      "text/plain": [
       "   sepal_length  sepal_width  petal_length  petal_width      species\n",
       "0           5.1          3.5           1.4          0.2  Iris-setosa\n",
       "1           4.9          3.0           1.4          0.2  Iris-setosa\n",
       "2           4.7          3.2           1.3          0.2  Iris-setosa\n",
       "3           4.6          3.1           1.5          0.2  Iris-setosa\n",
       "4           5.0          3.6           1.4          0.2  Iris-setosa"
      ]
     },
     "execution_count": 28,
     "metadata": {},
     "output_type": "execute_result"
    }
   ],
   "source": [
    "data = pd.read_csv(\"IRIS.csv\",  low_memory=False ) \n",
    "data.head(5)"
   ]
  },
  {
   "cell_type": "code",
   "execution_count": 29,
   "metadata": {},
   "outputs": [
    {
     "name": "stderr",
     "output_type": "stream",
     "text": [
      "C:\\Users\\lucia\\AppData\\Local\\Temp\\ipykernel_7888\\2183411358.py:10: FutureWarning: Downcasting behavior in `replace` is deprecated and will be removed in a future version. To retain the old behavior, explicitly call `result.infer_objects(copy=False)`. To opt-in to the future behavior, set `pd.set_option('future.no_silent_downcasting', True)`\n",
      "  Y_train = Y_train.replace('Iris-virginica', 2).to_numpy()\n"
     ]
    }
   ],
   "source": [
    "data    = data.sample( frac = 1, random_state=0 )\n",
    "X_train = data[ [\"sepal_length\",\"sepal_width\",\n",
    "                    \"petal_length\",\"petal_width\"]  \n",
    "                    ].to_numpy()\n",
    "X_test  = X_train[:50,:]\n",
    "X_train = X_train[50:,:]\n",
    "Y_train = data[\"species\"]\n",
    "Y_train = Y_train.replace('Iris-setosa', 0)\n",
    "Y_train = Y_train.replace('Iris-versicolor', 1)\n",
    "Y_train = Y_train.replace('Iris-virginica', 2).to_numpy()\n",
    "Y_test  = Y_train[:50]\n",
    "Y_train = Y_train[50:]"
   ]
  },
  {
   "cell_type": "markdown",
   "metadata": {},
   "source": [
    "__Desafio:__ Construya un circuito parametrico de 4 qubits para cargar los datos al computador cuántico. Este circuito cuántico debe componerse solamente de puertas ``h``, ``rz``, y ``cx``, y tener 4 parámetros."
   ]
  },
  {
   "cell_type": "code",
   "execution_count": 30,
   "metadata": {},
   "outputs": [
    {
     "data": {
      "image/png": "[encoded data removed]",
      "text/plain": [
       "<Figure size 162.08x367.889 with 1 Axes>"
      ]
     },
     "execution_count": 30,
     "metadata": {},
     "output_type": "execute_result"
    }
   ],
   "source": [
    "from qiskit.circuit import ParameterVector\n",
    "\n",
    "qc_dato = QuantumCircuit(4)\n",
    "\n",
    "#### Escribe tu solución acá\n",
    "\n",
    "####\n",
    "\n",
    "qc_dato.draw('mpl')"
   ]
  },
  {
   "cell_type": "code",
   "execution_count": 31,
   "metadata": {},
   "outputs": [],
   "source": [
    "def test_7a(qc_dato):\n",
    "    sol = True\n",
    "    if qc_dato.num_qubits == 4 :\n",
    "        pass\n",
    "    else:\n",
    "        print('Tu circuito no tiene parametros.')\n",
    "        sol = False \n",
    "    if qc_dato.num_parameters == 0 :\n",
    "        print('Tu circuito no tiene parametros.')\n",
    "        sol = False \n",
    "    elif qc_dato.num_parameters > 4:\n",
    "        print('Tu circuito tiene muchos parametros')\n",
    "        sol = False \n",
    "\n",
    "    for op in qc_dato.count_ops().keys():\n",
    "        if op in [ 'h', 'rz', 'cx' ]:\n",
    "            pass\n",
    "        else:\n",
    "            print('Estas usando una puerta no permitida.')\n",
    "\n",
    "    if sol:\n",
    "        print('Tu circuito es correcto')"
   ]
  },
  {
   "cell_type": "code",
   "execution_count": 32,
   "metadata": {},
   "outputs": [
    {
     "name": "stdout",
     "output_type": "stream",
     "text": [
      "Tu circuito no tiene parametros.\n"
     ]
    }
   ],
   "source": [
    "test_7a(qc_dato)"
   ]
  },
  {
   "cell_type": "markdown",
   "metadata": {},
   "source": [
    "__Desafio:__ Para evaluar los elementos del kernel cuántico utilizaremos el __swap test__. Esta es una técnica que permite obtener la fidelidad entre dos estados cuántico $|\\psi\\rangle$ y $|\\phi\\rangle$. Esta se basa en preparar los dos estados en conjutos de qubits diferentes, y luego conectarlos mediantes puertas ``cswap`` a un qubit auxiliar, tal como muestra la figura. Medir $\\sigma_z$ en el qubit auxiliar nos permite obtener la fidelidad entre ambos estados. \n",
    "\n",
    "![](https://github.com/LucianoPereiraValenzuela/ECC_2025_testing/blob/main/img/ECC2025_swap_test.png?raw=true)\n",
    "\n",
    "Evalue la fidelidad entre dos datos para el estado que construyo en el desafío anterior con el swap test."
   ]
  },
  {
   "cell_type": "code",
   "execution_count": 33,
   "metadata": {},
   "outputs": [
    {
     "name": "stderr",
     "output_type": "stream",
     "text": [
      "C:\\Users\\lucia\\AppData\\Local\\Temp\\ipykernel_7888\\3632112578.py:2: DeprecationWarning: The class ``qiskit.primitives.estimator.Estimator`` is deprecated as of qiskit 1.2. It will be removed no earlier than 3 months after the release date. All implementations of the `BaseEstimatorV1` interface have been deprecated in favor of their V2 counterparts. The V2 alternative for the `Estimator` class is `StatevectorEstimator`.\n",
      "  backend=Estimator(options={'seed':1}), shots=1000  ):\n"
     ]
    }
   ],
   "source": [
    "def kernel_element( dato_1, dato_2,\n",
    "                    backend=Estimator(options={'seed':1}), shots=1000  ):\n",
    "\n",
    "    value = 0 # resultado por defecto, ustede debe remplazalo\n",
    "    qc_swap_test = QuantumCircuit( 9 )\n",
    "    \n",
    "    ## Escribe tu solución acá\n",
    "\n",
    "    ##\n",
    "\n",
    "    return qc_swap_test, value"
   ]
  },
  {
   "cell_type": "code",
   "execution_count": 34,
   "metadata": {},
   "outputs": [
    {
     "name": "stdout",
     "output_type": "stream",
     "text": [
      "0\n"
     ]
    },
    {
     "data": {
      "image/png": "[encoded data removed]",
      "text/plain": [
       "<Figure size 162.08x785.944 with 1 Axes>"
      ]
     },
     "execution_count": 34,
     "metadata": {},
     "output_type": "execute_result"
    }
   ],
   "source": [
    "qc_swap_test, value = kernel_element( np.zeros(4), np.zeros(4) )\n",
    "print( value )\n",
    "qc_swap_test.draw('mpl') "
   ]
  },
  {
   "cell_type": "code",
   "execution_count": 35,
   "metadata": {},
   "outputs": [],
   "source": [
    "## test pendiente..."
   ]
  },
  {
   "cell_type": "markdown",
   "metadata": {},
   "source": [
    "La siguiente celdas calculan y muestran el kernel cuántico."
   ]
  },
  {
   "cell_type": "code",
   "execution_count": 36,
   "metadata": {},
   "outputs": [
    {
     "name": "stderr",
     "output_type": "stream",
     "text": [
      "C:\\Users\\lucia\\AppData\\Local\\Temp\\ipykernel_7888\\3321339570.py:2: DeprecationWarning: The class ``qiskit.primitives.estimator.Estimator`` is deprecated as of qiskit 1.2. It will be removed no earlier than 3 months after the release date. All implementations of the `BaseEstimatorV1` interface have been deprecated in favor of their V2 counterparts. The V2 alternative for the `Estimator` class is `StatevectorEstimator`.\n",
      "  backend=Estimator(options={'seed':1}), shots=1000 ):\n"
     ]
    }
   ],
   "source": [
    "def Quantum_Kernel( X_train, X_test=None, \n",
    "                    backend=Estimator(options={'seed':1}), shots=1000 ):\n",
    "    \"\"\" \n",
    "    X_train : vector bidimensional para entrenar\n",
    "    X_test  : vector bidimensional para testear\n",
    "    K_q     : Kernel cuantico\n",
    "    backend : simulador o computador cuantico\n",
    "    shots   : numero de shots     \n",
    "    \"\"\"\n",
    "\n",
    "    if X_test is None: \n",
    "        X_test = X_train \n",
    "    X_train = np.array(X_train) \n",
    "    X_test  = np.array(X_test) \n",
    "\n",
    "    K_q = np.zeros(( X_test.shape[0], X_train.shape[0])) \n",
    "\n",
    "    values = [] \n",
    "    for x_test in X_test: \n",
    "        for x_train in X_train: \n",
    "            values.append( kernel_element( x_train, x_test, \n",
    "                                            backend=backend, shots=shots )[1]  ) \n",
    "\n",
    "    l = 0\n",
    "    for j, x_test in enumerate( X_test ):\n",
    "        for k, x_train in enumerate( X_train):\n",
    "            K_q[j,k] = values[l]\n",
    "            l += 1\n",
    "\n",
    "    return K_q"
   ]
  },
  {
   "cell_type": "code",
   "execution_count": 37,
   "metadata": {},
   "outputs": [
    {
     "data": {
      "text/plain": [
       "<matplotlib.image.AxesImage at 0x1bef78bf9b0>"
      ]
     },
     "execution_count": 37,
     "metadata": {},
     "output_type": "execute_result"
    },
    {
     "data": {
      "image/png": "[encoded data removed]",
      "text/plain": [
       "<Figure size 1000x500 with 2 Axes>"
      ]
     },
     "metadata": {},
     "output_type": "display_data"
    }
   ],
   "source": [
    "Kq_train = Quantum_Kernel( X_train ) \n",
    "Kq_test  = Quantum_Kernel( X_train, X_test ) \n",
    "\n",
    "fig, ax = plt.subplots( 1, 2, figsize=(10,5) ) \n",
    "ax[0].imshow( Kq_train ) \n",
    "ax[1].imshow( Kq_test ) "
   ]
  },
  {
   "cell_type": "markdown",
   "metadata": {},
   "source": [
    "__Desafio:__ Muestre un discriminador que que alcance una calidad superior a $0.95$. Puede volver a los desafios anteriores y modificarlos para intentar mejorar sus resultados. "
   ]
  },
  {
   "cell_type": "code",
   "execution_count": 38,
   "metadata": {},
   "outputs": [],
   "source": [
    "def test_7c( Kq_train, Y_train, Kq_test, Y_test ):\n",
    "    svm = SVC( kernel = 'precomputed' ) \n",
    "    svm.fit( Kq_train, Y_train ) \n",
    "    Y_pred_quantum = svm.predict( Kq_test ) \n",
    "    print( 'Datos de entrenamiento:', Y_test ) \n",
    "    print( 'Predicción:            ', Y_pred_quantum ) \n",
    "    # print( 'Fidelidad train:       ', svm.score( Kq_train, Y_train ) ) \n",
    "    print( 'Fidelidad test:        ', svm.score( Kq_test, Y_test ) )  \n",
    "    if svm.score( Kq_test, Y_test ) > 0.95:\n",
    "        print('Tu discrimindor alcanza una calidad superior al 95%.')\n",
    "    else:\n",
    "        print('Vuelve a los desafios anteriores para intentar mejorar tu discriminador.')"
   ]
  },
  {
   "cell_type": "code",
   "execution_count": 39,
   "metadata": {},
   "outputs": [
    {
     "name": "stdout",
     "output_type": "stream",
     "text": [
      "Datos de entrenamiento: [2 1 0 2 0 2 0 1 1 1 2 1 1 1 1 0 1 1 0 0 2 1 0 0 2 0 0 1 1 0 2 1 0 2 2 1 0\n",
      " 1 1 1 2 0 2 0 0 1 2 2 2 2]\n",
      "Predicción:             [2 2 2 2 2 2 2 2 2 2 2 2 2 2 2 2 2 2 2 2 2 2 2 2 2 2 2 2 2 2 2 2 2 2 2 2 2\n",
      " 2 2 2 2 2 2 2 2 2 2 2 2 2]\n",
      "Fidelidad test:         0.3\n",
      "Vuelve a los desafios anteriores para intentar mejorar tu discriminador.\n"
     ]
    }
   ],
   "source": [
    "test_7c( Kq_train, Y_train, Kq_test, Y_test )"
   ]
  },
  {
   "cell_type": "code",
   "execution_count": null,
   "metadata": {},
   "outputs": [],
   "source": []
  },
  {
   "cell_type": "code",
   "execution_count": null,
   "metadata": {},
   "outputs": [],
   "source": []
  }
 ],
 "metadata": {
  "kernelspec": {
   "display_name": "ECC2025",
   "language": "python",
   "name": "python3"
  },
  "language_info": {
   "codemirror_mode": {
    "name": "ipython",
    "version": 3
   },
   "file_extension": ".py",
   "mimetype": "text/x-python",
   "name": "python",
   "nbconvert_exporter": "python",
   "pygments_lexer": "ipython3",
   "version": "3.12.6"
  }
 },
 "nbformat": 4,
 "nbformat_minor": 2
}
