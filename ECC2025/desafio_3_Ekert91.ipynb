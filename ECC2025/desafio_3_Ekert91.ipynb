{
 "cells": [
  {
   "cell_type": "code",
   "execution_count": 1,
   "metadata": {},
   "outputs": [],
   "source": [
    "pip install git+https://github.com/LucianoPereiraValenzuela/ECC_2025_testing.git"
   ]
  },
  {
   "cell_type": "code",
   "execution_count": 2,
   "metadata": {},
   "outputs": [],
   "source": [
    "import numpy as np\n",
    "from qiskit import QuantumCircuit, QuantumRegister\n",
    "from qiskit_aer import AerSimulator\n",
    "from ECC2025.testing import test_3a, test_3b, test_3c "
   ]
  },
  {
   "cell_type": "markdown",
   "metadata": {},
   "source": [
    "En la escuela aprendimos sobre el protocolo BB84 para criptografía cuántica. Este es la primera y más simple propuesta para realizar criptografía cuántica, y se basa en que Alice envía estados aleatorios a Bob para que este los mida. Una caracterisitica de este protocolo es que __no requiere entrelazamiento__. Sin embargo, existen otros protocolos de criptografía cuántica que si emplean estados entrelazados. En este desafío implementaremos uno de estos, el __EKERT91__.\n",
    "\n",
    "![BB84_vs_Ekert91](https://github.com/LucianoPereiraValenzuela/ECC_2025_testing/blob/main/img/ECC2025_BB84vsEkert91.png?raw=true)\n",
    "\n",
    "El primer paso es que Alice y Bob generen una lista de trits (0, 1, o 2)."
   ]
  },
  {
   "cell_type": "code",
   "execution_count": null,
   "metadata": {},
   "outputs": [],
   "source": [
    "num_trits = 10000\n",
    "alice_random_trits = np.random.randint(0,3,size=num_trits)\n",
    "bob_random_trits = np.random.randint(0,3,size=num_trits)\n",
    "print('Alice trits =', alice_random_trits )\n",
    "print('')\n",
    "print('Bob trits =', bob_random_trits )"
   ]
  },
  {
   "cell_type": "markdown",
   "metadata": {},
   "source": [
    "Estos trits serán usados para crear circuitos cuánticos aleatorios combinando los siguientes circuitos para Alice y Bob\n",
    "\n",
    "![Ekert91_circuits](https://github.com/LucianoPereiraValenzuela/ECC_2025_testing/blob/main/img/ECC25_EKERT91_circuits.png?raw=true)\n",
    "\n",
    "__Desafío:__ Complete los circuitos de la siguiente celda para que implementen todos los circuitos anteriores. Las listas ``Aj`` y ``Bj`` contienen los circuitos de Alice y Bob, respectivamente. "
   ]
  },
  {
   "cell_type": "code",
   "execution_count": 4,
   "metadata": {},
   "outputs": [],
   "source": [
    "qa = QuantumRegister(1, name='Alice')\n",
    "qb = QuantumRegister(1, name='Bob')\n",
    "\n",
    "qc_a0 = QuantumCircuit(qa)\n",
    "##### Escriba su solución acá\n",
    "\n",
    "############\n",
    "\n",
    "qc_a1 = QuantumCircuit(qa)\n",
    "##### Escriba su solución acá\n",
    "\n",
    "############\n",
    "\n",
    "qc_a2 = QuantumCircuit(qa)\n",
    "##### Escriba su solución acá\n",
    "\n",
    "############\n",
    "\n",
    "qc_b0 = QuantumCircuit(qb)\n",
    "##### Escriba su solución acá\n",
    "\n",
    "############\n",
    "\n",
    "qc_b1 = QuantumCircuit(qb)\n",
    "##### Escriba su solución acá\n",
    "\n",
    "############\n",
    "\n",
    "qc_b2 = QuantumCircuit(qb)\n",
    "##### Escriba su solución acá\n",
    "\n",
    "############\n",
    "\n",
    "Aj = [qc_a0,qc_a1,qc_a2]\n",
    "Bk = [qc_b0,qc_b1,qc_b2]"
   ]
  },
  {
   "cell_type": "code",
   "execution_count": null,
   "metadata": {},
   "outputs": [],
   "source": [
    "test_3a( Aj, Bk )"
   ]
  },
  {
   "cell_type": "markdown",
   "metadata": {},
   "source": [
    "El Ekert91 emplea un estado maximalmente estrelazado llamado singlete\n",
    "\\begin{equation}\n",
    "    | \\psi \\rangle = \\frac{1}{\\sqrt{2}}\\left( |01\\rangle - |10\\rangle \\right). \n",
    "\\end{equation}\n",
    "Este estado toma el rol de canal cuántico para la comunicación, enviando uno de los qubits a Alice y el otro a Bob. Posteriormente, Alice y Bob utilizan sus trits aleatorios y aplican alguno de los circuitos anteriores a su correspondiente qubit. El circuito completo tiene la siguiente forma:\n",
    "\n",
    "![full_ekert](https://github.com/LucianoPereiraValenzuela/ECC_2025_testing/blob/main/img/Ekert.png?raw=true)\n",
    "\n",
    "Acá $U_\\psi$ es una operación unitaria que prepara el estado singlete, es decir $|\\psi\\rangle=U_\\psi|00\\rangle$, mientras que $A_j$ y $B_k$ son los circuitos contenidos en las listas ``Aj`` y ``Bk``, con $j,k\\in\\{0,1,2\\}$. \n",
    "\n",
    "__Desafío:__ Construya estos circuitos para cada par de trits de Alice y Bob. "
   ]
  },
  {
   "cell_type": "code",
   "execution_count": 6,
   "metadata": {},
   "outputs": [],
   "source": [
    "qcs = []\n",
    "for j in range(num_trits):\n",
    "    qc = QuantumCircuit( qa, qb ) \n",
    "    \n",
    "    ##### Escriba su solución acá\n",
    "\n",
    "\n",
    "    ############\n",
    "    \n",
    "    qc.measure_all()\n",
    "    qcs.append(qc) "
   ]
  },
  {
   "cell_type": "code",
   "execution_count": null,
   "metadata": {},
   "outputs": [],
   "source": [
    "test_3b( qcs ) #takes a while"
   ]
  },
  {
   "cell_type": "markdown",
   "metadata": {},
   "source": [
    "Simulando los experiementos de cada uno de esto circuitos."
   ]
  },
  {
   "cell_type": "code",
   "execution_count": 8,
   "metadata": {},
   "outputs": [],
   "source": [
    "simulator = AerSimulator()\n",
    "\n",
    "job = simulator.run( qcs, shots=1 )\n",
    "counts_ekert = job.result().get_counts()"
   ]
  },
  {
   "cell_type": "markdown",
   "metadata": {},
   "source": [
    "Despues de las medidas, Alice y Bob hacen publicos sus listas de trits y separan sus medidas en dos grupos. El primer grupo consiste en aquellos con trits $(a,b)\\in \\{ (0,0), (0,2), (2,0), (2,2) \\}$. Estas mediciones nos permiten verificar si hay algún espía en la comunicación gracias al teorema de Bell. Para esto debemos evaluar la siguiente cantidad:\n",
    "\n",
    "\\begin{equation}\n",
    "    S = E_{00} - E_{02} + E_{20} + E_{22},\n",
    "\\end{equation}\n",
    "donde \n",
    "\\begin{equation}\n",
    "    E_{jk} = p(00|jk) + p(00|jk) - p(01|jk) - p(10|jk),\n",
    "\\end{equation}\n",
    "y $p(lm|jk)$ es la probabilidad de obtener el resultado $lm$ al medir el circuito $jk$.\n",
    "\n",
    "Esta cantidad debe tener un valor $|S|\\approx 2\\sqrt{2}$, lo cual representa que el estado esta maximalmente entrelazado. En el caso que $|S|<2\\sqrt{2}$ se tiene que el canal ha perdido entrelazamiento, la cual se puede deber, entre otras cosas, a la presencia de un espía en la comunicación. Si $S$ en menor a 2, es decir $S<2$, el canal cuántico perdió completamente su entrelazamiento y su seguridad. La siguiente celda muestra como calcula $S$. "
   ]
  },
  {
   "cell_type": "code",
   "execution_count": null,
   "metadata": {},
   "outputs": [],
   "source": [
    "bell = 0\n",
    "\n",
    "ExpVal = np.zeros([3,3])\n",
    "times_per_ExpVal = np.zeros([3,3])\n",
    "\n",
    "for j in range(num_trits):\n",
    "\n",
    "    a = alice_random_trits[j]\n",
    "    b = bob_random_trits[j]\n",
    "\n",
    "    E = counts_ekert[j].get('00',0) + counts_ekert[j].get('11',0) - counts_ekert[j].get('10',0) - counts_ekert[j].get('01',0)\n",
    "\n",
    "    ExpVal[a,b] += E \n",
    "    times_per_ExpVal[a,b] += 1 \n",
    "\n",
    "ExpVal = ExpVal / times_per_ExpVal\n",
    "\n",
    "S = ExpVal[ 0,0 ] - ExpVal[ 0,2] + ExpVal[ 2,0 ] + ExpVal[ 2,2]\n",
    "\n",
    "print( S ) "
   ]
  },
  {
   "cell_type": "markdown",
   "metadata": {},
   "source": [
    "El segundo grupo son aquellos con trits $(a,b)\\in\\{(1,0),(2,1)\\}$. Las mediciones de estos circuitos estarán anticorrelacionadas debido al estado singlete, es decir, si Alice mide 0, Bob medirá 1, y viceversa. Esta estructura nos permite establecer una llave compartida entre Alice y Bob."
   ]
  },
  {
   "cell_type": "markdown",
   "metadata": {},
   "source": [
    "__Desafío:__ Contruya la llave secreta. Cada bit de la clave debe ser un elemento de la lista ``key``."
   ]
  },
  {
   "cell_type": "code",
   "execution_count": null,
   "metadata": {},
   "outputs": [],
   "source": [
    "key = []\n",
    "##### Escriba su solución acá\n",
    "\n",
    "############\n",
    "print( key ) "
   ]
  },
  {
   "cell_type": "code",
   "execution_count": null,
   "metadata": {},
   "outputs": [],
   "source": [
    "test_3c( key, alice_random_trits, bob_random_trits  )"
   ]
  },
  {
   "cell_type": "code",
   "execution_count": null,
   "metadata": {},
   "outputs": [],
   "source": []
  },
  {
   "cell_type": "code",
   "execution_count": null,
   "metadata": {},
   "outputs": [],
   "source": []
  },
  {
   "cell_type": "code",
   "execution_count": null,
   "metadata": {},
   "outputs": [],
   "source": []
  }
 ],
 "metadata": {
  "kernelspec": {
   "display_name": "ECC2025",
   "language": "python",
   "name": "python3"
  },
  "language_info": {
   "codemirror_mode": {
    "name": "ipython",
    "version": 3
   },
   "file_extension": ".py",
   "mimetype": "text/x-python",
   "name": "python",
   "nbconvert_exporter": "python",
   "pygments_lexer": "ipython3",
   "version": "3.12.6"
  }
 },
 "nbformat": 4,
 "nbformat_minor": 2
}
