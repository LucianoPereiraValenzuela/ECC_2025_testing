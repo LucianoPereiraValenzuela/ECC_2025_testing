{
 "cells": [
  {
   "cell_type": "code",
   "execution_count": 54,
   "metadata": {},
   "outputs": [],
   "source": [
    "import numpy as np \n",
    "import matplotlib.pyplot as plt \n",
    "\n",
    "from qiskit import QuantumCircuit\n",
    "from qiskit.quantum_info import SparsePauliOp, Pauli \n",
    "from qiskit_finance.data_providers import RandomDataProvider\n",
    "from qiskit_finance.applications.optimization import PortfolioOptimization\n",
    "from qiskit_algorithms.utils import algorithm_globals\n",
    "from qiskit_algorithms import NumPyMinimumEigensolver, SamplingVQE\n",
    "from qiskit_optimization.algorithms import MinimumEigenOptimizer\n",
    "from qiskit_algorithms.optimizers import COBYLA \n",
    "from qiskit.circuit.library import TwoLocal\n",
    "from qiskit_aer.primitives import Sampler \n",
    "from qiskit.visualization import plot_histogram\n",
    "\n",
    "import datetime"
   ]
  },
  {
   "cell_type": "markdown",
   "metadata": {},
   "source": [
    "El variational quantum eigensolver (VQE) es un algoritmo hibrido clásico-cuántico originalmente propuesto para encontrar estados de mínima energía de átomos y moleculas. Sin embargo, también podemos utilizarlo para resolver __problemas combinatoriales__. Acá veremos como aplicar el VQE al __problema del portafolio__.\n",
    "\n",
    "Consideremos un conjunto $\\{x_i\\}$ de $n$ acciones en las que podríamos invertir. Sean $\\mu_i$ y $\\sigma_{ij}$ sus correspondientes retornos experados y covarianza, y sean $q\\geq0$ el riesgo dispuesto a asumir y $B$ la billetera, es decir el número de acciones en las que podemos invertir. La estrategia de inversión que nos de el máximo retorno puede encontrarse resolviendo el siguiente problema de optimización,\n",
    "\\begin{equation}\n",
    "\\begin{split}\n",
    "\\min_{\\{x_i\\}}&\\quad q\\sum_{ij}\\sigma_{ij}x_ix_j - \\sum_i \\mu_i x_i.\\\\\n",
    "& {\\rm subj:} \\sum_i x_i = B. \n",
    "\\end{split}\n",
    "\\end{equation}\n",
    "Podemos resolver este problema de optimización con el VQE mapeandolo a un Hamiltoniano. Esto se realiza haciendo el cambio de variable\n",
    "\\begin{equation}\n",
    "    x_i \\rightarrow \\frac{1}{2}(I-Z_i),\n",
    "\\end{equation}\n",
    "donde $Z_i$ es la matrix de Pauli Z del qubit $i$-ésimo.\n",
    "\n",
    "__Desafio 1:__ Complete la siguiente función que cree el operador asociado con $x_i$."
   ]
  },
  {
   "cell_type": "code",
   "execution_count": 55,
   "metadata": {},
   "outputs": [],
   "source": [
    "def asset_operator( qubit, num_assets ):\n",
    "\n",
    "    Op = SparsePauliOp( [ Pauli(num_assets*'I')], [0] ) ## Esta es solo una opción por defecto\n",
    "\n",
    "    ####################################\n",
    "    z = np.zeros(num_assets)\n",
    "    x = np.zeros(num_assets)\n",
    "    z[qubit] = 1\n",
    "    Op = SparsePauliOp( [ Pauli(num_assets*'I'),Pauli((z,x))], [0.5,-0.5] )\n",
    "    #####################################\n",
    "\n",
    "    return Op "
   ]
  },
  {
   "cell_type": "markdown",
   "metadata": {},
   "source": [
    "Construyamos un portafolio con $n=4$ acciones aleatorias. Los retornos esperados $\\mu_i$ y las covarianzas $\\sigma_{ij}$ estan codificados en las variables ``mu`` y ``sigma``, respectivamente."
   ]
  },
  {
   "cell_type": "code",
   "execution_count": 56,
   "metadata": {},
   "outputs": [
    {
     "data": {
      "image/png": "[encoded data removed]",
      "text/plain": [
       "<Figure size 640x480 with 1 Axes>"
      ]
     },
     "metadata": {},
     "output_type": "display_data"
    }
   ],
   "source": [
    "# set number of assets (= number of qubits)\n",
    "num_assets = 4\n",
    "seed = 123\n",
    "\n",
    "# Generate expected return and covariance matrix from (random) time-series\n",
    "stocks = [(\"TICKER%s\" % i) for i in range(num_assets)]\n",
    "data = RandomDataProvider(\n",
    "    tickers=stocks,\n",
    "    start=datetime.datetime(2016, 1, 1),\n",
    "    end=datetime.datetime(2016, 1, 30),\n",
    "    seed=seed,\n",
    ")\n",
    "data.run()\n",
    "mu = data.get_period_return_mean_vector()\n",
    "sigma = data.get_period_return_covariance_matrix()\n",
    "\n",
    "# plot sigma\n",
    "plt.imshow(sigma, interpolation=\"nearest\")\n",
    "plt.show()"
   ]
  },
  {
   "cell_type": "markdown",
   "metadata": {},
   "source": [
    "__Desafio 2:__ Consideremos que tenemos una billereta $B=2$ y un riesgo $q=0.5$. Construya el Hamiltoniano asociado a la función objetivo,\n",
    "\\begin{equation}\n",
    "    H_{\\rm fun} = q\\sum_{ij}\\sigma_{ij}\\frac{(I-Z_i)}{2}\\frac{(I-Z_j)}{2} - \\sum_i \\mu_i \\frac{(I-z_i)}{2}.\n",
    "\\end{equation}\n",
    "Codifique este Hamiltoniano en el operador de qiskit ``H_fun``."
   ]
  },
  {
   "cell_type": "code",
   "execution_count": 57,
   "metadata": {},
   "outputs": [],
   "source": [
    "q = 0.5  # set risk factor\n",
    "budget = num_assets // 2  # set budget\n",
    "\n",
    "H_fun = SparsePauliOp( num_assets*'I', 0 )\n",
    "\n",
    "#######################\n",
    "for i in range(num_assets):\n",
    "    Op1 = asset_operator( i, num_assets )\n",
    "    H_fun = H_fun - mu[i]*Op1\n",
    "    for j in range(num_assets):\n",
    "        Op2 = asset_operator( j, num_assets )\n",
    "        H_fun = H_fun + q*sigma[i,j]*Op1@Op2 \n",
    "######################"
   ]
  },
  {
   "cell_type": "markdown",
   "metadata": {},
   "source": [
    "__Desafio 3:__ La restricción del problema de optimización puede incluirse en la función objetivo como un penalti de la siguiente forma,\n",
    "\\begin{equation}\n",
    "    g(\\{x_i\\})= \\sum_i x_i - B.\n",
    "\\end{equation}\n",
    "Construya el Hamiltoniano $$H_{\\rm con}=\\sum_i\\frac{(I-Z_i)}{2}-B,$$ asociado a la función $g(\\{x_i\\})$. Codifique este Hamiltoniano en el operador de qiskit ``H_con``."
   ]
  },
  {
   "cell_type": "code",
   "execution_count": 59,
   "metadata": {},
   "outputs": [],
   "source": [
    "p = num_assets\n",
    "H_con = SparsePauliOp( num_assets*'I', 0 ) # Esto es solo una opción por defecto\n",
    "\n",
    "#####################\n",
    "H_con = SparsePauliOp( num_assets*'I', -budget )\n",
    "for i in range(num_assets):\n",
    "    Op1 = asset_operator( i, num_assets )\n",
    "    H_con = H_con + Op1 \n",
    "\n",
    "H_con = H_con @ H_con \n",
    "#####################"
   ]
  },
  {
   "cell_type": "markdown",
   "metadata": {},
   "source": [
    "El Hamiltoniano total es dado por $H = H_{\\rm fun} + H_{\\rm con}$."
   ]
  },
  {
   "cell_type": "code",
   "execution_count": 60,
   "metadata": {},
   "outputs": [
    {
     "data": {
      "text/plain": [
       "SparsePauliOp(['IIII', 'IIIZ', 'IIZI', 'IIZZ', 'IZII', 'IZIZ', 'ZIII', 'ZIIZ', 'IZZI', 'ZIZI', 'ZZII'],\n",
       "              coeffs=[ 9.93020582e-01+0.j,  6.98131079e-03+0.j, -4.97829400e-04+0.j,\n",
       "  5.00018351e-01+0.j,  4.66451258e-05+0.j,  5.00032150e-01+0.j,\n",
       "  4.30346516e-04+0.j,  4.99975035e-01+0.j,  5.00013261e-01+0.j,\n",
       "  5.00011120e-01+0.j,  4.99969028e-01+0.j])"
      ]
     },
     "execution_count": 60,
     "metadata": {},
     "output_type": "execute_result"
    }
   ],
   "source": [
    "H = H_fun + H_con \n",
    "H = H.simplify()\n",
    "H "
   ]
  },
  {
   "cell_type": "code",
   "execution_count": 61,
   "metadata": {},
   "outputs": [],
   "source": [
    "\n",
    "def test():\n",
    "    q = 0.5  # set risk factor\n",
    "    budget = num_assets // 2  # set budget\n",
    "    penalty = num_assets  # set parameter to scale the budget penalty term\n",
    "\n",
    "    portfolio = PortfolioOptimization(\n",
    "                    expected_returns=mu, \n",
    "                    covariances=sigma, \n",
    "                    risk_factor=q, \n",
    "                    budget=budget\n",
    "                    )\n",
    "\n",
    "    qp = portfolio.to_quadratic_program()\n",
    "    exact_mes = NumPyMinimumEigensolver()\n",
    "    exact_eigensolver = MinimumEigenOptimizer(exact_mes)\n",
    "\n",
    "    result = exact_eigensolver.solve(qp)\n",
    "\n",
    "    result.x \n",
    "\n",
    "    results = NumPyMinimumEigensolver().compute_minimum_eigenvalue( H )\n",
    "    results.eigenvalue"
   ]
  },
  {
   "cell_type": "markdown",
   "metadata": {},
   "source": [
    "__Desafio 3:__ A continuación implementamos un VQE para encontrar el mínimo de energía de Hamiltoniano asociado al portafolio. Para encontrar la solución óptima con alta probabilidad necesitamos iniciar la optimización desde el siguiente estado inicial,\n",
    "\\begin{equation}\n",
    "    |\\psi_{\\rm in}\\rangle = \\frac{1}{2\\sqrt{2}}\\left( |0000\\rangle + |0011\\rangle + |0101\\rangle + |0110\\rangle + |1001\\rangle + |1010\\rangle + |1100\\rangle + |1111\\rangle  \\right).\n",
    "\\end{equation}\n",
    "Complete el circuito ``initial_state`` para que implemente el estado anterior."
   ]
  },
  {
   "cell_type": "code",
   "execution_count": 62,
   "metadata": {},
   "outputs": [
    {
     "data": {
      "image/png": "[encoded data removed]",
      "text/plain": [
       "<Figure size 538.33x367.889 with 1 Axes>"
      ]
     },
     "execution_count": 62,
     "metadata": {},
     "output_type": "execute_result"
    }
   ],
   "source": [
    "initial_state = QuantumCircuit(num_assets)\n",
    "################\n",
    "initial_state.h(0)\n",
    "for j in range(num_assets-1):\n",
    "    initial_state.cx(j,j+1)\n",
    "initial_state.h(range(num_assets))\n",
    "################\n",
    "initial_state.draw('mpl') "
   ]
  },
  {
   "cell_type": "code",
   "execution_count": 63,
   "metadata": {},
   "outputs": [
    {
     "data": {
      "image/png": "[encoded data removed]",
      "text/plain": [
       "<Figure size 640x480 with 1 Axes>"
      ]
     },
     "execution_count": 63,
     "metadata": {},
     "output_type": "execute_result"
    }
   ],
   "source": [
    "## VQE, no modificar!!!! \n",
    "cobyla = COBYLA()\n",
    "\n",
    "ansatz = TwoLocal(num_assets, \n",
    "                    \"ry\", \n",
    "                    \"cx\", \n",
    "                    reps=2, \n",
    "                    entanglement=\"linear\", \n",
    "                    initial_state=initial_state,\n",
    "                    )\n",
    "\n",
    "algorithm_globals.random_seed = 0\n",
    "svqe_mes = SamplingVQE(sampler=Sampler(run_options={'seed':0}), \n",
    "                        ansatz=ansatz, \n",
    "                        optimizer=cobyla, \n",
    "                        aggregation = 0.9,\n",
    "                        ) \n",
    "\n",
    "results_vqe = svqe_mes.compute_minimum_eigenvalue( H )\n",
    "plot_histogram( results_vqe.eigenstate ) "
   ]
  },
  {
   "cell_type": "markdown",
   "metadata": {},
   "source": [
    "Si el estado inicial fue implementado correctamente debería encontrar la solución 9, correspondiente a la cadena de bits 1001, con una probabilidad superior al 90%."
   ]
  },
  {
   "cell_type": "code",
   "execution_count": null,
   "metadata": {},
   "outputs": [],
   "source": []
  },
  {
   "cell_type": "code",
   "execution_count": null,
   "metadata": {},
   "outputs": [],
   "source": []
  },
  {
   "cell_type": "code",
   "execution_count": null,
   "metadata": {},
   "outputs": [],
   "source": []
  }
 ],
 "metadata": {
  "kernelspec": {
   "display_name": "ECC2025",
   "language": "python",
   "name": "python3"
  },
  "language_info": {
   "codemirror_mode": {
    "name": "ipython",
    "version": 3
   },
   "file_extension": ".py",
   "mimetype": "text/x-python",
   "name": "python",
   "nbconvert_exporter": "python",
   "pygments_lexer": "ipython3",
   "version": "3.12.6"
  }
 },
 "nbformat": 4,
 "nbformat_minor": 2
}
