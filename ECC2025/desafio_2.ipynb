{
  "cells": [
    {
      "cell_type": "code",
      "execution_count": null,
      "metadata": {
        "colab": {
          "base_uri": "https://localhost:8080/"
        },
        "collapsed": true,
        "id": "I4vsC41RXnJ5",
        "outputId": "cede090b-91e9-4e0e-ae16-c8f9780564b3"
      },
      "outputs": [],
      "source": [
        "pip install git+https://github.com/LucianoPereiraValenzuela/ECC_2025_testing.git"
      ]
    },
    {
      "cell_type": "code",
      "execution_count": 17,
      "metadata": {
        "id": "R2yF0k5qXgtl"
      },
      "outputs": [],
      "source": [
        "import numpy as np\n",
        "from qiskit import QuantumCircuit\n",
        "from qiskit.quantum_info import Statevector\n",
        "from qiskit_ibm_runtime.fake_provider import FakeBurlingtonV2 as FakeDevice\n",
        "from qiskit_aer import AerSimulator\n",
        "from qiskit import transpile\n",
        "from qiskit.visualization import plot_histogram\n",
        "from ECC2025.testing import test_2"
      ]
    },
    {
      "cell_type": "markdown",
      "metadata": {
        "id": "cLyP8mAIXgtm"
      },
      "source": [
        "En el desafio anterior vimos la forma más efficiente de implementar un estado GHZ en 4 qubits. Sin embargo, esta estrategia puede no ser siempre la más inteligente. Esto se debe a que los computadores cuánticos tienes conectividad limitada, es decir, __no todos los qubits estan conectados entre si__. Tomemos por ejemplo el siguiente dispositivo cuántico de IBM de 5 qubits:\n",
        "\n",
        "![texto del enlace](https://github.com/LucianoPereiraValenzuela/ECC_2025_testing/blob/589e681af9966dc4f9c7a2d97a54737389931df6/img/burlington.jpg?raw=true)\n",
        "\n",
        "Podemos ver que el qubit 0 esta solamente conectado con el qubit 1, mientras que el qubit 1 esta conectado con el qubit 0, 2 y 3.\n",
        "\n",
        "Esto tiene un gran impacto en la calidad de ejecución de los circuitos, pues nos vemos obligados a descomponer operaciones entre qubits no vecinos en una cadena de puertas entre qubits conectados. Tomemos por ejemplo el circuito del estado GHZ:"
      ]
    },
    {
      "cell_type": "code",
      "execution_count": null,
      "metadata": {
        "colab": {
          "base_uri": "https://localhost:8080/",
          "height": 320
        },
        "id": "a-a5A1EIXgtn",
        "outputId": "570525cc-f3c9-4f36-8f2b-5f58b6393964"
      },
      "outputs": [],
      "source": [
        "n_qubits = 4\n",
        "qc_ghz = QuantumCircuit( n_qubits )\n",
        "qc_ghz.h(0)\n",
        "for j in range(n_qubits-1):\n",
        "    qc_ghz.cx(j,j+1)\n",
        "\n",
        "qc_ghz.draw('mpl')"
      ]
    },
    {
      "cell_type": "markdown",
      "metadata": {
        "id": "2hwD-y6pXgto"
      },
      "source": [
        "Si queremos implementar este estado entre los qubits 0, 1, 2, y 3 del dispositivo anterior, vemos que los qubits 2 y 3 no estan conectados, por lo que debemos descomponer la última CNOT en una secuencia de 4 CNOTs:"
      ]
    },
    {
      "cell_type": "code",
      "execution_count": null,
      "metadata": {
        "colab": {
          "base_uri": "https://localhost:8080/",
          "height": 320
        },
        "id": "OEDSkx6dXgto",
        "outputId": "ee29e079-9f3d-44ad-cab2-6beb2ec7da01"
      },
      "outputs": [],
      "source": [
        "qc_ghz_device = QuantumCircuit( n_qubits )\n",
        "qc_ghz_device.h(0)\n",
        "for j in range(n_qubits-2):\n",
        "    qc_ghz_device.cx(j,j+1)\n",
        "\n",
        "qc_ghz_device.cx(2,1)\n",
        "qc_ghz_device.cx(1,2)\n",
        "qc_ghz_device.cx(2,1)\n",
        "qc_ghz_device.cx(1,3)\n",
        "\n",
        "qc_ghz_device.draw('mpl')"
      ]
    },
    {
      "cell_type": "markdown",
      "metadata": {
        "id": "KnvzV1foXgtp"
      },
      "source": [
        "Podemos verificar que este circuito implementa correctamente el estado GHZ."
      ]
    },
    {
      "cell_type": "code",
      "execution_count": null,
      "metadata": {
        "colab": {
          "base_uri": "https://localhost:8080/",
          "height": 40
        },
        "id": "8TMEiZ_8Xgtp",
        "outputId": "ad1dd4c9-0ebc-4645-add9-08f285e389fd"
      },
      "outputs": [],
      "source": [
        "state = Statevector( qc_ghz_device )\n",
        "state.draw(\"latex\")"
      ]
    },
    {
      "cell_type": "markdown",
      "metadata": {
        "id": "7aOCIys8Xgtp"
      },
      "source": [
        "¡Sin embargo, la profundidad del circuito aumentó!"
      ]
    },
    {
      "cell_type": "code",
      "execution_count": null,
      "metadata": {
        "colab": {
          "base_uri": "https://localhost:8080/"
        },
        "id": "gWeHjo_0Xgtp",
        "outputId": "5740d00e-1021-44f6-c151-ce198a7fe8b6"
      },
      "outputs": [],
      "source": [
        "qc_ghz_device.depth()"
      ]
    },
    {
      "cell_type": "markdown",
      "metadata": {
        "id": "N_L3tPawXgtp"
      },
      "source": [
        "Este aumento de profundidad se traduce en que la ejecución de este circuito en un computador cuántico real será de peor calidad, pues hay más puertas cuánticas involucradas. Veamoslo en una simulación considerando un modelo realista del dispositivo."
      ]
    },
    {
      "cell_type": "code",
      "execution_count": null,
      "metadata": {
        "colab": {
          "base_uri": "https://localhost:8080/",
          "height": 454
        },
        "id": "mK7MczM3Xgtq",
        "outputId": "52c5d764-e141-42ad-d80f-2e5d7387ea8b"
      },
      "outputs": [],
      "source": [
        "device_backend = FakeDevice()\n",
        "simulator_noise = AerSimulator.from_backend(device_backend)\n",
        "qc_ghz_device_measured = qc_ghz_device.copy()\n",
        "qc_ghz_device_measured.measure_all()\n",
        "qc_ghz_device_measured =  transpile( qc_ghz_device_measured, device_backend, optimization_level=0 )\n",
        "counts_device = simulator_noise.run( qc_ghz_device_measured ).result().get_counts()\n",
        "\n",
        "counts_ideal = { '0000':500, '1111':500  }\n",
        "\n",
        "plot_histogram( [counts_ideal, counts_device], legend=['Ideal','Ruidoso'] )"
      ]
    },
    {
      "cell_type": "markdown",
      "metadata": {
        "id": "JFL1K6MsXgtq"
      },
      "source": [
        "__Desafio:__ Construya un circuito cuántico que implemente un estado GHZ de 4 qubits en el dispisitivo cuántico anterior que tenga una profundidad de 4. Escriba su solución en el circuito ``qc_ghz_op``, definido en la siguiente celda."
      ]
    },
    {
      "cell_type": "code",
      "execution_count": null,
      "metadata": {
        "colab": {
          "base_uri": "https://localhost:8080/",
          "height": 320
        },
        "id": "34AEzF6NXgtq",
        "outputId": "58efc6eb-6d90-44ed-f7f8-3c03d3682f8e"
      },
      "outputs": [],
      "source": [
        "qc_ghz_op = QuantumCircuit( n_qubits )\n",
        "\n",
        "### escribe tu solución aca ###\n",
        "\n",
        "###############################\n",
        "\n",
        "qc_ghz_op.draw('mpl')"
      ]
    },
    {
      "cell_type": "markdown",
      "metadata": {
        "id": "-_llagMVXgtq"
      },
      "source": [
        "Podemos verificar si el circuit funciona mejor que el anterior a través de una simulación con ruido. Como la simulación es un experimento aleatorio, quizás debas ejecutarlo varias veces para convencerte del resultado."
      ]
    },
    {
      "cell_type": "code",
      "execution_count": null,
      "metadata": {
        "colab": {
          "base_uri": "https://localhost:8080/",
          "height": 454
        },
        "id": "_vRs2nnbXgtr",
        "outputId": "66f3a5f9-5973-4088-fd43-29fa38ba468f"
      },
      "outputs": [],
      "source": [
        "qc_ghz_op_measured = qc_ghz_op.copy()\n",
        "qc_ghz_op_measured.measure_all()\n",
        "qc_ghz_op_measured =  transpile( qc_ghz_op_measured, device_backend, optimization_level=0 )\n",
        "counts_op = simulator_noise.run( qc_ghz_op_measured ).result().get_counts()\n",
        "\n",
        "plot_histogram( [counts_ideal, counts_device, counts_op], legend=['Ideal','Ruidoso', 'Optimizado']  )"
      ]
    },
    {
      "cell_type": "code",
      "execution_count": null,
      "metadata": {
        "colab": {
          "base_uri": "https://localhost:8080/"
        },
        "id": "xiIZapG4Xgtr",
        "outputId": "8f7d9bdb-6771-459f-e247-425a7154b49c"
      },
      "outputs": [],
      "source": [
        "## Esto verifica tu solución, no cambiar!!!! ##\n",
        "test_2( qc_ghz_op )"
      ]
    },
    {
      "cell_type": "code",
      "execution_count": 25,
      "metadata": {
        "id": "9hBrJj0J1q-X"
      },
      "outputs": [],
      "source": []
    }
  ],
  "metadata": {
    "colab": {
      "provenance": []
    },
    "kernelspec": {
      "display_name": "qiskit_1",
      "language": "python",
      "name": "python3"
    },
    "language_info": {
      "codemirror_mode": {
        "name": "ipython",
        "version": 3
      },
      "file_extension": ".py",
      "mimetype": "text/x-python",
      "name": "python",
      "nbconvert_exporter": "python",
      "pygments_lexer": "ipython3",
      "version": "3.12.3"
    }
  },
  "nbformat": 4,
  "nbformat_minor": 0
}
