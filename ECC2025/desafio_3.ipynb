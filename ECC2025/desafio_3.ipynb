{
 "cells": [
  {
   "cell_type": "code",
   "execution_count": 199,
   "metadata": {},
   "outputs": [
    {
     "name": "stdout",
     "output_type": "stream",
     "text": [
      "Collecting git+https://github.com/LucianoPereiraValenzuela/ECC_2025_testing.gitNote: you may need to restart the kernel to use updated packages.\n",
      "\n",
      "  Cloning https://github.com/LucianoPereiraValenzuela/ECC_2025_testing.git to c:\\users\\lucia\\appdata\\local\\temp\\pip-req-build-dh807wlq\n",
      "  Resolved https://github.com/LucianoPereiraValenzuela/ECC_2025_testing.git to commit c7c803be504f526c1a17677839280f456cdc3a81\n",
      "  Preparing metadata (setup.py): started\n",
      "  Preparing metadata (setup.py): finished with status 'done'\n",
      "Requirement already satisfied: numpy in c:\\users\\lucia\\miniconda3\\envs\\ecc2025\\lib\\site-packages (from ECC2025==0.1.2) (2.1.1)\n",
      "Requirement already satisfied: scipy in c:\\users\\lucia\\miniconda3\\envs\\ecc2025\\lib\\site-packages (from ECC2025==0.1.2) (1.14.1)\n",
      "Requirement already satisfied: qiskit in c:\\users\\lucia\\miniconda3\\envs\\ecc2025\\lib\\site-packages (from ECC2025==0.1.2) (1.2.2)\n",
      "Requirement already satisfied: qiskit_ibm_runtime in c:\\users\\lucia\\miniconda3\\envs\\ecc2025\\lib\\site-packages (from ECC2025==0.1.2) (0.30.0)\n",
      "Requirement already satisfied: qiskit_aer in c:\\users\\lucia\\miniconda3\\envs\\ecc2025\\lib\\site-packages (from ECC2025==0.1.2) (0.15.1)\n",
      "Requirement already satisfied: pylatexenc in c:\\users\\lucia\\miniconda3\\envs\\ecc2025\\lib\\site-packages (from ECC2025==0.1.2) (2.10)\n",
      "Requirement already satisfied: matplotlib in c:\\users\\lucia\\miniconda3\\envs\\ecc2025\\lib\\site-packages (from ECC2025==0.1.2) (3.9.2)\n",
      "Requirement already satisfied: contourpy>=1.0.1 in c:\\users\\lucia\\miniconda3\\envs\\ecc2025\\lib\\site-packages (from matplotlib->ECC2025==0.1.2) (1.3.0)\n",
      "Requirement already satisfied: cycler>=0.10 in c:\\users\\lucia\\miniconda3\\envs\\ecc2025\\lib\\site-packages (from matplotlib->ECC2025==0.1.2) (0.12.1)\n",
      "Requirement already satisfied: fonttools>=4.22.0 in c:\\users\\lucia\\miniconda3\\envs\\ecc2025\\lib\\site-packages (from matplotlib->ECC2025==0.1.2) (4.54.1)\n",
      "Requirement already satisfied: kiwisolver>=1.3.1 in c:\\users\\lucia\\miniconda3\\envs\\ecc2025\\lib\\site-packages (from matplotlib->ECC2025==0.1.2) (1.4.7)\n",
      "Requirement already satisfied: packaging>=20.0 in c:\\users\\lucia\\miniconda3\\envs\\ecc2025\\lib\\site-packages (from matplotlib->ECC2025==0.1.2) (24.1)\n",
      "Requirement already satisfied: pillow>=8 in c:\\users\\lucia\\miniconda3\\envs\\ecc2025\\lib\\site-packages (from matplotlib->ECC2025==0.1.2) (10.4.0)\n",
      "Requirement already satisfied: pyparsing>=2.3.1 in c:\\users\\lucia\\miniconda3\\envs\\ecc2025\\lib\\site-packages (from matplotlib->ECC2025==0.1.2) (3.1.4)\n",
      "Requirement already satisfied: python-dateutil>=2.7 in c:\\users\\lucia\\miniconda3\\envs\\ecc2025\\lib\\site-packages (from matplotlib->ECC2025==0.1.2) (2.9.0)\n",
      "Requirement already satisfied: rustworkx>=0.15.0 in c:\\users\\lucia\\miniconda3\\envs\\ecc2025\\lib\\site-packages (from qiskit->ECC2025==0.1.2) (0.15.1)\n",
      "Requirement already satisfied: sympy>=1.3 in c:\\users\\lucia\\miniconda3\\envs\\ecc2025\\lib\\site-packages (from qiskit->ECC2025==0.1.2) (1.13.3)\n",
      "Requirement already satisfied: dill>=0.3 in c:\\users\\lucia\\miniconda3\\envs\\ecc2025\\lib\\site-packages (from qiskit->ECC2025==0.1.2) (0.3.8)\n",
      "Requirement already satisfied: stevedore>=3.0.0 in c:\\users\\lucia\\miniconda3\\envs\\ecc2025\\lib\\site-packages (from qiskit->ECC2025==0.1.2) (5.3.0)\n",
      "Requirement already satisfied: typing-extensions in c:\\users\\lucia\\miniconda3\\envs\\ecc2025\\lib\\site-packages (from qiskit->ECC2025==0.1.2) (4.12.2)\n",
      "Requirement already satisfied: symengine>=0.11 in c:\\users\\lucia\\miniconda3\\envs\\ecc2025\\lib\\site-packages (from qiskit->ECC2025==0.1.2) (0.11.0)\n",
      "Requirement already satisfied: psutil>=5 in c:\\users\\lucia\\miniconda3\\envs\\ecc2025\\lib\\site-packages (from qiskit_aer->ECC2025==0.1.2) (6.0.0)\n",
      "Requirement already satisfied: requests>=2.19 in c:\\users\\lucia\\miniconda3\\envs\\ecc2025\\lib\\site-packages (from qiskit_ibm_runtime->ECC2025==0.1.2) (2.32.3)\n",
      "Requirement already satisfied: requests-ntlm>=1.1.0 in c:\\users\\lucia\\miniconda3\\envs\\ecc2025\\lib\\site-packages (from qiskit_ibm_runtime->ECC2025==0.1.2) (1.3.0)\n",
      "Requirement already satisfied: urllib3>=1.21.1 in c:\\users\\lucia\\miniconda3\\envs\\ecc2025\\lib\\site-packages (from qiskit_ibm_runtime->ECC2025==0.1.2) (2.2.3)\n",
      "Requirement already satisfied: websocket-client>=1.5.1 in c:\\users\\lucia\\miniconda3\\envs\\ecc2025\\lib\\site-packages (from qiskit_ibm_runtime->ECC2025==0.1.2) (1.8.0)\n",
      "Requirement already satisfied: ibm-platform-services>=0.22.6 in c:\\users\\lucia\\miniconda3\\envs\\ecc2025\\lib\\site-packages (from qiskit_ibm_runtime->ECC2025==0.1.2) (0.57.1)\n",
      "Requirement already satisfied: pydantic>=2.5.0 in c:\\users\\lucia\\miniconda3\\envs\\ecc2025\\lib\\site-packages (from qiskit_ibm_runtime->ECC2025==0.1.2) (2.9.2)\n",
      "Requirement already satisfied: ibm-cloud-sdk-core<4.0.0,>=3.21.0 in c:\\users\\lucia\\miniconda3\\envs\\ecc2025\\lib\\site-packages (from ibm-platform-services>=0.22.6->qiskit_ibm_runtime->ECC2025==0.1.2) (3.21.0)\n",
      "Requirement already satisfied: annotated-types>=0.6.0 in c:\\users\\lucia\\miniconda3\\envs\\ecc2025\\lib\\site-packages (from pydantic>=2.5.0->qiskit_ibm_runtime->ECC2025==0.1.2) (0.7.0)\n",
      "Requirement already satisfied: pydantic-core==2.23.4 in c:\\users\\lucia\\miniconda3\\envs\\ecc2025\\lib\\site-packages (from pydantic>=2.5.0->qiskit_ibm_runtime->ECC2025==0.1.2) (2.23.4)\n",
      "Requirement already satisfied: six>=1.5 in c:\\users\\lucia\\miniconda3\\envs\\ecc2025\\lib\\site-packages (from python-dateutil>=2.7->matplotlib->ECC2025==0.1.2) (1.16.0)\n",
      "Requirement already satisfied: charset-normalizer<4,>=2 in c:\\users\\lucia\\miniconda3\\envs\\ecc2025\\lib\\site-packages (from requests>=2.19->qiskit_ibm_runtime->ECC2025==0.1.2) (3.3.2)\n",
      "Requirement already satisfied: idna<4,>=2.5 in c:\\users\\lucia\\miniconda3\\envs\\ecc2025\\lib\\site-packages (from requests>=2.19->qiskit_ibm_runtime->ECC2025==0.1.2) (3.10)\n",
      "Requirement already satisfied: certifi>=2017.4.17 in c:\\users\\lucia\\miniconda3\\envs\\ecc2025\\lib\\site-packages (from requests>=2.19->qiskit_ibm_runtime->ECC2025==0.1.2) (2024.8.30)\n",
      "Requirement already satisfied: cryptography>=1.3 in c:\\users\\lucia\\miniconda3\\envs\\ecc2025\\lib\\site-packages (from requests-ntlm>=1.1.0->qiskit_ibm_runtime->ECC2025==0.1.2) (43.0.1)\n",
      "Requirement already satisfied: pyspnego>=0.4.0 in c:\\users\\lucia\\miniconda3\\envs\\ecc2025\\lib\\site-packages (from requests-ntlm>=1.1.0->qiskit_ibm_runtime->ECC2025==0.1.2) (0.11.1)\n",
      "Requirement already satisfied: pbr>=2.0.0 in c:\\users\\lucia\\miniconda3\\envs\\ecc2025\\lib\\site-packages (from stevedore>=3.0.0->qiskit->ECC2025==0.1.2) (6.1.0)\n",
      "Requirement already satisfied: mpmath<1.4,>=1.1.0 in c:\\users\\lucia\\miniconda3\\envs\\ecc2025\\lib\\site-packages (from sympy>=1.3->qiskit->ECC2025==0.1.2) (1.3.0)\n",
      "Requirement already satisfied: cffi>=1.12 in c:\\users\\lucia\\miniconda3\\envs\\ecc2025\\lib\\site-packages (from cryptography>=1.3->requests-ntlm>=1.1.0->qiskit_ibm_runtime->ECC2025==0.1.2) (1.17.1)\n",
      "Requirement already satisfied: PyJWT<3.0.0,>=2.8.0 in c:\\users\\lucia\\miniconda3\\envs\\ecc2025\\lib\\site-packages (from ibm-cloud-sdk-core<4.0.0,>=3.21.0->ibm-platform-services>=0.22.6->qiskit_ibm_runtime->ECC2025==0.1.2) (2.9.0)\n",
      "Requirement already satisfied: sspilib>=0.1.0 in c:\\users\\lucia\\miniconda3\\envs\\ecc2025\\lib\\site-packages (from pyspnego>=0.4.0->requests-ntlm>=1.1.0->qiskit_ibm_runtime->ECC2025==0.1.2) (0.1.0)\n",
      "Requirement already satisfied: pycparser in c:\\users\\lucia\\miniconda3\\envs\\ecc2025\\lib\\site-packages (from cffi>=1.12->cryptography>=1.3->requests-ntlm>=1.1.0->qiskit_ibm_runtime->ECC2025==0.1.2) (2.22)\n"
     ]
    },
    {
     "name": "stderr",
     "output_type": "stream",
     "text": [
      "  Running command git clone --filter=blob:none --quiet https://github.com/LucianoPereiraValenzuela/ECC_2025_testing.git 'C:\\Users\\lucia\\AppData\\Local\\Temp\\pip-req-build-dh807wlq'\n"
     ]
    }
   ],
   "source": [
    "pip install git+https://github.com/LucianoPereiraValenzuela/ECC_2025_testing.git"
   ]
  },
  {
   "cell_type": "code",
   "execution_count": 200,
   "metadata": {},
   "outputs": [],
   "source": [
    "import numpy as np\n",
    "from qiskit import QuantumCircuit, QuantumRegister, ClassicalRegister\n",
    "from qiskit.quantum_info import Statevector\n",
    "# from testing import test_3"
   ]
  },
  {
   "cell_type": "code",
   "execution_count": 201,
   "metadata": {},
   "outputs": [
    {
     "data": {
      "image/png": "[encoded data removed]",
      "text/plain": [
       "<Figure size 195.32x200.667 with 1 Axes>"
      ]
     },
     "execution_count": 201,
     "metadata": {},
     "output_type": "execute_result"
    }
   ],
   "source": [
    "qa = QuantumRegister(1, name='Alice')\n",
    "qb = QuantumRegister(1, name='Bob')\n",
    "\n",
    "qc = QuantumCircuit( qa, qb ) \n",
    "\n",
    "qc.draw('mpl') "
   ]
  },
  {
   "cell_type": "code",
   "execution_count": 202,
   "metadata": {},
   "outputs": [
    {
     "data": {
      "text/plain": [
       "array([2, 2, 2, 1, 2, 0, 2, 1, 1, 1], dtype=int32)"
      ]
     },
     "execution_count": 202,
     "metadata": {},
     "output_type": "execute_result"
    }
   ],
   "source": [
    "num_bits = 10\n",
    "alice_random_bits = np.random.randint(0,3,size=num_bits)\n",
    "bob_random_bits = np.random.randint(0,3,size=num_bits)\n",
    "alice_random_bits"
   ]
  },
  {
   "cell_type": "code",
   "execution_count": 203,
   "metadata": {},
   "outputs": [],
   "source": [
    "qc_a1 = QuantumCircuit(1)\n",
    "\n",
    "qc_a2 = QuantumCircuit(1)\n",
    "qc_a2.ry( np.pi/4, 0 )\n",
    "\n",
    "qc_a3 = QuantumCircuit(1)\n",
    "qc_a3.ry( np.pi/2, 0 )\n",
    "\n",
    "qc_a = [qc_a1,qc_a2,qc_a3]"
   ]
  },
  {
   "cell_type": "code",
   "execution_count": 204,
   "metadata": {},
   "outputs": [],
   "source": [
    "qc_b1 = QuantumCircuit(1)\n",
    "qc_b1.ry( np.pi/4, 0 )\n",
    "\n",
    "qc_b2 = QuantumCircuit(1)\n",
    "qc_b2.ry( np.pi/2, 0 )\n",
    "\n",
    "qc_b3 = QuantumCircuit(1)\n",
    "qc_b3.ry( 3*np.pi/4, 0 )\n",
    "\n",
    "qc_b = [qc_b1,qc_b2,qc_b3]"
   ]
  },
  {
   "cell_type": "code",
   "execution_count": 205,
   "metadata": {},
   "outputs": [
    {
     "data": {
      "image/png": "[encoded data removed]",
      "text/plain": [
       "<Figure size 404.348x200.667 with 1 Axes>"
      ]
     },
     "execution_count": 205,
     "metadata": {},
     "output_type": "execute_result"
    }
   ],
   "source": [
    "qcs = []\n",
    "for j in range(num_bits):\n",
    "    \n",
    "    qc = QuantumCircuit( qa, qb ) \n",
    "    qc.h(0)\n",
    "    qc.cx(0,1)\n",
    "    qc.compose( qc_a[alice_random_bits[j]], qubits=qa, inplace=True )\n",
    "    qc.compose( qc_b[bob_random_bits[j]], qubits=qb, inplace=True )\n",
    "    qcs.append(qc) \n",
    "qcs[9].draw('mpl') "
   ]
  },
  {
   "cell_type": "code",
   "execution_count": 206,
   "metadata": {},
   "outputs": [],
   "source": [
    "from qiskit.quantum_info import Pauli, SparsePauliOp"
   ]
  },
  {
   "cell_type": "code",
   "execution_count": 207,
   "metadata": {},
   "outputs": [],
   "source": [
    "X = Pauli('X')\n",
    "Z = Pauli('Z')"
   ]
  },
  {
   "cell_type": "code",
   "execution_count": 208,
   "metadata": {},
   "outputs": [
    {
     "data": {
      "text/plain": [
       "SparsePauliOp(['Z'],\n",
       "              coeffs=[1.+0.j])"
      ]
     },
     "execution_count": 208,
     "metadata": {},
     "output_type": "execute_result"
    }
   ],
   "source": [
    "SparsePauliOp( 'Z', 1 )"
   ]
  },
  {
   "cell_type": "code",
   "execution_count": 209,
   "metadata": {},
   "outputs": [],
   "source": [
    "A = [ SparsePauliOp( 'Z', 1 ),\n",
    "    SparsePauliOp( ['Z', 'X'], [np.cos(np.pi/4), np.sin(np.pi/4)]),\n",
    "    SparsePauliOp( ['Z', 'X'], [np.cos(np.pi/2), np.sin(np.pi/2)]),\n",
    "    ]"
   ]
  },
  {
   "cell_type": "code",
   "execution_count": 210,
   "metadata": {},
   "outputs": [],
   "source": [
    "B = [ SparsePauliOp( ['Z', 'X'], [np.cos(np.pi/4), np.sin(np.pi/4)]),\n",
    "    SparsePauliOp( ['Z', 'X'], [np.cos(np.pi/2), np.sin(np.pi/2)]),\n",
    "    SparsePauliOp( ['Z', 'X'], [np.cos(3*np.pi/4), np.sin(3*np.pi/4)]),\n",
    "    ]"
   ]
  },
  {
   "cell_type": "code",
   "execution_count": 211,
   "metadata": {},
   "outputs": [
    {
     "data": {
      "text/plain": [
       "SparsePauliOp(['ZZ', 'ZX'],\n",
       "              coeffs=[0.70710678+0.j, 0.70710678+0.j])"
      ]
     },
     "execution_count": 211,
     "metadata": {},
     "output_type": "execute_result"
    }
   ],
   "source": [
    "A[0] ^ B[0] "
   ]
  },
  {
   "cell_type": "code",
   "execution_count": 212,
   "metadata": {},
   "outputs": [
    {
     "data": {
      "image/png": "[encoded data removed]",
      "text/plain": [
       "<Figure size 320.736x200.667 with 1 Axes>"
      ]
     },
     "execution_count": 212,
     "metadata": {},
     "output_type": "execute_result"
    }
   ],
   "source": [
    "qa = QuantumRegister(1, name='Alice')\n",
    "qb = QuantumRegister(1, name='Bob')\n",
    "\n",
    "qc = QuantumCircuit( qa, qb ) \n",
    "qc.h(0)\n",
    "qc.cx(0,1)\n",
    "\n",
    "qc.draw('mpl') "
   ]
  },
  {
   "cell_type": "code",
   "execution_count": 213,
   "metadata": {},
   "outputs": [],
   "source": [
    "from qiskit_aer.primitives import Estimator \n",
    "\n",
    "backend = Estimator()"
   ]
  },
  {
   "cell_type": "code",
   "execution_count": 214,
   "metadata": {},
   "outputs": [
    {
     "name": "stdout",
     "output_type": "stream",
     "text": [
      "[1.]\n",
      "[0.]\n",
      "[1.41421356]\n",
      "[-1.]\n",
      "[1.]\n",
      "[0.]\n",
      "[1.41421356]\n",
      "[1.11022302e-16]\n",
      "[-1.]\n",
      "[1.]\n"
     ]
    }
   ],
   "source": [
    "for j in range(num_bits):\n",
    "    a = alice_random_bits[j]\n",
    "    b = bob_random_bits[j]\n",
    "\n",
    "    job = backend.run( qc, A[a] ^ B[b], shots=1 )\n",
    "    value = job.result().values\n",
    "    print(value) "
   ]
  },
  {
   "cell_type": "code",
   "execution_count": null,
   "metadata": {},
   "outputs": [],
   "source": []
  }
 ],
 "metadata": {
  "kernelspec": {
   "display_name": "ECC2025",
   "language": "python",
   "name": "python3"
  },
  "language_info": {
   "codemirror_mode": {
    "name": "ipython",
    "version": 3
   },
   "file_extension": ".py",
   "mimetype": "text/x-python",
   "name": "python",
   "nbconvert_exporter": "python",
   "pygments_lexer": "ipython3",
   "version": "3.12.6"
  }
 },
 "nbformat": 4,
 "nbformat_minor": 2
}
